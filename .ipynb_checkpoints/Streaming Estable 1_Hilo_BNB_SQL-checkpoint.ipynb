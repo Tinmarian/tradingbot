{
 "cells": [
  {
   "cell_type": "code",
   "execution_count": 3,
   "id": "08e4b256",
   "metadata": {
    "scrolled": true
   },
   "outputs": [
    {
     "ename": "KeyboardInterrupt",
     "evalue": "",
     "output_type": "error",
     "traceback": [
      "\u001b[1;31m---------------------------------------------------------------------------\u001b[0m",
      "\u001b[1;31mKeyboardInterrupt\u001b[0m                         Traceback (most recent call last)",
      "Input \u001b[1;32mIn [3]\u001b[0m, in \u001b[0;36m<cell line: 17>\u001b[1;34m()\u001b[0m\n\u001b[0;32m     14\u001b[0m df \u001b[38;5;241m=\u001b[39m pd\u001b[38;5;241m.\u001b[39mDataFrame()\n\u001b[0;32m     15\u001b[0m \u001b[38;5;28;01mwhile\u001b[39;00m \u001b[38;5;28;01mTrue\u001b[39;00m:\n\u001b[1;32m---> 17\u001b[0m     oldest_data_from_stream_buffer \u001b[38;5;241m=\u001b[39m \u001b[43mbws\u001b[49m\u001b[38;5;241;43m.\u001b[39;49m\u001b[43mpop_stream_data_from_stream_buffer\u001b[49m\u001b[43m(\u001b[49m\u001b[43m)\u001b[49m\n\u001b[0;32m     18\u001b[0m     \u001b[38;5;28;01mif\u001b[39;00m oldest_data_from_stream_buffer:        \n\u001b[0;32m     19\u001b[0m         df \u001b[38;5;241m=\u001b[39m pd\u001b[38;5;241m.\u001b[39mDataFrame([oldest_data_from_stream_buffer])\n",
      "File \u001b[1;32m~\\anaconda3\\lib\\site-packages\\unicorn_binance_websocket_api\\manager.py:2825\u001b[0m, in \u001b[0;36mBinanceWebSocketApiManager.pop_stream_data_from_stream_buffer\u001b[1;34m(self, stream_buffer_name, mode)\u001b[0m\n\u001b[0;32m   2823\u001b[0m \u001b[38;5;28;01mwith\u001b[39;00m \u001b[38;5;28mself\u001b[39m\u001b[38;5;241m.\u001b[39mstream_buffer_lock:\n\u001b[0;32m   2824\u001b[0m     \u001b[38;5;28;01mif\u001b[39;00m mode\u001b[38;5;241m.\u001b[39mupper() \u001b[38;5;241m==\u001b[39m \u001b[38;5;124m\"\u001b[39m\u001b[38;5;124mFIFO\u001b[39m\u001b[38;5;124m\"\u001b[39m:\n\u001b[1;32m-> 2825\u001b[0m         stream_data \u001b[38;5;241m=\u001b[39m \u001b[38;5;28;43mself\u001b[39;49m\u001b[38;5;241;43m.\u001b[39;49m\u001b[43mstream_buffer\u001b[49m\u001b[38;5;241;43m.\u001b[39;49m\u001b[43mpopleft\u001b[49m()\n\u001b[0;32m   2826\u001b[0m     \u001b[38;5;28;01melif\u001b[39;00m mode\u001b[38;5;241m.\u001b[39mupper() \u001b[38;5;241m==\u001b[39m \u001b[38;5;124m\"\u001b[39m\u001b[38;5;124mLIFO\u001b[39m\u001b[38;5;124m\"\u001b[39m:\n\u001b[0;32m   2827\u001b[0m         stream_data \u001b[38;5;241m=\u001b[39m \u001b[38;5;28mself\u001b[39m\u001b[38;5;241m.\u001b[39mstream_buffer\u001b[38;5;241m.\u001b[39mpop()\n",
      "\u001b[1;31mKeyboardInterrupt\u001b[0m: "
     ]
    }
   ],
   "source": [
    "from unicorn_binance_websocket_api import BinanceWebSocketApiManager\n",
    "from IPython.display import clear_output\n",
    "import pandas as pd\n",
    "import time\n",
    "import sqlalchemy\n",
    "from datetime import date\n",
    "from datetime import datetime\n",
    "import gc\n",
    "\n",
    "bws = BinanceWebSocketApiManager(exchange=\"binance.com\")\n",
    "bws.create_stream(['trade'], ['bnbusdt'], output = \"UnicornFy\") \n",
    "engine_BNB = sqlalchemy.create_engine('sqlite:///BNBUSDTstream_SQL.db')\n",
    "\n",
    "df = pd.DataFrame()\n",
    "while True:\n",
    "\n",
    "    oldest_data_from_stream_buffer = bws.pop_stream_data_from_stream_buffer()\n",
    "    if oldest_data_from_stream_buffer:        \n",
    "        df = pd.DataFrame([oldest_data_from_stream_buffer])\n",
    "        if df.columns[0] == 'result':\n",
    "            print(df.columns)\n",
    "        else:\n",
    "            df['Tiempo_evento'] = pd.to_datetime(df.event_time, unit='ms').item().strftime('%m/%d/%y-%H:%M:%S.%f')\n",
    "            df['Tiempo_trade'] = pd.to_datetime(df.trade_time, unit='ms').item().strftime('%m/%d/%y-%H:%M:%S.%f')\n",
    "            df = df.assign(Tiempo_actual=datetime.utcnow())\n",
    "            df.Tiempo_actual = df.Tiempo_actual.item().strftime('%m/%d/%y-%H:%M:%S.%f')\n",
    "            df = df.assign(Mes = pd.to_datetime(df.trade_time, unit='ms').item().strftime('%m'))\n",
    "            df = df.assign(Dia_trade = pd.to_datetime(df.trade_time, unit='ms').item().strftime('%d'))\n",
    "            df = df.assign(Dia_actual = pd.to_datetime(df.Tiempo_actual).item().strftime('%d'))\n",
    "            df = df.assign(Año = pd.to_datetime(df.trade_time, unit='ms').item().strftime('%y'))\n",
    "            df = df.assign(Hora_trade = pd.to_datetime(df.trade_time, unit='ms').item().strftime('%H'))\n",
    "            df = df.assign(Hora_actual = pd.to_datetime(df.Tiempo_actual).item().strftime('%H'))\n",
    "            df = df.assign(Minuto_trade = pd.to_datetime(df.trade_time, unit='ms').item().strftime('%M'))\n",
    "            df = df.assign(Segundo_trade = pd.to_datetime(df.trade_time, unit='ms').item().strftime('%S'))\n",
    "            df = df.assign(Milisegundo_trade = pd.to_datetime(df.trade_time, unit='ms').item().strftime('%f'))\n",
    "            df = df.assign(Minuto_Actual = pd.to_datetime(df.Tiempo_actual).item().strftime('%M'))\n",
    "            df = df.assign(Segundo_Actual = pd.to_datetime(df.Tiempo_actual).item().strftime('%S'))\n",
    "            df = df.assign(Milisegundo_Actual = pd.to_datetime(df.Tiempo_actual).item().strftime('%f'))\n",
    "            df = df.loc[:,[\n",
    "                            'Año', 'Mes', 'Dia_actual', 'Dia_trade',  'Hora_actual', 'Hora_trade', 'Minuto_Actual',\n",
    "                            'Minuto_trade', 'Segundo_Actual', 'Segundo_trade', 'Milisegundo_Actual', 'Milisegundo_trade', \n",
    "                            'Hora_trade', 'Minuto_trade', 'Segundo_trade', 'Milisegundo_trade', 'Tiempo_evento', 'Tiempo_trade', \n",
    "                            'Tiempo_actual', 'buyer_order_id', 'seller_order_id', 'trade_id',\n",
    "                            'symbol', 'price', 'quantity', 'is_market_maker']]\n",
    "            df.columns = [\n",
    "                            'Año', 'Mes', 'Dia_actual', 'Dia_trade',  'Hora_actual', 'Hora_trade', 'Minuto_Actual', \n",
    "                            'Minuto_trade', 'Segundo_Actual', 'Segundo_trade', 'Milisegundo_Actual', 'Milisegundo_trade', \n",
    "                            'Hora_trade', 'Minuto_trade', 'Segundo_trade', 'Milisegundo_trade', \"Tiempo_Evento\", \"Tiempo_Trade\", \n",
    "                            \"Tiempo_Actual\", \"ID_pedido_comprador\", \"ID_pedido_vendedor\", \n",
    "                            \"ID_trade\", \"Moneda\", \"Precio\", \"Cantidad\", \"Para_Despues\"\n",
    "                            ]\n",
    "            df = df.assign(Total_USD = float(df.Precio)*float(df.Cantidad))\n",
    "            df.to_sql(                                    \n",
    "                'BNBUSDT_1hilo', \n",
    "                engine_BNB, \n",
    "                if_exists='append', \n",
    "                index=True\n",
    "                )\n",
    "            print(df)\n",
    "            clear_output(wait=True)"
   ]
  }
 ],
 "metadata": {
  "kernelspec": {
   "display_name": "Python 3 (ipykernel)",
   "language": "python",
   "name": "python3"
  },
  "language_info": {
   "codemirror_mode": {
    "name": "ipython",
    "version": 3
   },
   "file_extension": ".py",
   "mimetype": "text/x-python",
   "name": "python",
   "nbconvert_exporter": "python",
   "pygments_lexer": "ipython3",
   "version": "3.9.12"
  }
 },
 "nbformat": 4,
 "nbformat_minor": 5
}
