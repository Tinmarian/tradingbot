{
 "cells": [
  {
   "cell_type": "code",
   "execution_count": 1,
   "id": "612bf873",
   "metadata": {},
   "outputs": [],
   "source": [
    "%load_ext sql"
   ]
  },
  {
   "cell_type": "code",
   "execution_count": 2,
   "id": "78526ba5",
   "metadata": {},
   "outputs": [],
   "source": [
    "%sql sqlite:///BTCUSDTstream_SQL.db"
   ]
  },
  {
   "cell_type": "code",
   "execution_count": 7,
   "id": "87316603",
   "metadata": {},
   "outputs": [
    {
     "name": "stdout",
     "output_type": "stream",
     "text": [
      " * sqlite:///BTCUSDTstream_SQL.db\n",
      "Done.\n"
     ]
    },
    {
     "data": {
      "text/html": [
       "<table>\n",
       "    <tr>\n",
       "        <th>Tabla</th>\n",
       "    </tr>\n",
       "    <tr>\n",
       "        <td>BTCUSDT_3hilos</td>\n",
       "    </tr>\n",
       "</table>"
      ],
      "text/plain": [
       "[('BTCUSDT_3hilos',)]"
      ]
     },
     "execution_count": 7,
     "metadata": {},
     "output_type": "execute_result"
    }
   ],
   "source": [
    "%%sql\n",
    "\n",
    "SELECT name AS Tabla FROM sqlite_master WHERE type='table'"
   ]
  },
  {
   "cell_type": "code",
   "execution_count": 8,
   "id": "751bfb29",
   "metadata": {},
   "outputs": [
    {
     "name": "stdout",
     "output_type": "stream",
     "text": [
      " * sqlite:///BTCUSDTstream_SQL.db\n",
      "Done.\n",
      " * sqlite:///BTCUSDTstream_SQL.db\n",
      "(sqlite3.OperationalError) no such table: BTCUSDT_1hilo\n",
      "[SQL: DROP TABLE BTCUSDT_1hilo]\n",
      "(Background on this error at: https://sqlalche.me/e/14/e3q8)\n"
     ]
    }
   ],
   "source": [
    "%sql DROP TABLE BTCUSDT_3hilos\n",
    "%sql DROP TABLE BTCUSDT_1hilo\n",
    "# %sql DROP TABLE BTCUSDT_6\n",
    "# %sql DROP TABLE BTCUSDT_table"
   ]
  },
  {
   "cell_type": "code",
   "execution_count": null,
   "id": "202d2bed",
   "metadata": {},
   "outputs": [],
   "source": [
    "%sql SELECT * FROM BTCUSDT_3hilos LIMIT -100"
   ]
  },
  {
   "cell_type": "code",
   "execution_count": null,
   "id": "5ebe3c1b",
   "metadata": {},
   "outputs": [],
   "source": [
    "%sql SELECT * FROM BTCUSDT_1hilo LIMIT -100"
   ]
  },
  {
   "cell_type": "code",
   "execution_count": null,
   "id": "54e80d9e",
   "metadata": {},
   "outputs": [],
   "source": []
  }
 ],
 "metadata": {
  "kernelspec": {
   "display_name": "Python 3 (ipykernel)",
   "language": "python",
   "name": "python3"
  },
  "language_info": {
   "codemirror_mode": {
    "name": "ipython",
    "version": 3
   },
   "file_extension": ".py",
   "mimetype": "text/x-python",
   "name": "python",
   "nbconvert_exporter": "python",
   "pygments_lexer": "ipython3",
   "version": "3.9.12"
  }
 },
 "nbformat": 4,
 "nbformat_minor": 5
}
