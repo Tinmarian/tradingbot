{
 "cells": [
  {
   "cell_type": "code",
   "execution_count": 1,
   "id": "612bf873",
   "metadata": {},
   "outputs": [],
   "source": [
    "%load_ext sql"
   ]
  },
  {
   "cell_type": "code",
   "execution_count": 2,
   "id": "78526ba5",
   "metadata": {},
   "outputs": [],
   "source": [
    "%sql sqlite:///BNBUSDTstream_SQL.db"
   ]
  },
  {
   "cell_type": "code",
   "execution_count": 5,
   "id": "4c43bab6",
   "metadata": {},
   "outputs": [
    {
     "name": "stdout",
     "output_type": "stream",
     "text": [
      " * sqlite:///BNBUSDTstream_SQL.db\n",
      "Done.\n"
     ]
    },
    {
     "data": {
      "text/html": [
       "<table>\n",
       "    <tr>\n",
       "        <th>Tabla</th>\n",
       "    </tr>\n",
       "</table>"
      ],
      "text/plain": [
       "[]"
      ]
     },
     "execution_count": 5,
     "metadata": {},
     "output_type": "execute_result"
    }
   ],
   "source": [
    "%%sql\n",
    "\n",
    "SELECT name AS Tabla FROM sqlite_master WHERE type='table'"
   ]
  },
  {
   "cell_type": "code",
   "execution_count": 8,
   "id": "751bfb29",
   "metadata": {},
   "outputs": [
    {
     "name": "stdout",
     "output_type": "stream",
     "text": [
      " * sqlite:///BNBUSDTstream_SQL.db\n",
      "Done.\n",
      " * sqlite:///BNBUSDTstream_SQL.db\n",
      "(sqlite3.OperationalError) no such table: BNBUSDT_1hilo\n",
      "[SQL: DROP TABLE BNBUSDT_1hilo]\n",
      "(Background on this error at: https://sqlalche.me/e/14/e3q8)\n"
     ]
    }
   ],
   "source": [
    "%sql DROP TABLE BNBUSDT_3hilos\n",
    "%sql DROP TABLE BNBUSDT_1hilo\n",
    "# %sql DROP TABLE BNBUSDT_6\n",
    "# %sql DROP TABLE BNBUSDT_table"
   ]
  },
  {
   "cell_type": "code",
   "execution_count": null,
   "id": "202d2bed",
   "metadata": {},
   "outputs": [],
   "source": []
  },
  {
   "cell_type": "code",
   "execution_count": null,
   "id": "5ebe3c1b",
   "metadata": {},
   "outputs": [],
   "source": []
  },
  {
   "cell_type": "code",
   "execution_count": null,
   "id": "54e80d9e",
   "metadata": {},
   "outputs": [],
   "source": []
  }
 ],
 "metadata": {
  "kernelspec": {
   "display_name": "Python 3 (ipykernel)",
   "language": "python",
   "name": "python3"
  },
  "language_info": {
   "codemirror_mode": {
    "name": "ipython",
    "version": 3
   },
   "file_extension": ".py",
   "mimetype": "text/x-python",
   "name": "python",
   "nbconvert_exporter": "python",
   "pygments_lexer": "ipython3",
   "version": "3.9.12"
  }
 },
 "nbformat": 4,
 "nbformat_minor": 5
}
