{
 "cells": [
  {
   "cell_type": "code",
   "execution_count": 1,
   "metadata": {},
   "outputs": [],
   "source": [
    "from binance import Client\n",
    "import pandas as pd\n",
    "import os\n",
    "import numpy as np\n",
    "from datetime import datetime"
   ]
  },
  {
   "cell_type": "code",
   "execution_count": 4,
   "metadata": {},
   "outputs": [],
   "source": [
    "client = Client()\n",
    "\n",
    "listacriptos = []\n",
    "exchange_info = client.get_exchange_info()\n",
    "for s in exchange_info['symbols']:\n",
    "    listacriptos.append(s['symbol'])\n",
    "\n",
    "PAIRS = pd.Series(listacriptos)\n",
    "USDTPAIRS = PAIRS[PAIRS.str.contains('USDT')]\n",
    "BTCPAIRS = PAIRS[PAIRS.str.contains('BTC')]\n",
    "ETHPAIRS = PAIRS[(PAIRS.str.contains('ETH')) & (PAIRS.str.contains('ETHFI') == False)]"
   ]
  },
  {
   "cell_type": "code",
   "execution_count": 2,
   "metadata": {},
   "outputs": [],
   "source": [
    "def pull_historical_data(pair,kline_interval):\n",
    "\n",
    "    file_path = f'C:/Users/tinma/OneDrive/Escritorio/tradingbot/csvs/historical/by{kline_interval}/{pair}'\n",
    "    dir_path = f'C:/Users/tinma/OneDrive/Escritorio/tradingbot/csvs/historical/by{kline_interval}/'\n",
    "    \n",
    "    if os.path.exists(dir_path):\n",
    "        pass\n",
    "    else:\n",
    "        os.mkdir(dir_path)\n",
    "\n",
    "    df = pd.DataFrame(client.get_historical_klines(pair,kline_interval,'10 years ago UTC'))\n",
    "    df = df.iloc[:,:6]\n",
    "    df.columns = ['Tiempo','Open','High','Low','Close','Volume']\n",
    "    df['Tiempo'] = pd.to_datetime(df.Tiempo,unit='ms')\n",
    "    df = df.set_index('Tiempo')\n",
    "    df = df.astype(float)\n",
    "    df.to_csv(file_path)"
   ]
  },
  {
   "cell_type": "code",
   "execution_count": 9,
   "metadata": {},
   "outputs": [],
   "source": [
    "# Se pueden subdividir los análisis temporales a periodos de trading cortos, medianos y largos, cómo lo son los cortos: 1m, 3m, 5m, 15m, 30m, 1h; medianos: 4h, 6h, 8h, 12h, 1D, 1W; \n",
    "# largos: 2W, 1M, 3M, 6M, 1Y o más. \n",
    "\n",
    "for interval in ['15m','30m','1h','4h','6h','8h','12h','1D','1w','1M','3M','']:\n",
    "    for pair in USDTPAIRS\n",
    "    print('BTCTUSD',interval,datetime.now())\n",
    "    pull_historical_data('BTCTUSD',interval)\n",
    "\n",
    "pull_historical_data('BTCTUSD','1w')"
   ]
  }
 ],
 "metadata": {
  "kernelspec": {
   "display_name": "Python 3",
   "language": "python",
   "name": "python3"
  },
  "language_info": {
   "codemirror_mode": {
    "name": "ipython",
    "version": 3
   },
   "file_extension": ".py",
   "mimetype": "text/x-python",
   "name": "python",
   "nbconvert_exporter": "python",
   "pygments_lexer": "ipython3",
   "version": "3.10.8"
  },
  "orig_nbformat": 4
 },
 "nbformat": 4,
 "nbformat_minor": 2
}
