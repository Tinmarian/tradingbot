{
 "cells": [
  {
   "cell_type": "code",
   "execution_count": 5,
   "metadata": {},
   "outputs": [],
   "source": [
    "from binance import Client\n",
    "import pandas as pd\n",
    "import os\n",
    "import numpy as np\n",
    "from datetime import datetime"
   ]
  },
  {
   "cell_type": "code",
   "execution_count": 2,
   "metadata": {},
   "outputs": [],
   "source": [
    "client = Client()"
   ]
  },
  {
   "cell_type": "code",
   "execution_count": 3,
   "metadata": {},
   "outputs": [],
   "source": [
    "def pull_historical_data(pair,kline_interval):\n",
    "\n",
    "    file_path = f'C:/Users/tinma/OneDrive/Escritorio/tradingbot/csvs/historical/by{kline_interval}/{pair}'\n",
    "    dir_path = f'C:/Users/tinma/OneDrive/Escritorio/tradingbot/csvs/historical/by{kline_interval}/'\n",
    "    \n",
    "    if os.path.exists(dir_path):\n",
    "        pass\n",
    "    else:\n",
    "        os.mkdir(dir_path)\n",
    "\n",
    "    df = pd.DataFrame(client.get_historical_klines(pair,kline_interval,'10 years ago UTC'))\n",
    "    df = df.iloc[:,:6]\n",
    "    df.columns = ['Tiempo','Open','High','Low','Close','Volume']\n",
    "    df['Tiempo'] = pd.to_datetime(df.Tiempo,unit='ms')\n",
    "    df = df.set_index('Tiempo')\n",
    "    df = df.astype(float)\n",
    "    df.to_csv(file_path)"
   ]
  },
  {
   "cell_type": "code",
   "execution_count": 4,
   "metadata": {},
   "outputs": [
    {
     "data": {
      "text/html": [
       "<div>\n",
       "<style scoped>\n",
       "    .dataframe tbody tr th:only-of-type {\n",
       "        vertical-align: middle;\n",
       "    }\n",
       "\n",
       "    .dataframe tbody tr th {\n",
       "        vertical-align: top;\n",
       "    }\n",
       "\n",
       "    .dataframe thead th {\n",
       "        text-align: right;\n",
       "    }\n",
       "</style>\n",
       "<table border=\"1\" class=\"dataframe\">\n",
       "  <thead>\n",
       "    <tr style=\"text-align: right;\">\n",
       "      <th></th>\n",
       "      <th>pairs</th>\n",
       "    </tr>\n",
       "  </thead>\n",
       "  <tbody>\n",
       "    <tr>\n",
       "      <th>0</th>\n",
       "      <td>1INCHUSDT</td>\n",
       "    </tr>\n",
       "    <tr>\n",
       "      <th>1</th>\n",
       "      <td>AAVEUSDT</td>\n",
       "    </tr>\n",
       "    <tr>\n",
       "      <th>2</th>\n",
       "      <td>ACAUSDT</td>\n",
       "    </tr>\n",
       "    <tr>\n",
       "      <th>3</th>\n",
       "      <td>ACHUSDT</td>\n",
       "    </tr>\n",
       "    <tr>\n",
       "      <th>4</th>\n",
       "      <td>ACMUSDT</td>\n",
       "    </tr>\n",
       "    <tr>\n",
       "      <th>...</th>\n",
       "      <td>...</td>\n",
       "    </tr>\n",
       "    <tr>\n",
       "      <th>351</th>\n",
       "      <td>YGGUSDT</td>\n",
       "    </tr>\n",
       "    <tr>\n",
       "      <th>352</th>\n",
       "      <td>ZECUSDT</td>\n",
       "    </tr>\n",
       "    <tr>\n",
       "      <th>353</th>\n",
       "      <td>ZENUSDT</td>\n",
       "    </tr>\n",
       "    <tr>\n",
       "      <th>354</th>\n",
       "      <td>ZILUSDT</td>\n",
       "    </tr>\n",
       "    <tr>\n",
       "      <th>355</th>\n",
       "      <td>ZRXUSDT</td>\n",
       "    </tr>\n",
       "  </tbody>\n",
       "</table>\n",
       "<p>356 rows × 1 columns</p>\n",
       "</div>"
      ],
      "text/plain": [
       "         pairs\n",
       "0    1INCHUSDT\n",
       "1     AAVEUSDT\n",
       "2      ACAUSDT\n",
       "3      ACHUSDT\n",
       "4      ACMUSDT\n",
       "..         ...\n",
       "351    YGGUSDT\n",
       "352    ZECUSDT\n",
       "353    ZENUSDT\n",
       "354    ZILUSDT\n",
       "355    ZRXUSDT\n",
       "\n",
       "[356 rows x 1 columns]"
      ]
     },
     "execution_count": 4,
     "metadata": {},
     "output_type": "execute_result"
    }
   ],
   "source": [
    "pairs = os.listdir('C:/Users/tinma/OneDrive/Escritorio/tradingbot/csvs/streaming')\n",
    "pairs = pd.DataFrame(pairs,columns=['pairs'])\n",
    "pairs"
   ]
  },
  {
   "cell_type": "code",
   "execution_count": 9,
   "metadata": {},
   "outputs": [],
   "source": [
    "# for interval in ['1m','3m','5m','30m','2h','6h','8h','12h','3D','1w']:\n",
    "#     print('BTCTUSD',interval,datetime.now())\n",
    "#     pull_historical_data('BTCTUSD',interval)\n",
    "\n",
    "pull_historical_data('BTCTUSD','1w')"
   ]
  }
 ],
 "metadata": {
  "kernelspec": {
   "display_name": "Python 3",
   "language": "python",
   "name": "python3"
  },
  "language_info": {
   "codemirror_mode": {
    "name": "ipython",
    "version": 3
   },
   "file_extension": ".py",
   "mimetype": "text/x-python",
   "name": "python",
   "nbconvert_exporter": "python",
   "pygments_lexer": "ipython3",
   "version": "3.10.8"
  },
  "orig_nbformat": 4
 },
 "nbformat": 4,
 "nbformat_minor": 2
}
