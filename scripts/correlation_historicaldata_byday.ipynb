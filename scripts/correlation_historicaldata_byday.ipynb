{
 "cells": [
  {
   "cell_type": "code",
   "execution_count": null,
   "metadata": {},
   "outputs": [
    {
     "ename": "",
     "evalue": "",
     "output_type": "error",
     "traceback": [
      "\u001b[1;31mNo se pudo iniciar el kernel porque no se pudo cargar un archivo DLL.\n",
      "\u001b[1;31mHaga clic <a href='https://aka.ms/kernelFailuresDllLoad'>aquí</a> para obtener más información."
     ]
    }
   ],
   "source": [
    "import pandas as pd\n",
    "import os\n",
    "import numpy as np"
   ]
  },
  {
   "cell_type": "code",
   "execution_count": 5,
   "metadata": {},
   "outputs": [
    {
     "data": {
      "text/plain": [
       "BTCUSDT      1.000000\n",
       "WBTCUSDT     0.993771\n",
       "BETHUSDT     0.850860\n",
       "LTCUSDT      0.804852\n",
       "ETHUSDT      0.794857\n",
       "BCHUSDT      0.784279\n",
       "ILVUSDT      0.767294\n",
       "GNOUSDT      0.766525\n",
       "COMBOUSDT    0.755473\n",
       "EOSUSDT      0.737609\n",
       "Name: BTCUSDT, dtype: float64"
      ]
     },
     "execution_count": 5,
     "metadata": {},
     "output_type": "execute_result"
    }
   ],
   "source": [
    "# Este script solo muestra las correlaciones más significativas que tienen las principales criptos: BTC, BNB y ETH.\n",
    "\n",
    "# De aquí podemos obtener más pares de trading además de los 3 principales.\n",
    "\n",
    "path = 'C:/Users/tinma/OneDrive/Escritorio/tradingbot/csvs/historical/byday/6years/'\n",
    "pairs = os.listdir(path)\n",
    "pairs = pd.DataFrame(pairs,columns=['pairs'])\n",
    "\n",
    "downs = pairs[pairs['pairs'].str.contains('DOWN')]\n",
    "ups = pairs[pairs['pairs'].str.contains('UP')]\n",
    "ups_downs = pd.concat([ups, downs], ignore_index=True)\n",
    "ups_downs = ups_downs[ups_downs['pairs'].str.contains('SUPERUSDT')==False]\n",
    "\n",
    "for x in ups_downs['pairs']:\n",
    "    pairs = pairs[pairs['pairs'].str.contains(x)==False]\n",
    "\n",
    "dfs = []\n",
    "\n",
    "for pair in pairs['pairs']:\n",
    "    df = pd.read_csv(path+pair)\n",
    "    df = df.set_index('Time')\n",
    "    dfs.append(df)\n",
    "\n",
    "df = pd.concat(dict(zip(pairs['pairs'],dfs)), axis=1)\n",
    "\n",
    "closedf = df.loc[:,df.columns.get_level_values(1).isin(['Close'])]\n",
    "closedf = closedf.sort_index()\n",
    "closedf.columns = closedf.columns.droplevel(1)\n",
    "closedf\n",
    "\n",
    "logretdf = np.log(closedf.pct_change() + 1)\n",
    "logretdf = logretdf.sort_index()\n",
    "\n",
    "corrdf = logretdf.corr()\n",
    "# corrdf\n",
    "corr_larg = []\n",
    "corr_low = []\n",
    "primary_pairs = ['BTCUSDT','BNBUSDT','ETHUSDT']\n",
    "for x in primary_pairs:\n",
    "    corr_pairs = corrdf[x].nlargest(10)\n",
    "    corr_larg.append(corr_pairs)\n",
    "    corr_pairs = corrdf[x].nsmallest(10)\n",
    "    corr_low.append(corr_pairs)\n",
    "corr_larg[0]"
   ]
  }
 ],
 "metadata": {
  "kernelspec": {
   "display_name": "base",
   "language": "python",
   "name": "python3"
  },
  "language_info": {
   "codemirror_mode": {
    "name": "ipython",
    "version": 3
   },
   "file_extension": ".py",
   "mimetype": "text/x-python",
   "name": "python",
   "nbconvert_exporter": "python",
   "pygments_lexer": "ipython3",
   "version": "3.9.12"
  },
  "orig_nbformat": 4
 },
 "nbformat": 4,
 "nbformat_minor": 2
}
