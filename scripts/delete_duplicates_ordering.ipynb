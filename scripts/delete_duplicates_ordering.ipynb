{
 "cells": [
  {
   "cell_type": "code",
   "execution_count": 1,
   "metadata": {},
   "outputs": [],
   "source": [
    "import os\n",
    "from google.cloud.sql.connector import Connector\n",
    "from sqlalchemy import create_engine, text\n",
    "import pg8000.native\n",
    "import pandas as pd\n",
    "\n",
    "os.environ['GOOGLE_APPLICATION_CREDENTIALS'] = 'C:/Users/tinma/OneDrive/Escritorio/application_default_credentials.json'\n",
    "\n",
    "connector = Connector()\n",
    "\n",
    "def getconn() -> pg8000.native.Connection:\n",
    "    conn: pg8000.native.Connection = connector.connect(\n",
    "        \"semiotic-pact-388619:us-central1:tradingbot\",\n",
    "        \"pg8000\",\n",
    "        user=\"postgres\",\n",
    "        password=\"GuruSat.3\",\n",
    "        db=\"criptos\"\n",
    "    )\n",
    "    return conn\n",
    "\n",
    "connection = create_engine('postgresql+pg8000://',creator=getconn)"
   ]
  },
  {
   "cell_type": "code",
   "execution_count": 7,
   "metadata": {},
   "outputs": [],
   "source": [
    "path = 'C:/Users/tinma/OneDrive/Escritorio/tradingbot/csvs/historical/byday/6years/'\n",
    "pairs = os.listdir(path)\n",
    "pairs = pd.DataFrame(pairs,columns=['pairs'])\n",
    "\n",
    "downs = pairs[pairs['pairs'].str.contains('DOWN')]\n",
    "ups = pairs[pairs['pairs'].str.contains('UP')]\n",
    "ups_downs = pd.concat([ups, downs], ignore_index=True)\n",
    "ups_downs = ups_downs[ups_downs['pairs'].str.contains('SUPERUSDT')==False]\n",
    "\n",
    "for x in ups_downs['pairs']:\n",
    "    pairs = pairs[pairs['pairs'].str.contains(x)==False]\n",
    "\n",
    "for pair in pairs['pairs']:\n",
    "    with connection.connect() as conn:\n",
    "        conn.execute(text(\"\"\" DELETE FROM \"{pair}\" WHERE \"Tiempo\" IN (SELECT \"Tiempo\" FROM (SELECT \"Tiempo\", ROW_NUMBER() OVER( PARTITION BY \"Tiempo\" ORDER BY  \"Tiempo\" ) AS row_num FROM \"{pair}\" ) t WHERE t.row_num > 1 ) \"\"\".format(pair=pair)))"
   ]
  }
 ],
 "metadata": {
  "kernelspec": {
   "display_name": "Python 3",
   "language": "python",
   "name": "python3"
  },
  "language_info": {
   "codemirror_mode": {
    "name": "ipython",
    "version": 3
   },
   "file_extension": ".py",
   "mimetype": "text/x-python",
   "name": "python",
   "nbconvert_exporter": "python",
   "pygments_lexer": "ipython3",
   "version": "3.10.8"
  },
  "orig_nbformat": 4
 },
 "nbformat": 4,
 "nbformat_minor": 2
}
