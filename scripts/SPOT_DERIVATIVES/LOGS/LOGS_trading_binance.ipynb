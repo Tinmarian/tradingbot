{
 "cells": [
  {
   "cell_type": "code",
   "execution_count": 5,
   "metadata": {},
   "outputs": [
    {
     "data": {
      "text/plain": [
       "110"
      ]
     },
     "execution_count": 5,
     "metadata": {},
     "output_type": "execute_result"
    }
   ],
   "source": [
    "from binance import Client\n",
    "client = Client(api_key=\"VQaW84v81fvM6b0z2cG97q0FBGK0VDVNYZGxPlMYkL1caao8u7lSrSWxeE5c6NKq\",api_secret=\"9XgnO5nds9V8UVw5O8D0J6NHNPqL4ojj5t3FxZs7xqc8sd8MwEt44QshkT3W9auM\",tld='com')\n",
    "\n",
    "list_orders = client.get_all_orders(symbol='BTCUSDT',recvWindow=30000)\n",
    "len(list_orders)"
   ]
  },
  {
   "cell_type": "code",
   "execution_count": 6,
   "metadata": {},
   "outputs": [
    {
     "data": {
      "text/plain": [
       "{'symbol': 'BTCUSDT',\n",
       " 'orderId': 5385776796,\n",
       " 'orderListId': -1,\n",
       " 'clientOrderId': 'and_331a5682cde942c7830450b9fd37d523',\n",
       " 'price': '56285.04000000',\n",
       " 'origQty': '0.00034500',\n",
       " 'executedQty': '0.00034500',\n",
       " 'cummulativeQuoteQty': '19.42375875',\n",
       " 'status': 'FILLED',\n",
       " 'timeInForce': 'GTC',\n",
       " 'type': 'LIMIT',\n",
       " 'side': 'SELL',\n",
       " 'stopPrice': '0.00000000',\n",
       " 'icebergQty': '0.00000000',\n",
       " 'time': 1617006774482,\n",
       " 'updateTime': 1617006774482,\n",
       " 'isWorking': True,\n",
       " 'workingTime': 1617006774482,\n",
       " 'origQuoteOrderQty': '0.00000000',\n",
       " 'selfTradePreventionMode': 'NONE'}"
      ]
     },
     "execution_count": 6,
     "metadata": {},
     "output_type": "execute_result"
    }
   ],
   "source": [
    "list_orders[0]"
   ]
  },
  {
   "cell_type": "code",
   "execution_count": null,
   "metadata": {},
   "outputs": [],
   "source": [
    "marketorder_buy['orderId'],marketorder_buy['fills'][0]['price'],marketorder_buy['fills'][0]['qty'],marketorder_buy['workingTime'],marketorder_buy['fills'][0]['commission'],marketorder_buy['fills'][0]['tradeId']"
   ]
  }
 ],
 "metadata": {
  "kernelspec": {
   "display_name": "Python 3",
   "language": "python",
   "name": "python3"
  },
  "language_info": {
   "codemirror_mode": {
    "name": "ipython",
    "version": 3
   },
   "file_extension": ".py",
   "mimetype": "text/x-python",
   "name": "python",
   "nbconvert_exporter": "python",
   "pygments_lexer": "ipython3",
   "version": "3.10.8"
  }
 },
 "nbformat": 4,
 "nbformat_minor": 2
}
