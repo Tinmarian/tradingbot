{
 "cells": [
  {
   "cell_type": "code",
   "execution_count": 1,
   "metadata": {},
   "outputs": [
    {
     "name": "stdout",
     "output_type": "stream",
     "text": [
      "Requirement already satisfied: cloud-sql-python-connector in c:\\users\\tinma\\appdata\\local\\programs\\python\\python310\\lib\\site-packages (1.2.4)\n",
      "Requirement already satisfied: cryptography>=38.0.3 in c:\\users\\tinma\\appdata\\local\\programs\\python\\python310\\lib\\site-packages (from cloud-sql-python-connector) (39.0.1)\n",
      "Requirement already satisfied: aiohttp in c:\\users\\tinma\\appdata\\local\\programs\\python\\python310\\lib\\site-packages (from cloud-sql-python-connector) (3.8.4)\n",
      "Requirement already satisfied: google-auth in c:\\users\\tinma\\appdata\\local\\programs\\python\\python310\\lib\\site-packages (from cloud-sql-python-connector) (2.20.0)\n",
      "Requirement already satisfied: Requests in c:\\users\\tinma\\appdata\\local\\programs\\python\\python310\\lib\\site-packages (from cloud-sql-python-connector) (2.28.2)\n",
      "Requirement already satisfied: cffi>=1.12 in c:\\users\\tinma\\appdata\\local\\programs\\python\\python310\\lib\\site-packages (from cryptography>=38.0.3->cloud-sql-python-connector) (1.15.1)\n",
      "Requirement already satisfied: charset-normalizer<4.0,>=2.0 in c:\\users\\tinma\\appdata\\local\\programs\\python\\python310\\lib\\site-packages (from aiohttp->cloud-sql-python-connector) (3.0.1)\n",
      "Requirement already satisfied: aiosignal>=1.1.2 in c:\\users\\tinma\\appdata\\local\\programs\\python\\python310\\lib\\site-packages (from aiohttp->cloud-sql-python-connector) (1.3.1)\n",
      "Requirement already satisfied: frozenlist>=1.1.1 in c:\\users\\tinma\\appdata\\local\\programs\\python\\python310\\lib\\site-packages (from aiohttp->cloud-sql-python-connector) (1.3.3)\n",
      "Requirement already satisfied: async-timeout<5.0,>=4.0.0a3 in c:\\users\\tinma\\appdata\\local\\programs\\python\\python310\\lib\\site-packages (from aiohttp->cloud-sql-python-connector) (4.0.2)\n",
      "Requirement already satisfied: multidict<7.0,>=4.5 in c:\\users\\tinma\\appdata\\local\\programs\\python\\python310\\lib\\site-packages (from aiohttp->cloud-sql-python-connector) (6.0.4)\n",
      "Requirement already satisfied: yarl<2.0,>=1.0 in c:\\users\\tinma\\appdata\\local\\programs\\python\\python310\\lib\\site-packages (from aiohttp->cloud-sql-python-connector) (1.9.2)\n",
      "Requirement already satisfied: attrs>=17.3.0 in c:\\users\\tinma\\appdata\\local\\programs\\python\\python310\\lib\\site-packages (from aiohttp->cloud-sql-python-connector) (22.2.0)\n",
      "Requirement already satisfied: six>=1.9.0 in c:\\users\\tinma\\appdata\\roaming\\python\\python310\\site-packages (from google-auth->cloud-sql-python-connector) (1.16.0)\n",
      "Requirement already satisfied: urllib3<2.0 in c:\\users\\tinma\\appdata\\local\\programs\\python\\python310\\lib\\site-packages (from google-auth->cloud-sql-python-connector) (1.26.14)\n",
      "Requirement already satisfied: cachetools<6.0,>=2.0.0 in c:\\users\\tinma\\appdata\\local\\programs\\python\\python310\\lib\\site-packages (from google-auth->cloud-sql-python-connector) (5.3.1)\n",
      "Requirement already satisfied: rsa<5,>=3.1.4 in c:\\users\\tinma\\appdata\\local\\programs\\python\\python310\\lib\\site-packages (from google-auth->cloud-sql-python-connector) (4.9)\n",
      "Requirement already satisfied: pyasn1-modules>=0.2.1 in c:\\users\\tinma\\appdata\\local\\programs\\python\\python310\\lib\\site-packages (from google-auth->cloud-sql-python-connector) (0.3.0)\n",
      "Requirement already satisfied: idna<4,>=2.5 in c:\\users\\tinma\\appdata\\local\\programs\\python\\python310\\lib\\site-packages (from Requests->cloud-sql-python-connector) (3.4)\n",
      "Requirement already satisfied: certifi>=2017.4.17 in c:\\users\\tinma\\appdata\\local\\programs\\python\\python310\\lib\\site-packages (from Requests->cloud-sql-python-connector) (2022.12.7)\n",
      "Requirement already satisfied: pycparser in c:\\users\\tinma\\appdata\\local\\programs\\python\\python310\\lib\\site-packages (from cffi>=1.12->cryptography>=38.0.3->cloud-sql-python-connector) (2.21)\n",
      "Requirement already satisfied: pyasn1<0.6.0,>=0.4.6 in c:\\users\\tinma\\appdata\\local\\programs\\python\\python310\\lib\\site-packages (from pyasn1-modules>=0.2.1->google-auth->cloud-sql-python-connector) (0.5.0)\n"
     ]
    },
    {
     "name": "stderr",
     "output_type": "stream",
     "text": [
      "\n",
      "[notice] A new release of pip is available: 23.0 -> 23.1.2\n",
      "[notice] To update, run: python.exe -m pip install --upgrade pip\n"
     ]
    }
   ],
   "source": [
    "!pip install cloud-sql-python-connector"
   ]
  },
  {
   "cell_type": "code",
   "execution_count": 2,
   "metadata": {},
   "outputs": [
    {
     "name": "stdout",
     "output_type": "stream",
     "text": [
      "Requirement already satisfied: pg8000 in c:\\users\\tinma\\appdata\\local\\programs\\python\\python310\\lib\\site-packages (1.29.8)\n",
      "Requirement already satisfied: python-dateutil>=2.8.2 in c:\\users\\tinma\\appdata\\roaming\\python\\python310\\site-packages (from pg8000) (2.8.2)\n",
      "Requirement already satisfied: scramp>=1.4.3 in c:\\users\\tinma\\appdata\\local\\programs\\python\\python310\\lib\\site-packages (from pg8000) (1.4.4)\n",
      "Requirement already satisfied: six>=1.5 in c:\\users\\tinma\\appdata\\roaming\\python\\python310\\site-packages (from python-dateutil>=2.8.2->pg8000) (1.16.0)\n",
      "Requirement already satisfied: asn1crypto>=1.5.1 in c:\\users\\tinma\\appdata\\local\\programs\\python\\python310\\lib\\site-packages (from scramp>=1.4.3->pg8000) (1.5.1)\n"
     ]
    },
    {
     "name": "stderr",
     "output_type": "stream",
     "text": [
      "\n",
      "[notice] A new release of pip is available: 23.0 -> 23.1.2\n",
      "[notice] To update, run: python.exe -m pip install --upgrade pip\n"
     ]
    }
   ],
   "source": [
    "!pip install pg8000"
   ]
  },
  {
   "cell_type": "code",
   "execution_count": 3,
   "metadata": {},
   "outputs": [
    {
     "name": "stdout",
     "output_type": "stream",
     "text": [
      "Requirement already satisfied: python-binance in c:\\users\\tinma\\appdata\\local\\programs\\python\\python310\\lib\\site-packages (1.0.17)\n",
      "Requirement already satisfied: pycryptodome in c:\\users\\tinma\\appdata\\local\\programs\\python\\python310\\lib\\site-packages (from python-binance) (3.18.0)\n",
      "Requirement already satisfied: ujson in c:\\users\\tinma\\appdata\\local\\programs\\python\\python310\\lib\\site-packages (from python-binance) (5.8.0)\n",
      "Requirement already satisfied: websockets in c:\\users\\tinma\\appdata\\local\\programs\\python\\python310\\lib\\site-packages (from python-binance) (11.0.3)\n",
      "Requirement already satisfied: requests in c:\\users\\tinma\\appdata\\local\\programs\\python\\python310\\lib\\site-packages (from python-binance) (2.28.2)\n",
      "Requirement already satisfied: six in c:\\users\\tinma\\appdata\\roaming\\python\\python310\\site-packages (from python-binance) (1.16.0)\n",
      "Requirement already satisfied: aiohttp in c:\\users\\tinma\\appdata\\local\\programs\\python\\python310\\lib\\site-packages (from python-binance) (3.8.4)\n",
      "Requirement already satisfied: dateparser in c:\\users\\tinma\\appdata\\local\\programs\\python\\python310\\lib\\site-packages (from python-binance) (1.1.8)\n",
      "Requirement already satisfied: async-timeout<5.0,>=4.0.0a3 in c:\\users\\tinma\\appdata\\local\\programs\\python\\python310\\lib\\site-packages (from aiohttp->python-binance) (4.0.2)\n",
      "Requirement already satisfied: yarl<2.0,>=1.0 in c:\\users\\tinma\\appdata\\local\\programs\\python\\python310\\lib\\site-packages (from aiohttp->python-binance) (1.9.2)\n",
      "Requirement already satisfied: multidict<7.0,>=4.5 in c:\\users\\tinma\\appdata\\local\\programs\\python\\python310\\lib\\site-packages (from aiohttp->python-binance) (6.0.4)\n",
      "Requirement already satisfied: frozenlist>=1.1.1 in c:\\users\\tinma\\appdata\\local\\programs\\python\\python310\\lib\\site-packages (from aiohttp->python-binance) (1.3.3)\n",
      "Requirement already satisfied: charset-normalizer<4.0,>=2.0 in c:\\users\\tinma\\appdata\\local\\programs\\python\\python310\\lib\\site-packages (from aiohttp->python-binance) (3.0.1)\n",
      "Requirement already satisfied: aiosignal>=1.1.2 in c:\\users\\tinma\\appdata\\local\\programs\\python\\python310\\lib\\site-packages (from aiohttp->python-binance) (1.3.1)\n",
      "Requirement already satisfied: attrs>=17.3.0 in c:\\users\\tinma\\appdata\\local\\programs\\python\\python310\\lib\\site-packages (from aiohttp->python-binance) (22.2.0)\n",
      "Requirement already satisfied: tzlocal in c:\\users\\tinma\\appdata\\local\\programs\\python\\python310\\lib\\site-packages (from dateparser->python-binance) (5.0.1)\n",
      "Requirement already satisfied: regex!=2019.02.19,!=2021.8.27 in c:\\users\\tinma\\appdata\\local\\programs\\python\\python310\\lib\\site-packages (from dateparser->python-binance) (2023.6.3)\n",
      "Requirement already satisfied: pytz in c:\\users\\tinma\\appdata\\local\\programs\\python\\python310\\lib\\site-packages (from dateparser->python-binance) (2022.6)\n",
      "Requirement already satisfied: python-dateutil in c:\\users\\tinma\\appdata\\roaming\\python\\python310\\site-packages (from dateparser->python-binance) (2.8.2)\n",
      "Requirement already satisfied: certifi>=2017.4.17 in c:\\users\\tinma\\appdata\\local\\programs\\python\\python310\\lib\\site-packages (from requests->python-binance) (2022.12.7)\n",
      "Requirement already satisfied: idna<4,>=2.5 in c:\\users\\tinma\\appdata\\local\\programs\\python\\python310\\lib\\site-packages (from requests->python-binance) (3.4)\n",
      "Requirement already satisfied: urllib3<1.27,>=1.21.1 in c:\\users\\tinma\\appdata\\local\\programs\\python\\python310\\lib\\site-packages (from requests->python-binance) (1.26.14)\n",
      "Requirement already satisfied: tzdata in c:\\users\\tinma\\appdata\\local\\programs\\python\\python310\\lib\\site-packages (from tzlocal->dateparser->python-binance) (2023.3)\n"
     ]
    },
    {
     "name": "stderr",
     "output_type": "stream",
     "text": [
      "\n",
      "[notice] A new release of pip is available: 23.0 -> 23.1.2\n",
      "[notice] To update, run: python.exe -m pip install --upgrade pip\n"
     ]
    }
   ],
   "source": [
    "!pip install python-binance"
   ]
  },
  {
   "cell_type": "code",
   "execution_count": 4,
   "metadata": {},
   "outputs": [
    {
     "name": "stdout",
     "output_type": "stream",
     "text": [
      "Collecting websocket\n",
      "  Using cached websocket-0.2.1.tar.gz (195 kB)\n",
      "  Preparing metadata (setup.py): started\n",
      "  Preparing metadata (setup.py): finished with status 'done'\n",
      "Collecting gevent\n",
      "  Downloading gevent-22.10.2-cp310-cp310-win_amd64.whl (1.5 MB)\n",
      "     ---------------------------------------- 1.5/1.5 MB 5.0 MB/s eta 0:00:00\n",
      "Requirement already satisfied: greenlet in c:\\users\\tinma\\appdata\\local\\programs\\python\\python310\\lib\\site-packages (from websocket) (2.0.2)\n",
      "Collecting zope.event\n",
      "  Downloading zope.event-5.0-py3-none-any.whl (6.8 kB)\n",
      "Collecting zope.interface\n",
      "  Downloading zope.interface-6.0-cp310-cp310-win_amd64.whl (204 kB)\n",
      "     ------------------------------------- 204.1/204.1 kB 12.9 MB/s eta 0:00:00\n",
      "Requirement already satisfied: cffi>=1.12.2 in c:\\users\\tinma\\appdata\\local\\programs\\python\\python310\\lib\\site-packages (from gevent->websocket) (1.15.1)\n",
      "Requirement already satisfied: setuptools in c:\\users\\tinma\\appdata\\local\\programs\\python\\python310\\lib\\site-packages (from gevent->websocket) (63.2.0)\n",
      "Requirement already satisfied: pycparser in c:\\users\\tinma\\appdata\\local\\programs\\python\\python310\\lib\\site-packages (from cffi>=1.12.2->gevent->websocket) (2.21)\n",
      "Installing collected packages: zope.interface, zope.event, gevent, websocket\n",
      "  Running setup.py install for websocket: started\n",
      "  Running setup.py install for websocket: finished with status 'done'\n",
      "Successfully installed gevent-22.10.2 websocket-0.2.1 zope.event-5.0 zope.interface-6.0\n"
     ]
    },
    {
     "name": "stderr",
     "output_type": "stream",
     "text": [
      "  DEPRECATION: websocket is being installed using the legacy 'setup.py install' method, because it does not have a 'pyproject.toml' and the 'wheel' package is not installed. pip 23.1 will enforce this behaviour change. A possible replacement is to enable the '--use-pep517' option. Discussion can be found at https://github.com/pypa/pip/issues/8559\n",
      "\n",
      "[notice] A new release of pip is available: 23.0 -> 23.1.2\n",
      "[notice] To update, run: python.exe -m pip install --upgrade pip\n"
     ]
    }
   ],
   "source": [
    "!pip install websocket"
   ]
  },
  {
   "cell_type": "code",
   "execution_count": null,
   "metadata": {},
   "outputs": [],
   "source": [
    "import os\n",
    "\n",
    "os.environ['GOOGLE_APPLICATION_CREDENTIALS'] = 'C:/Users/tinma/OneDrive/Escritorio/application_default_credentials.json'"
   ]
  }
 ],
 "metadata": {
  "kernelspec": {
   "display_name": "Python 3",
   "language": "python",
   "name": "python3"
  },
  "language_info": {
   "codemirror_mode": {
    "name": "ipython",
    "version": 3
   },
   "file_extension": ".py",
   "mimetype": "text/x-python",
   "name": "python",
   "nbconvert_exporter": "python",
   "pygments_lexer": "ipython3",
   "version": "3.10.8"
  },
  "orig_nbformat": 4
 },
 "nbformat": 4,
 "nbformat_minor": 2
}
