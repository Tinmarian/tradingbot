{
 "cells": [
  {
   "cell_type": "code",
   "execution_count": 11,
   "metadata": {},
   "outputs": [],
   "source": [
    "import os\n",
    "import pandas as pd"
   ]
  },
  {
   "cell_type": "code",
   "execution_count": 12,
   "metadata": {},
   "outputs": [
    {
     "data": {
      "text/html": [
       "<div>\n",
       "<style scoped>\n",
       "    .dataframe tbody tr th:only-of-type {\n",
       "        vertical-align: middle;\n",
       "    }\n",
       "\n",
       "    .dataframe tbody tr th {\n",
       "        vertical-align: top;\n",
       "    }\n",
       "\n",
       "    .dataframe thead th {\n",
       "        text-align: right;\n",
       "    }\n",
       "</style>\n",
       "<table border=\"1\" class=\"dataframe\">\n",
       "  <thead>\n",
       "    <tr style=\"text-align: right;\">\n",
       "      <th></th>\n",
       "      <th>pairs</th>\n",
       "    </tr>\n",
       "  </thead>\n",
       "  <tbody>\n",
       "    <tr>\n",
       "      <th>0</th>\n",
       "      <td>1INCHUSDT</td>\n",
       "    </tr>\n",
       "    <tr>\n",
       "      <th>1</th>\n",
       "      <td>AAVEUSDT</td>\n",
       "    </tr>\n",
       "    <tr>\n",
       "      <th>2</th>\n",
       "      <td>ACAUSDT</td>\n",
       "    </tr>\n",
       "    <tr>\n",
       "      <th>3</th>\n",
       "      <td>ACHUSDT</td>\n",
       "    </tr>\n",
       "    <tr>\n",
       "      <th>4</th>\n",
       "      <td>ACMUSDT</td>\n",
       "    </tr>\n",
       "    <tr>\n",
       "      <th>...</th>\n",
       "      <td>...</td>\n",
       "    </tr>\n",
       "    <tr>\n",
       "      <th>350</th>\n",
       "      <td>YGGUSDT</td>\n",
       "    </tr>\n",
       "    <tr>\n",
       "      <th>351</th>\n",
       "      <td>ZECUSDT</td>\n",
       "    </tr>\n",
       "    <tr>\n",
       "      <th>352</th>\n",
       "      <td>ZENUSDT</td>\n",
       "    </tr>\n",
       "    <tr>\n",
       "      <th>353</th>\n",
       "      <td>ZILUSDT</td>\n",
       "    </tr>\n",
       "    <tr>\n",
       "      <th>354</th>\n",
       "      <td>ZRXUSDT</td>\n",
       "    </tr>\n",
       "  </tbody>\n",
       "</table>\n",
       "<p>355 rows × 1 columns</p>\n",
       "</div>"
      ],
      "text/plain": [
       "         pairs\n",
       "0    1INCHUSDT\n",
       "1     AAVEUSDT\n",
       "2      ACAUSDT\n",
       "3      ACHUSDT\n",
       "4      ACMUSDT\n",
       "..         ...\n",
       "350    YGGUSDT\n",
       "351    ZECUSDT\n",
       "352    ZENUSDT\n",
       "353    ZILUSDT\n",
       "354    ZRXUSDT\n",
       "\n",
       "[355 rows x 1 columns]"
      ]
     },
     "execution_count": 12,
     "metadata": {},
     "output_type": "execute_result"
    }
   ],
   "source": [
    "path = 'C:/Users/tinma/OneDrive/Escritorio/tradingbot/csvs/streaming/'\n",
    "pairs = os.listdir(path)\n",
    "pairs = pd.DataFrame(pairs,columns=['pairs'])\n",
    "pairs"
   ]
  },
  {
   "cell_type": "code",
   "execution_count": 55,
   "metadata": {},
   "outputs": [
    {
     "data": {
      "text/plain": [
       "0.005966409058865363"
      ]
     },
     "execution_count": 55,
     "metadata": {},
     "output_type": "execute_result"
    }
   ],
   "source": [
    "df = pd.read_csv(path+'BTCUSDT',names=['Tiempo','Simbolo','Precio'])\n",
    "(df.tail(1000).Precio.pct_change()+1).prod() - 1"
   ]
  },
  {
   "cell_type": "code",
   "execution_count": 13,
   "metadata": {},
   "outputs": [],
   "source": [
    "returns = []\n",
    "for pair in pairs['pairs']:\n",
    "    df = pd.read_csv(path+pair,names=['Tiempo','Simbolo','Precio'])[['Precio']]\n",
    "    ret = (df.tail(1000).Precio.pct_change() + 1).prod() - 1\n",
    "    returns.append(ret)\n",
    "\n",
    "perf_h = pd.Series(returns).nlargest(10)\n",
    "perf_l = pd.Series(returns).nsmallest(10)"
   ]
  },
  {
   "cell_type": "code",
   "execution_count": 27,
   "metadata": {},
   "outputs": [
    {
     "data": {
      "text/html": [
       "<div>\n",
       "<style scoped>\n",
       "    .dataframe tbody tr th:only-of-type {\n",
       "        vertical-align: middle;\n",
       "    }\n",
       "\n",
       "    .dataframe tbody tr th {\n",
       "        vertical-align: top;\n",
       "    }\n",
       "\n",
       "    .dataframe thead th {\n",
       "        text-align: right;\n",
       "    }\n",
       "</style>\n",
       "<table border=\"1\" class=\"dataframe\">\n",
       "  <thead>\n",
       "    <tr style=\"text-align: right;\">\n",
       "      <th></th>\n",
       "      <th>1INCHUSDT</th>\n",
       "      <th>AAVEUSDT</th>\n",
       "      <th>ACAUSDT</th>\n",
       "      <th>ACHUSDT</th>\n",
       "      <th>ACMUSDT</th>\n",
       "      <th>ADADOWNUSDT</th>\n",
       "      <th>ADAUPUSDT</th>\n",
       "      <th>ADAUSDT</th>\n",
       "      <th>ADXUSDT</th>\n",
       "      <th>AERGOUSDT</th>\n",
       "      <th>...</th>\n",
       "      <th>XTZUSDT</th>\n",
       "      <th>XVGUSDT</th>\n",
       "      <th>XVSUSDT</th>\n",
       "      <th>YFIIUSDT</th>\n",
       "      <th>YFIUSDT</th>\n",
       "      <th>YGGUSDT</th>\n",
       "      <th>ZECUSDT</th>\n",
       "      <th>ZENUSDT</th>\n",
       "      <th>ZILUSDT</th>\n",
       "      <th>ZRXUSDT</th>\n",
       "    </tr>\n",
       "  </thead>\n",
       "  <tbody>\n",
       "    <tr>\n",
       "      <th>0</th>\n",
       "      <td>0.050633</td>\n",
       "      <td>0.016907</td>\n",
       "      <td>-0.038168</td>\n",
       "      <td>0.069649</td>\n",
       "      <td>0.0054</td>\n",
       "      <td>-0.041958</td>\n",
       "      <td>0.020833</td>\n",
       "      <td>0.007154</td>\n",
       "      <td>0.039725</td>\n",
       "      <td>0.016722</td>\n",
       "      <td>...</td>\n",
       "      <td>0.030769</td>\n",
       "      <td>0.028169</td>\n",
       "      <td>0.037681</td>\n",
       "      <td>0.013769</td>\n",
       "      <td>0.032252</td>\n",
       "      <td>0.062857</td>\n",
       "      <td>0.012653</td>\n",
       "      <td>-0.015576</td>\n",
       "      <td>0.034542</td>\n",
       "      <td>0.026272</td>\n",
       "    </tr>\n",
       "  </tbody>\n",
       "</table>\n",
       "<p>1 rows × 355 columns</p>\n",
       "</div>"
      ],
      "text/plain": [
       "   1INCHUSDT  AAVEUSDT   ACAUSDT   ACHUSDT  ACMUSDT  ADADOWNUSDT  ADAUPUSDT  \\\n",
       "0   0.050633  0.016907 -0.038168  0.069649   0.0054    -0.041958   0.020833   \n",
       "\n",
       "    ADAUSDT   ADXUSDT  AERGOUSDT  ...   XTZUSDT   XVGUSDT   XVSUSDT  YFIIUSDT  \\\n",
       "0  0.007154  0.039725   0.016722  ...  0.030769  0.028169  0.037681  0.013769   \n",
       "\n",
       "    YFIUSDT   YGGUSDT   ZECUSDT   ZENUSDT   ZILUSDT   ZRXUSDT  \n",
       "0  0.032252  0.062857  0.012653 -0.015576  0.034542  0.026272  \n",
       "\n",
       "[1 rows x 355 columns]"
      ]
     },
     "execution_count": 27,
     "metadata": {},
     "output_type": "execute_result"
    }
   ],
   "source": [
    "pd.DataFrame(dict(zip(pairs['pairs'],returns)), index=[0])"
   ]
  }
 ],
 "metadata": {
  "kernelspec": {
   "display_name": "base",
   "language": "python",
   "name": "python3"
  },
  "language_info": {
   "codemirror_mode": {
    "name": "ipython",
    "version": 3
   },
   "file_extension": ".py",
   "mimetype": "text/x-python",
   "name": "python",
   "nbconvert_exporter": "python",
   "pygments_lexer": "ipython3",
   "version": "3.9.12"
  },
  "orig_nbformat": 4
 },
 "nbformat": 4,
 "nbformat_minor": 2
}
