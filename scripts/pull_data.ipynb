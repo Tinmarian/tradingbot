{
 "cells": [
  {
   "cell_type": "code",
   "execution_count": 2,
   "metadata": {},
   "outputs": [],
   "source": [
    "import os\n",
    "from google.cloud.sql.connector import Connector\n",
    "from sqlalchemy import create_engine, text\n",
    "import pg8000.native\n",
    "import pandas as pd\n",
    "\n",
    "os.environ['GOOGLE_APPLICATION_CREDENTIALS'] = 'C:/Users/tinma/OneDrive/Escritorio/application_default_credentials.json'\n",
    "\n",
    "connector = Connector()\n",
    "\n",
    "# conn = connector.connect(\n",
    "#     \"semiotic-pact-388619:us-central1:tradingbot\",\n",
    "#     \"pg8000\",\n",
    "#     user=\"postgres\",\n",
    "#     password=\"GuruSat.3\",\n",
    "#     db=\"criptos\"\n",
    "# )\n",
    "\n",
    "def getconn() -> pg8000.native.Connection:\n",
    "    conn: pg8000.native.Connection = connector.connect(\n",
    "        \"semiotic-pact-388619:us-central1:tradingbot\",\n",
    "        \"pg8000\",\n",
    "        user=\"postgres\",\n",
    "        password=\"GuruSat.3\",\n",
    "        db=\"criptos\"\n",
    "    )\n",
    "    return conn\n",
    "\n",
    "connection = create_engine('postgresql+pg8000://',creator=getconn)"
   ]
  },
  {
   "cell_type": "code",
   "execution_count": 8,
   "metadata": {},
   "outputs": [],
   "source": [
    "with connection.connect() as conn:\n",
    "    df = conn.execute(text(\"SELECT table_name FROM information_schema.tables WHERE table_schema='public' AND table_type='BASE TABLE'\")).mappings().all()\n",
    "pairs = pd.DataFrame(df)\n",
    "pairs.columns = ['pairs']\n",
    "\n",
    "\n",
    "path = 'C:/Users/tinma/OneDrive/Escritorio/tradingbot/csvs/streaming/'\n",
    "\n",
    "for pair in pairs['pairs']:\n",
    "    with connection.connect() as conn:\n",
    "        df = conn.execute(text(\"\"\" SELECT * FROM \"{pair}\" \"\"\".format(pair=pair)))\n",
    "    df = pd.DataFrame(df)\n",
    "    df.to_csv(\n",
    "        path+pair,\n",
    "        mode = 'w',\n",
    "        index=False\n",
    "    )"
   ]
  }
 ],
 "metadata": {
  "kernelspec": {
   "display_name": "Python 3",
   "language": "python",
   "name": "python3"
  },
  "language_info": {
   "codemirror_mode": {
    "name": "ipython",
    "version": 3
   },
   "file_extension": ".py",
   "mimetype": "text/x-python",
   "name": "python",
   "nbconvert_exporter": "python",
   "pygments_lexer": "ipython3",
   "version": "3.10.8"
  },
  "orig_nbformat": 4
 },
 "nbformat": 4,
 "nbformat_minor": 2
}
