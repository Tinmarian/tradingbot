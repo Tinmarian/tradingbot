{
 "cells": [
  {
   "cell_type": "code",
   "execution_count": 3,
   "metadata": {},
   "outputs": [
    {
     "data": {
      "text/plain": [
       "True"
      ]
     },
     "execution_count": 3,
     "metadata": {},
     "output_type": "execute_result"
    }
   ],
   "source": [
    "import pandas as pd\n",
    "import websocket\n",
    "import json\n",
    "\n",
    "path = 'D:/tradingbot_data/csvs/BTCUSDT_streaming/'\n",
    "\n",
    "stream = \"wss://stream.binance.com:9443/ws/btcusdt@miniTicker\"\n",
    "\n",
    "def on_message(ws, message):\n",
    "    msg = json.loads(message)\n",
    "    df1 = pd.DataFrame([msg])[['E','s','c']]\n",
    "    df1.E = pd.to_datetime(df1.E, unit='ms')\n",
    "    df1.c = df1.c.astype(float)\n",
    "    for row in range(len(df1)):\n",
    "        data = df1[row:row+1]\n",
    "        data.to_csv(\n",
    "            path_or_buf = path+data['s'].values[0]+'.csv',\n",
    "            mode='a',\n",
    "            index=False,\n",
    "            header=False\n",
    "        )\n",
    "        print(data)\n",
    "\n",
    "ws = websocket.WebSocketApp(stream, on_message=on_message)\n",
    "ws.run_forever()"
   ]
  }
 ],
 "metadata": {
  "kernelspec": {
   "display_name": "base",
   "language": "python",
   "name": "python3"
  },
  "language_info": {
   "codemirror_mode": {
    "name": "ipython",
    "version": 3
   },
   "file_extension": ".py",
   "mimetype": "text/x-python",
   "name": "python",
   "nbconvert_exporter": "python",
   "pygments_lexer": "ipython3",
   "version": "3.10.0"
  },
  "orig_nbformat": 4
 },
 "nbformat": 4,
 "nbformat_minor": 2
}
