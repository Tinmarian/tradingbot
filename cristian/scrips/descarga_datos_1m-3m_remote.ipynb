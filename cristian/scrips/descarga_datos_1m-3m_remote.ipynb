{
 "cells": [
  {
   "cell_type": "code",
   "execution_count": 2,
   "metadata": {},
   "outputs": [
    {
     "name": "stdout",
     "output_type": "stream",
     "text": [
      "Requirement already satisfied: python-binance in d:\\python_3-10\\lib\\site-packages (1.0.19)\n",
      "Requirement already satisfied: six in d:\\python_3-10\\lib\\site-packages (from python-binance) (1.16.0)\n",
      "Requirement already satisfied: pycryptodome in d:\\python_3-10\\lib\\site-packages (from python-binance) (3.20.0)\n",
      "Requirement already satisfied: dateparser in d:\\python_3-10\\lib\\site-packages (from python-binance) (1.2.0)\n",
      "Requirement already satisfied: websockets in d:\\python_3-10\\lib\\site-packages (from python-binance) (10.3)\n",
      "Requirement already satisfied: aiohttp in d:\\python_3-10\\lib\\site-packages (from python-binance) (3.9.3)\n",
      "Requirement already satisfied: requests in d:\\python_3-10\\lib\\site-packages (from python-binance) (2.28.1)\n",
      "Requirement already satisfied: ujson in d:\\python_3-10\\lib\\site-packages (from python-binance) (5.6.0)\n",
      "Requirement already satisfied: yarl<2.0,>=1.0 in d:\\python_3-10\\lib\\site-packages (from aiohttp->python-binance) (1.9.4)\n",
      "Requirement already satisfied: async-timeout<5.0,>=4.0 in d:\\python_3-10\\lib\\site-packages (from aiohttp->python-binance) (4.0.3)\n",
      "Requirement already satisfied: multidict<7.0,>=4.5 in d:\\python_3-10\\lib\\site-packages (from aiohttp->python-binance) (6.0.5)\n",
      "Requirement already satisfied: aiosignal>=1.1.2 in d:\\python_3-10\\lib\\site-packages (from aiohttp->python-binance) (1.3.1)\n",
      "Requirement already satisfied: frozenlist>=1.1.1 in d:\\python_3-10\\lib\\site-packages (from aiohttp->python-binance) (1.4.1)\n",
      "Requirement already satisfied: attrs>=17.3.0 in d:\\python_3-10\\lib\\site-packages (from aiohttp->python-binance) (23.2.0)\n",
      "Requirement already satisfied: tzlocal in d:\\python_3-10\\lib\\site-packages (from dateparser->python-binance) (5.2)\n",
      "Requirement already satisfied: pytz in d:\\python_3-10\\lib\\site-packages (from dateparser->python-binance) (2022.7)\n",
      "Requirement already satisfied: regex!=2019.02.19,!=2021.8.27 in d:\\python_3-10\\lib\\site-packages (from dateparser->python-binance) (2023.12.25)\n",
      "Requirement already satisfied: python-dateutil in c:\\users\\tinma\\appdata\\roaming\\python\\python310\\site-packages (from dateparser->python-binance) (2.8.2)\n",
      "Requirement already satisfied: urllib3<1.27,>=1.21.1 in d:\\python_3-10\\lib\\site-packages (from requests->python-binance) (1.26.13)\n",
      "Requirement already satisfied: charset-normalizer<3,>=2 in d:\\python_3-10\\lib\\site-packages (from requests->python-binance) (2.1.1)\n",
      "Requirement already satisfied: idna<4,>=2.5 in d:\\python_3-10\\lib\\site-packages (from requests->python-binance) (3.4)\n",
      "Requirement already satisfied: certifi>=2017.4.17 in d:\\python_3-10\\lib\\site-packages (from requests->python-binance) (2022.12.7)\n",
      "Requirement already satisfied: tzdata in d:\\python_3-10\\lib\\site-packages (from tzlocal->dateparser->python-binance) (2024.1)\n"
     ]
    },
    {
     "name": "stderr",
     "output_type": "stream",
     "text": [
      "WARNING: Ignoring invalid distribution -ip (d:\\python_3-10\\lib\\site-packages)\n",
      "WARNING: Ignoring invalid distribution -ip (d:\\python_3-10\\lib\\site-packages)\n",
      "WARNING: Ignoring invalid distribution -ip (d:\\python_3-10\\lib\\site-packages)\n",
      "WARNING: Ignoring invalid distribution -ip (d:\\python_3-10\\lib\\site-packages)\n",
      "WARNING: Ignoring invalid distribution -ip (d:\\python_3-10\\lib\\site-packages)\n",
      "WARNING: Ignoring invalid distribution -ip (d:\\python_3-10\\lib\\site-packages)\n",
      "\n",
      "[notice] A new release of pip available: 22.3.1 -> 24.0\n",
      "[notice] To update, run: D:\\Python_3-10\\python.exe -m pip install --upgrade pip\n"
     ]
    }
   ],
   "source": [
    "!pip install python-binance"
   ]
  },
  {
   "cell_type": "code",
   "execution_count": 3,
   "metadata": {},
   "outputs": [
    {
     "name": "stdout",
     "output_type": "stream",
     "text": [
      "BTCUSDT 1m 2024-04-04 20:41:48.392267\n",
      "ETHUSDT 1m 2024-04-04 21:15:28.500846\n",
      "SOLUSDT 1m 2024-04-04 21:48:55.581692\n",
      "DOGEUSDT 1m 2024-04-04 22:07:10.046335\n",
      "SHIBUSDT 1m 2024-04-04 22:31:00.444455\n",
      "PEPEUSDT 1m 2024-04-04 22:45:37.260195\n",
      "BNBUSDT 1m 2024-04-04 22:50:12.888042\n",
      "BCHUSDT 1m 2024-04-04 23:22:14.430438\n",
      "MATICUSDT 1m 2024-04-04 23:44:00.727271\n",
      "SUIUSDT 1m 2024-04-05 00:08:40.361172\n",
      "LINKUSDT 1m 2024-04-05 00:13:14.635464\n",
      "RNDRUSDT 1m 2024-04-05 00:39:06.374707\n",
      "FILUSDT 1m 2024-04-05 00:50:52.821395\n",
      "SANDUSDT 1m 2024-04-05 01:08:13.740998\n",
      "APTUSDT 1m 2024-04-05 01:26:18.088620\n",
      "STXUSDT 1m 2024-04-05 01:33:44.384958\n",
      "ATOMUSDT 1m 2024-04-05 01:55:36.106989\n",
      "ARBUSDT 1m 2024-04-05 02:20:10.321910\n",
      "INJUSDT 1m 2024-04-05 02:25:22.849099\n",
      "FETUSDT 1m 2024-04-05 02:42:35.064917\n",
      "TIAUSDT 1m 2024-04-05 03:07:58.067153\n",
      "BTCUSDT 3m 2024-04-05 03:10:07.301836\n",
      "ETHUSDT 3m 2024-04-05 03:21:16.475296\n",
      "SOLUSDT 3m 2024-04-05 03:32:34.245732\n",
      "DOGEUSDT 3m 2024-04-05 03:38:45.289012\n",
      "SHIBUSDT 3m 2024-04-05 03:46:46.672393\n",
      "PEPEUSDT 3m 2024-04-05 03:51:45.983955\n",
      "BNBUSDT 3m 2024-04-05 03:53:15.564696\n",
      "BCHUSDT 3m 2024-04-05 04:04:16.205677\n",
      "MATICUSDT 3m 2024-04-05 04:11:48.891234\n",
      "SUIUSDT 3m 2024-04-05 04:20:05.624565\n",
      "LINKUSDT 3m 2024-04-05 04:21:38.915232\n",
      "RNDRUSDT 3m 2024-04-05 04:30:34.502613\n",
      "FILUSDT 3m 2024-04-05 04:34:35.398228\n",
      "SANDUSDT 3m 2024-04-05 04:40:32.802933\n",
      "APTUSDT 3m 2024-04-05 04:46:40.697263\n",
      "STXUSDT 3m 2024-04-05 04:49:13.433206\n",
      "ATOMUSDT 3m 2024-04-05 04:56:42.846368\n",
      "ARBUSDT 3m 2024-04-05 05:05:14.334193\n",
      "INJUSDT 3m 2024-04-05 05:07:00.934709\n",
      "FETUSDT 3m 2024-04-05 05:12:52.929498\n",
      "TIAUSDT 3m 2024-04-05 05:21:35.531665\n"
     ]
    }
   ],
   "source": [
    "from binance import Client\n",
    "import pandas as pd\n",
    "import os\n",
    "import numpy as np\n",
    "from datetime import datetime\n",
    "\n",
    "\n",
    "## Conexión con Binance para descargar la lista de pares que binance maneja\n",
    "client = Client()\n",
    "\n",
    "listacriptos = []\n",
    "exchange_info = client.get_exchange_info()\n",
    "for s in exchange_info['symbols']:\n",
    "    listacriptos.append(s['symbol'])\n",
    "\n",
    "listacriptos = pd.Series(listacriptos)\n",
    "usdtpairs = listacriptos[listacriptos.str.contains('USDT')]\n",
    "\n",
    "\n",
    "## Función para descargar datos y guardarlos en archivos csv\n",
    "\n",
    "def pull_historical_data(pair,kline_interval):\n",
    "\n",
    "    file_path = f'D:/tradingbot_data/csvs/by{kline_interval}/{pair}.csv'\n",
    "    dir_path = f'D:/tradingbot_data/csvs/by{kline_interval}'\n",
    "    \n",
    "    if os.path.exists(dir_path):\n",
    "        pass\n",
    "    else:\n",
    "        os.mkdir(dir_path)\n",
    "\n",
    "    df = pd.DataFrame(client.get_historical_klines(pair,kline_interval,'10 years ago UTC'))\n",
    "    df = df.iloc[:,:6]\n",
    "    df.columns = ['Tiempo','Open','High','Low','Close','Volume']\n",
    "    df['Tiempo'] = pd.to_datetime(df.Tiempo,unit='ms')\n",
    "    df = df.set_index('Tiempo')\n",
    "    df = df.astype(float)\n",
    "    df.to_csv(file_path)\n",
    "\n",
    "\n",
    "for interval in ['1m','3m']:\n",
    "#    for pair in ['BTCUSDT','ETHUSDT','SOLUSDT','DOGEUSDT','SHIBUSDT','PEPEUSDT','BNBUSDT','BCHUSDT','MATICUSDT','SUIUSDT','LINKUSDT','RNDRUSDT','RIOUSDT','FILUSDT','SANDUSDT','ONDOUSDT','APTUSDT','STXUSDT','ATOMUSDT','TAOUSDT','ARBUSDT','INJUSDT','FETUSDT','TIAUSDT']: \n",
    "    for pair in ['BTCUSDT','ETHUSDT','SOLUSDT','DOGEUSDT','SHIBUSDT','PEPEUSDT','BNBUSDT','BCHUSDT','MATICUSDT','SUIUSDT','LINKUSDT','RNDRUSDT','FILUSDT','SANDUSDT','APTUSDT','STXUSDT','ATOMUSDT','ARBUSDT','INJUSDT','FETUSDT','TIAUSDT']:\n",
    "        print(pair,interval,datetime.now())\n",
    "        pull_historical_data(pair,interval)"
   ]
  }
 ],
 "metadata": {
  "kernelspec": {
   "display_name": "base",
   "language": "python",
   "name": "python3"
  },
  "language_info": {
   "codemirror_mode": {
    "name": "ipython",
    "version": 3
   },
   "file_extension": ".py",
   "mimetype": "text/x-python",
   "name": "python",
   "nbconvert_exporter": "python",
   "pygments_lexer": "ipython3",
   "version": "3.10.0"
  }
 },
 "nbformat": 4,
 "nbformat_minor": 2
}
