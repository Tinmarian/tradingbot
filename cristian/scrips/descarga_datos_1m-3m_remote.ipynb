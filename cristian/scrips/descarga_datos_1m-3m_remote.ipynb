{
 "cells": [
  {
   "cell_type": "code",
   "execution_count": 2,
   "metadata": {},
   "outputs": [
    {
     "name": "stdout",
     "output_type": "stream",
     "text": [
      "Requirement already satisfied: python-binance in d:\\python_3-10\\lib\\site-packages (1.0.19)\n",
      "Requirement already satisfied: six in d:\\python_3-10\\lib\\site-packages (from python-binance) (1.16.0)\n",
      "Requirement already satisfied: pycryptodome in d:\\python_3-10\\lib\\site-packages (from python-binance) (3.20.0)\n",
      "Requirement already satisfied: dateparser in d:\\python_3-10\\lib\\site-packages (from python-binance) (1.2.0)\n",
      "Requirement already satisfied: websockets in d:\\python_3-10\\lib\\site-packages (from python-binance) (10.3)\n",
      "Requirement already satisfied: aiohttp in d:\\python_3-10\\lib\\site-packages (from python-binance) (3.9.3)\n",
      "Requirement already satisfied: requests in d:\\python_3-10\\lib\\site-packages (from python-binance) (2.28.1)\n",
      "Requirement already satisfied: ujson in d:\\python_3-10\\lib\\site-packages (from python-binance) (5.6.0)\n",
      "Requirement already satisfied: yarl<2.0,>=1.0 in d:\\python_3-10\\lib\\site-packages (from aiohttp->python-binance) (1.9.4)\n",
      "Requirement already satisfied: async-timeout<5.0,>=4.0 in d:\\python_3-10\\lib\\site-packages (from aiohttp->python-binance) (4.0.3)\n",
      "Requirement already satisfied: multidict<7.0,>=4.5 in d:\\python_3-10\\lib\\site-packages (from aiohttp->python-binance) (6.0.5)\n",
      "Requirement already satisfied: aiosignal>=1.1.2 in d:\\python_3-10\\lib\\site-packages (from aiohttp->python-binance) (1.3.1)\n",
      "Requirement already satisfied: frozenlist>=1.1.1 in d:\\python_3-10\\lib\\site-packages (from aiohttp->python-binance) (1.4.1)\n",
      "Requirement already satisfied: attrs>=17.3.0 in d:\\python_3-10\\lib\\site-packages (from aiohttp->python-binance) (23.2.0)\n",
      "Requirement already satisfied: tzlocal in d:\\python_3-10\\lib\\site-packages (from dateparser->python-binance) (5.2)\n",
      "Requirement already satisfied: pytz in d:\\python_3-10\\lib\\site-packages (from dateparser->python-binance) (2022.7)\n",
      "Requirement already satisfied: regex!=2019.02.19,!=2021.8.27 in d:\\python_3-10\\lib\\site-packages (from dateparser->python-binance) (2023.12.25)\n",
      "Requirement already satisfied: python-dateutil in c:\\users\\tinma\\appdata\\roaming\\python\\python310\\site-packages (from dateparser->python-binance) (2.8.2)\n",
      "Requirement already satisfied: urllib3<1.27,>=1.21.1 in d:\\python_3-10\\lib\\site-packages (from requests->python-binance) (1.26.13)\n",
      "Requirement already satisfied: charset-normalizer<3,>=2 in d:\\python_3-10\\lib\\site-packages (from requests->python-binance) (2.1.1)\n",
      "Requirement already satisfied: idna<4,>=2.5 in d:\\python_3-10\\lib\\site-packages (from requests->python-binance) (3.4)\n",
      "Requirement already satisfied: certifi>=2017.4.17 in d:\\python_3-10\\lib\\site-packages (from requests->python-binance) (2022.12.7)\n",
      "Requirement already satisfied: tzdata in d:\\python_3-10\\lib\\site-packages (from tzlocal->dateparser->python-binance) (2024.1)\n"
     ]
    },
    {
     "name": "stderr",
     "output_type": "stream",
     "text": [
      "WARNING: Ignoring invalid distribution -ip (d:\\python_3-10\\lib\\site-packages)\n",
      "WARNING: Ignoring invalid distribution -ip (d:\\python_3-10\\lib\\site-packages)\n",
      "WARNING: Ignoring invalid distribution -ip (d:\\python_3-10\\lib\\site-packages)\n",
      "WARNING: Ignoring invalid distribution -ip (d:\\python_3-10\\lib\\site-packages)\n",
      "WARNING: Ignoring invalid distribution -ip (d:\\python_3-10\\lib\\site-packages)\n",
      "WARNING: Ignoring invalid distribution -ip (d:\\python_3-10\\lib\\site-packages)\n",
      "\n",
      "[notice] A new release of pip available: 22.3.1 -> 24.0\n",
      "[notice] To update, run: D:\\Python_3-10\\python.exe -m pip install --upgrade pip\n"
     ]
    }
   ],
   "source": [
    "!pip install python-binance"
   ]
  },
  {
   "cell_type": "code",
   "execution_count": 2,
   "metadata": {},
   "outputs": [
    {
     "name": "stdout",
     "output_type": "stream",
     "text": [
      "BTCUSDT 1m 2024-04-04 20:22:52.228962\n"
     ]
    }
   ],
   "source": [
    "from binance import Client\n",
    "import pandas as pd\n",
    "import os\n",
    "import numpy as np\n",
    "from datetime import datetime\n",
    "\n",
    "\n",
    "## Conexión con Binance para descargar la lista de pares que binance maneja\n",
    "client = Client()\n",
    "\n",
    "listacriptos = []\n",
    "exchange_info = client.get_exchange_info()\n",
    "for s in exchange_info['symbols']:\n",
    "    listacriptos.append(s['symbol'])\n",
    "\n",
    "listacriptos = pd.Series(listacriptos)\n",
    "usdtpairs = listacriptos[listacriptos.str.contains('USDT')]\n",
    "\n",
    "\n",
    "## Función para descargar datos y guardarlos en archivos csv\n",
    "\n",
    "def pull_historical_data(pair,kline_interval):\n",
    "\n",
    "    file_path = f'D:/tradingbot_data/csvs/by{kline_interval}/{pair}.csv'\n",
    "    dir_path = f'D:/tradingbot_data/csvs/by{kline_interval}'\n",
    "    \n",
    "    if os.path.exists(dir_path):\n",
    "        pass\n",
    "    else:\n",
    "        os.mkdir(dir_path)\n",
    "\n",
    "    df = pd.DataFrame(client.get_historical_klines(pair,kline_interval,'10 years ago UTC'))\n",
    "    df = df.iloc[:,:6]\n",
    "    df.columns = ['Tiempo','Open','High','Low','Close','Volume']\n",
    "    df['Tiempo'] = pd.to_datetime(df.Tiempo,unit='ms')\n",
    "    df = df.set_index('Tiempo')\n",
    "    df = df.astype(float)\n",
    "    df.to_csv(file_path)\n",
    "\n",
    "\n",
    "for interval in ['1m','3m']:\n",
    "    for pair in ['BTCUSDT','ETHUSDT','SOLUSDT','DOGEUSDT','SHIBUSDT','PEPEUSDT','BNBUSDT','BCHUSDT','MATICUSDT','SUIUSDT','LINKUSDT','RNDRUSDT','RIOUSDT',\n",
    "                                                    'FILUSDT','SANDUSDT','ONDOUSDT','APTUSDT','STXUSDT','ATOMUSDT','TAOUSDT','ARBUSDT','INJUSDT','FETUSDT','TIAUSDT']: \n",
    "        print(pair,interval,datetime.now())\n",
    "        pull_historical_data(pair,interval)"
   ]
  }
 ],
 "metadata": {
  "kernelspec": {
   "display_name": "base",
   "language": "python",
   "name": "python3"
  },
  "language_info": {
   "codemirror_mode": {
    "name": "ipython",
    "version": 3
   },
   "file_extension": ".py",
   "mimetype": "text/x-python",
   "name": "python",
   "nbconvert_exporter": "python",
   "pygments_lexer": "ipython3",
   "version": "3.10.0"
  }
 },
 "nbformat": 4,
 "nbformat_minor": 2
}
