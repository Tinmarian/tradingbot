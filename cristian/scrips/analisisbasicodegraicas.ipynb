{
 "cells": [
  {
   "cell_type": "code",
   "execution_count": 1,
   "metadata": {},
   "outputs": [
    {
     "name": "stdout",
     "output_type": "stream",
     "text": [
      "Collecting python-binance\n",
      "  Obtaining dependency information for python-binance from https://files.pythonhosted.org/packages/fb/09/5f8c3c41d8771951ac1c8672292508b13776f6021fdc114af94f19633bb6/python_binance-1.0.19-py2.py3-none-any.whl.metadata\n",
      "  Downloading python_binance-1.0.19-py2.py3-none-any.whl.metadata (11 kB)\n",
      "Requirement already satisfied: requests in c:\\users\\cristian\\anaconda3\\lib\\site-packages (from python-binance) (2.31.0)\n",
      "Requirement already satisfied: six in c:\\users\\cristian\\anaconda3\\lib\\site-packages (from python-binance) (1.16.0)\n",
      "Collecting dateparser (from python-binance)\n",
      "  Obtaining dependency information for dateparser from https://files.pythonhosted.org/packages/a4/29/db12aa4dda81580be1999824a689bd52aa40061fc12c9ccdc3feab5ea718/dateparser-1.2.0-py2.py3-none-any.whl.metadata\n",
      "  Downloading dateparser-1.2.0-py2.py3-none-any.whl.metadata (28 kB)\n",
      "Requirement already satisfied: aiohttp in c:\\users\\cristian\\anaconda3\\lib\\site-packages (from python-binance) (3.8.5)\n",
      "Requirement already satisfied: ujson in c:\\users\\cristian\\anaconda3\\lib\\site-packages (from python-binance) (5.4.0)\n",
      "Collecting websockets (from python-binance)\n",
      "  Obtaining dependency information for websockets from https://files.pythonhosted.org/packages/d1/40/6b169cd1957476374f51f4486a3e85003149e62a14e6b78a958c2222337a/websockets-12.0-cp311-cp311-win_amd64.whl.metadata\n",
      "  Downloading websockets-12.0-cp311-cp311-win_amd64.whl.metadata (6.8 kB)\n",
      "Collecting pycryptodome (from python-binance)\n",
      "  Obtaining dependency information for pycryptodome from https://files.pythonhosted.org/packages/1f/90/d131c0eb643290230dfa4108b7c2d135122d88b714ad241d77beb4782a76/pycryptodome-3.20.0-cp35-abi3-win_amd64.whl.metadata\n",
      "  Downloading pycryptodome-3.20.0-cp35-abi3-win_amd64.whl.metadata (3.4 kB)\n",
      "Requirement already satisfied: attrs>=17.3.0 in c:\\users\\cristian\\anaconda3\\lib\\site-packages (from aiohttp->python-binance) (22.1.0)\n",
      "Requirement already satisfied: charset-normalizer<4.0,>=2.0 in c:\\users\\cristian\\anaconda3\\lib\\site-packages (from aiohttp->python-binance) (2.0.4)\n",
      "Requirement already satisfied: multidict<7.0,>=4.5 in c:\\users\\cristian\\anaconda3\\lib\\site-packages (from aiohttp->python-binance) (6.0.2)\n",
      "Requirement already satisfied: async-timeout<5.0,>=4.0.0a3 in c:\\users\\cristian\\anaconda3\\lib\\site-packages (from aiohttp->python-binance) (4.0.2)\n",
      "Requirement already satisfied: yarl<2.0,>=1.0 in c:\\users\\cristian\\anaconda3\\lib\\site-packages (from aiohttp->python-binance) (1.8.1)\n",
      "Requirement already satisfied: frozenlist>=1.1.1 in c:\\users\\cristian\\anaconda3\\lib\\site-packages (from aiohttp->python-binance) (1.3.3)\n",
      "Requirement already satisfied: aiosignal>=1.1.2 in c:\\users\\cristian\\anaconda3\\lib\\site-packages (from aiohttp->python-binance) (1.2.0)\n",
      "Requirement already satisfied: python-dateutil in c:\\users\\cristian\\anaconda3\\lib\\site-packages (from dateparser->python-binance) (2.8.2)\n",
      "Requirement already satisfied: pytz in c:\\users\\cristian\\anaconda3\\lib\\site-packages (from dateparser->python-binance) (2023.3.post1)\n",
      "Requirement already satisfied: regex!=2019.02.19,!=2021.8.27 in c:\\users\\cristian\\anaconda3\\lib\\site-packages (from dateparser->python-binance) (2022.7.9)\n",
      "Collecting tzlocal (from dateparser->python-binance)\n",
      "  Obtaining dependency information for tzlocal from https://files.pythonhosted.org/packages/97/3f/c4c51c55ff8487f2e6d0e618dba917e3c3ee2caae6cf0fbb59c9b1876f2e/tzlocal-5.2-py3-none-any.whl.metadata\n",
      "  Downloading tzlocal-5.2-py3-none-any.whl.metadata (7.8 kB)\n",
      "Requirement already satisfied: idna<4,>=2.5 in c:\\users\\cristian\\anaconda3\\lib\\site-packages (from requests->python-binance) (3.4)\n",
      "Requirement already satisfied: urllib3<3,>=1.21.1 in c:\\users\\cristian\\anaconda3\\lib\\site-packages (from requests->python-binance) (1.26.16)\n",
      "Requirement already satisfied: certifi>=2017.4.17 in c:\\users\\cristian\\anaconda3\\lib\\site-packages (from requests->python-binance) (2023.7.22)\n",
      "Requirement already satisfied: tzdata in c:\\users\\cristian\\anaconda3\\lib\\site-packages (from tzlocal->dateparser->python-binance) (2023.3)\n",
      "Downloading python_binance-1.0.19-py2.py3-none-any.whl (69 kB)\n",
      "   ---------------------------------------- 0.0/69.9 kB ? eta -:--:--\n",
      "   ----------------- ---------------------- 30.7/69.9 kB 1.3 MB/s eta 0:00:01\n",
      "   ---------------------------------------- 69.9/69.9 kB 1.3 MB/s eta 0:00:00\n",
      "Downloading dateparser-1.2.0-py2.py3-none-any.whl (294 kB)\n",
      "   ---------------------------------------- 0.0/295.0 kB ? eta -:--:--\n",
      "   --------------- ------------------------ 112.6/295.0 kB 6.4 MB/s eta 0:00:01\n",
      "   ------------------------------- -------- 235.5/295.0 kB 3.6 MB/s eta 0:00:01\n",
      "   ---------------------------------------- 295.0/295.0 kB 2.6 MB/s eta 0:00:00\n",
      "Downloading pycryptodome-3.20.0-cp35-abi3-win_amd64.whl (1.8 MB)\n",
      "   ---------------------------------------- 0.0/1.8 MB ? eta -:--:--\n",
      "   ----- ---------------------------------- 0.3/1.8 MB ? eta -:--:--\n",
      "   ----------- ---------------------------- 0.5/1.8 MB 10.5 MB/s eta 0:00:01\n",
      "   ----------------------- ---------------- 1.0/1.8 MB 10.7 MB/s eta 0:00:01\n",
      "   ----------------------------------- ---- 1.6/1.8 MB 10.0 MB/s eta 0:00:01\n",
      "   -------------------------------------- - 1.7/1.8 MB 8.9 MB/s eta 0:00:01\n",
      "   -------------------------------------- - 1.7/1.8 MB 8.9 MB/s eta 0:00:01\n",
      "   -------------------------------------- - 1.7/1.8 MB 6.3 MB/s eta 0:00:01\n",
      "   ---------------------------------------  1.7/1.8 MB 5.5 MB/s eta 0:00:01\n",
      "   ---------------------------------------  1.8/1.8 MB 4.8 MB/s eta 0:00:01\n",
      "   ---------------------------------------- 1.8/1.8 MB 4.5 MB/s eta 0:00:00\n",
      "Downloading websockets-12.0-cp311-cp311-win_amd64.whl (124 kB)\n",
      "   ---------------------------------------- 0.0/125.0 kB ? eta -:--:--\n",
      "   ---------------------------------------- 125.0/125.0 kB 7.2 MB/s eta 0:00:00\n",
      "Downloading tzlocal-5.2-py3-none-any.whl (17 kB)\n",
      "Installing collected packages: websockets, tzlocal, pycryptodome, dateparser, python-binance\n",
      "Successfully installed dateparser-1.2.0 pycryptodome-3.20.0 python-binance-1.0.19 tzlocal-5.2 websockets-12.0\n"
     ]
    }
   ],
   "source": [
    "!pip install python-binance"
   ]
  },
  {
   "cell_type": "code",
   "execution_count": 3,
   "metadata": {},
   "outputs": [],
   "source": [
    "from binance import Client\n",
    "import pandas as pd\n",
    "import os\n",
    "import numpy as np\n"
   ]
  },
  {
   "cell_type": "code",
   "execution_count": 6,
   "metadata": {},
   "outputs": [],
   "source": [
    "client=Client()"
   ]
  },
  {
   "cell_type": "code",
   "execution_count": 7,
   "metadata": {},
   "outputs": [],
   "source": [
    "def pull_historical_data(pair,kline_interval):\n",
    "\n",
    "    file_path = f'D:\\proyeto cripto\\tradingbot\\cristian\\scrips/by{kline_interval}/{pair}'\n",
    "    dir_path = f'D:\\proyeto cripto\\tradingbot\\cristian\\scrips/by{kline_interval}/'\n",
    "    \n",
    "    if os.path.exists(dir_path):\n",
    "        pass\n",
    "    else:\n",
    "        os.mkdir(dir_path)\n",
    "\n",
    "    df = pd.DataFrame(client.get_historical_klines(pair,kline_interval,'6 years ago UTC'))\n",
    "    df = df.iloc[:,:6]\n",
    "    df.columns = ['Tiempo','Open','High','Low','Close','Volume']\n",
    "    df['Tiempo'] = pd.to_datetime(df.Tiempo,unit='ms')\n",
    "    df = df.set_index('Tiempo')\n",
    "    df = df.astype(float)\n",
    "    df.to_csv(file_path)\n"
   ]
  },
  {
   "cell_type": "code",
   "execution_count": null,
   "metadata": {},
   "outputs": [],
   "source": []
  }
 ],
 "metadata": {
  "kernelspec": {
   "display_name": "base",
   "language": "python",
   "name": "python3"
  },
  "language_info": {
   "codemirror_mode": {
    "name": "ipython",
    "version": 3
   },
   "file_extension": ".py",
   "mimetype": "text/x-python",
   "name": "python",
   "nbconvert_exporter": "python",
   "pygments_lexer": "ipython3",
   "version": "3.11.5"
  }
 },
 "nbformat": 4,
 "nbformat_minor": 2
}
