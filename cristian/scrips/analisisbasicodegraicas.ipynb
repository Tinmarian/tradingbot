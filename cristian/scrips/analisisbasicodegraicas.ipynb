{
 "cells": [
  {
   "cell_type": "code",
   "execution_count": 1,
   "metadata": {},
   "outputs": [
    {
     "name": "stdout",
     "output_type": "stream",
     "text": [
      "Collecting python-binance\n",
      "  Obtaining dependency information for python-binance from https://files.pythonhosted.org/packages/fb/09/5f8c3c41d8771951ac1c8672292508b13776f6021fdc114af94f19633bb6/python_binance-1.0.19-py2.py3-none-any.whl.metadata\n",
      "  Downloading python_binance-1.0.19-py2.py3-none-any.whl.metadata (11 kB)\n",
      "Requirement already satisfied: requests in c:\\users\\cristian\\anaconda3\\lib\\site-packages (from python-binance) (2.31.0)\n",
      "Requirement already satisfied: six in c:\\users\\cristian\\anaconda3\\lib\\site-packages (from python-binance) (1.16.0)\n",
      "Collecting dateparser (from python-binance)\n",
      "  Obtaining dependency information for dateparser from https://files.pythonhosted.org/packages/a4/29/db12aa4dda81580be1999824a689bd52aa40061fc12c9ccdc3feab5ea718/dateparser-1.2.0-py2.py3-none-any.whl.metadata\n",
      "  Downloading dateparser-1.2.0-py2.py3-none-any.whl.metadata (28 kB)\n",
      "Requirement already satisfied: aiohttp in c:\\users\\cristian\\anaconda3\\lib\\site-packages (from python-binance) (3.8.5)\n",
      "Requirement already satisfied: ujson in c:\\users\\cristian\\anaconda3\\lib\\site-packages (from python-binance) (5.4.0)\n",
      "Collecting websockets (from python-binance)\n",
      "  Obtaining dependency information for websockets from https://files.pythonhosted.org/packages/d1/40/6b169cd1957476374f51f4486a3e85003149e62a14e6b78a958c2222337a/websockets-12.0-cp311-cp311-win_amd64.whl.metadata\n",
      "  Downloading websockets-12.0-cp311-cp311-win_amd64.whl.metadata (6.8 kB)\n",
      "Collecting pycryptodome (from python-binance)\n",
      "  Obtaining dependency information for pycryptodome from https://files.pythonhosted.org/packages/1f/90/d131c0eb643290230dfa4108b7c2d135122d88b714ad241d77beb4782a76/pycryptodome-3.20.0-cp35-abi3-win_amd64.whl.metadata\n",
      "  Downloading pycryptodome-3.20.0-cp35-abi3-win_amd64.whl.metadata (3.4 kB)\n",
      "Requirement already satisfied: attrs>=17.3.0 in c:\\users\\cristian\\anaconda3\\lib\\site-packages (from aiohttp->python-binance) (22.1.0)\n",
      "Requirement already satisfied: charset-normalizer<4.0,>=2.0 in c:\\users\\cristian\\anaconda3\\lib\\site-packages (from aiohttp->python-binance) (2.0.4)\n",
      "Requirement already satisfied: multidict<7.0,>=4.5 in c:\\users\\cristian\\anaconda3\\lib\\site-packages (from aiohttp->python-binance) (6.0.2)\n",
      "Requirement already satisfied: async-timeout<5.0,>=4.0.0a3 in c:\\users\\cristian\\anaconda3\\lib\\site-packages (from aiohttp->python-binance) (4.0.2)\n",
      "Requirement already satisfied: yarl<2.0,>=1.0 in c:\\users\\cristian\\anaconda3\\lib\\site-packages (from aiohttp->python-binance) (1.8.1)\n",
      "Requirement already satisfied: frozenlist>=1.1.1 in c:\\users\\cristian\\anaconda3\\lib\\site-packages (from aiohttp->python-binance) (1.3.3)\n",
      "Requirement already satisfied: aiosignal>=1.1.2 in c:\\users\\cristian\\anaconda3\\lib\\site-packages (from aiohttp->python-binance) (1.2.0)\n",
      "Requirement already satisfied: python-dateutil in c:\\users\\cristian\\anaconda3\\lib\\site-packages (from dateparser->python-binance) (2.8.2)\n",
      "Requirement already satisfied: pytz in c:\\users\\cristian\\anaconda3\\lib\\site-packages (from dateparser->python-binance) (2023.3.post1)\n",
      "Requirement already satisfied: regex!=2019.02.19,!=2021.8.27 in c:\\users\\cristian\\anaconda3\\lib\\site-packages (from dateparser->python-binance) (2022.7.9)\n",
      "Collecting tzlocal (from dateparser->python-binance)\n",
      "  Obtaining dependency information for tzlocal from https://files.pythonhosted.org/packages/97/3f/c4c51c55ff8487f2e6d0e618dba917e3c3ee2caae6cf0fbb59c9b1876f2e/tzlocal-5.2-py3-none-any.whl.metadata\n",
      "  Downloading tzlocal-5.2-py3-none-any.whl.metadata (7.8 kB)\n",
      "Requirement already satisfied: idna<4,>=2.5 in c:\\users\\cristian\\anaconda3\\lib\\site-packages (from requests->python-binance) (3.4)\n",
      "Requirement already satisfied: urllib3<3,>=1.21.1 in c:\\users\\cristian\\anaconda3\\lib\\site-packages (from requests->python-binance) (1.26.16)\n",
      "Requirement already satisfied: certifi>=2017.4.17 in c:\\users\\cristian\\anaconda3\\lib\\site-packages (from requests->python-binance) (2023.7.22)\n",
      "Requirement already satisfied: tzdata in c:\\users\\cristian\\anaconda3\\lib\\site-packages (from tzlocal->dateparser->python-binance) (2023.3)\n",
      "Downloading python_binance-1.0.19-py2.py3-none-any.whl (69 kB)\n",
      "   ---------------------------------------- 0.0/69.9 kB ? eta -:--:--\n",
      "   ----------------- ---------------------- 30.7/69.9 kB 1.3 MB/s eta 0:00:01\n",
      "   ---------------------------------------- 69.9/69.9 kB 1.3 MB/s eta 0:00:00\n",
      "Downloading dateparser-1.2.0-py2.py3-none-any.whl (294 kB)\n",
      "   ---------------------------------------- 0.0/295.0 kB ? eta -:--:--\n",
      "   --------------- ------------------------ 112.6/295.0 kB 6.4 MB/s eta 0:00:01\n",
      "   ------------------------------- -------- 235.5/295.0 kB 3.6 MB/s eta 0:00:01\n",
      "   ---------------------------------------- 295.0/295.0 kB 2.6 MB/s eta 0:00:00\n",
      "Downloading pycryptodome-3.20.0-cp35-abi3-win_amd64.whl (1.8 MB)\n",
      "   ---------------------------------------- 0.0/1.8 MB ? eta -:--:--\n",
      "   ----- ---------------------------------- 0.3/1.8 MB ? eta -:--:--\n",
      "   ----------- ---------------------------- 0.5/1.8 MB 10.5 MB/s eta 0:00:01\n",
      "   ----------------------- ---------------- 1.0/1.8 MB 10.7 MB/s eta 0:00:01\n",
      "   ----------------------------------- ---- 1.6/1.8 MB 10.0 MB/s eta 0:00:01\n",
      "   -------------------------------------- - 1.7/1.8 MB 8.9 MB/s eta 0:00:01\n",
      "   -------------------------------------- - 1.7/1.8 MB 8.9 MB/s eta 0:00:01\n",
      "   -------------------------------------- - 1.7/1.8 MB 6.3 MB/s eta 0:00:01\n",
      "   ---------------------------------------  1.7/1.8 MB 5.5 MB/s eta 0:00:01\n",
      "   ---------------------------------------  1.8/1.8 MB 4.8 MB/s eta 0:00:01\n",
      "   ---------------------------------------- 1.8/1.8 MB 4.5 MB/s eta 0:00:00\n",
      "Downloading websockets-12.0-cp311-cp311-win_amd64.whl (124 kB)\n",
      "   ---------------------------------------- 0.0/125.0 kB ? eta -:--:--\n",
      "   ---------------------------------------- 125.0/125.0 kB 7.2 MB/s eta 0:00:00\n",
      "Downloading tzlocal-5.2-py3-none-any.whl (17 kB)\n",
      "Installing collected packages: websockets, tzlocal, pycryptodome, dateparser, python-binance\n",
      "Successfully installed dateparser-1.2.0 pycryptodome-3.20.0 python-binance-1.0.19 tzlocal-5.2 websockets-12.0\n"
     ]
    }
   ],
   "source": [
    "!pip install python-binance"
   ]
  },
  {
   "cell_type": "code",
   "execution_count": 14,
   "metadata": {},
   "outputs": [],
   "source": [
    "from binance import Client\n",
    "import pandas as pd\n",
    "import os\n",
    "import numpy as np\n",
    "from datetime import datetime\n"
   ]
  },
  {
   "cell_type": "code",
   "execution_count": 12,
   "metadata": {},
   "outputs": [],
   "source": [
    "client = Client()\n",
    "\n",
    "listacriptos = []\n",
    "exchange_info = client.get_exchange_info()\n",
    "for s in exchange_info['symbols']:\n",
    "    listacriptos.append(s['symbol'])\n",
    "\n",
    "listacriptos = pd.Series(listacriptos)\n",
    "usdtpairs = listacriptos[listacriptos.str.contains('USDT')]"
   ]
  },
  {
   "cell_type": "code",
   "execution_count": 16,
   "metadata": {},
   "outputs": [],
   "source": [
    "def pull_historical_data(pair,kline_interval):\n",
    "\n",
    "    file_path = f'D:/proyeto cripto/tradingbot/cristian/scrips/by{kline_interval}/{pair}'\n",
    "    dir_path = f'D:/proyeto cripto/tradingbot/cristian/scrips/by{kline_interval}/'\n",
    "    \n",
    "    if os.path.exists(dir_path):\n",
    "        pass\n",
    "    else:\n",
    "        os.mkdir(dir_path)\n",
    "\n",
    "    df = pd.DataFrame(client.get_historical_klines(pair,kline_interval,'6 years ago UTC'))\n",
    "    df = df.iloc[:,:6]\n",
    "    df.columns = ['Tiempo','Open','High','Low','Close','Volume']\n",
    "    df['Tiempo'] = pd.to_datetime(df.Tiempo,unit='ms')\n",
    "    df = df.set_index('Tiempo')\n",
    "    df = df.astype(float)\n",
    "    df.to_csv(file_path)\n"
   ]
  },
  {
   "cell_type": "code",
   "execution_count": 17,
   "metadata": {},
   "outputs": [
    {
     "name": "stdout",
     "output_type": "stream",
     "text": [
      "BTCUSDT 15m 2024-03-27 14:58:05.492269\n",
      "ETHUSDT 15m 2024-03-27 15:00:33.734825\n",
      "BNBUSDT 15m 2024-03-27 15:02:48.291657\n",
      "BCCUSDT 15m 2024-03-27 15:05:03.682302\n",
      "NEOUSDT 15m 2024-03-27 15:05:19.131212\n",
      "LTCUSDT 15m 2024-03-27 15:07:32.539083\n",
      "QTUMUSDT 15m 2024-03-27 15:09:49.117570\n",
      "ADAUSDT 15m 2024-03-27 15:12:02.578235\n",
      "XRPUSDT 15m 2024-03-27 15:14:16.044829\n",
      "EOSUSDT 15m 2024-03-27 15:16:32.567813\n",
      "TUSDUSDT 15m 2024-03-27 15:18:43.945635\n",
      "IOTAUSDT 15m 2024-03-27 15:20:45.317121\n",
      "XLMUSDT 15m 2024-03-27 15:22:55.540329\n",
      "ONTUSDT 15m 2024-03-27 15:25:06.054826\n",
      "TRXUSDT 15m 2024-03-27 15:27:14.923315\n",
      "ETCUSDT 15m 2024-03-27 15:29:26.330476\n",
      "ICXUSDT 15m 2024-03-27 15:31:36.569814\n",
      "VENUSDT 15m 2024-03-27 15:33:44.727595\n",
      "NULSUSDT 15m 2024-03-27 15:33:45.981871\n",
      "VETUSDT 15m 2024-03-27 15:35:52.955443\n",
      "PAXUSDT 15m 2024-03-27 15:37:59.127980\n",
      "BCHABCUSDT 15m 2024-03-27 15:39:04.729097\n",
      "BCHSVUSDT 15m 2024-03-27 15:39:32.560427\n",
      "USDCUSDT 15m 2024-03-27 15:39:42.175674\n",
      "LINKUSDT 15m 2024-03-27 15:41:30.180117\n",
      "WAVESUSDT 15m 2024-03-27 15:43:25.153582\n",
      "BTTUSDT 15m 2024-03-27 15:45:24.829713\n",
      "USDSUSDT 15m 2024-03-27 15:46:32.688514\n",
      "ONGUSDT 15m 2024-03-27 15:47:02.441557\n",
      "HOTUSDT 15m 2024-03-27 15:48:54.698516\n",
      "ZILUSDT 15m 2024-03-27 15:50:48.621650\n",
      "ZRXUSDT 15m 2024-03-27 15:52:42.118520\n",
      "FETUSDT 15m 2024-03-27 15:54:34.173189\n",
      "BATUSDT 15m 2024-03-27 15:56:27.537005\n",
      "XMRUSDT 15m 2024-03-27 15:58:20.680706\n",
      "ZECUSDT 15m 2024-03-27 16:00:12.801305\n",
      "IOSTUSDT 15m 2024-03-27 16:02:10.893622\n",
      "CELRUSDT 15m 2024-03-27 16:04:02.165290\n",
      "DASHUSDT 15m 2024-03-27 16:05:55.295301\n",
      "NANOUSDT 15m 2024-03-27 16:07:48.128616\n",
      "OMGUSDT 15m 2024-03-27 16:08:53.095823\n",
      "THETAUSDT 15m 2024-03-27 16:10:44.091553\n",
      "ENJUSDT 15m 2024-03-27 16:12:36.547036\n",
      "MITHUSDT 15m 2024-03-27 16:14:24.587792\n"
     ]
    }
   ],
   "source": [
    "# Se pueden subdividir los análisis temporales a periodos de trading cortos, medianos y largos, cómo lo son los cortos: 1m, 3m, 5m, 15m, 30m, 1h; medianos: 4h, 6h, 8h, 12h, 1D, 1W; \n",
    "# largos: 2W, 1M, 3M, 6M, 1Y o más. \n",
    "\n",
    "for interval in ['15m','30m','1h','4h','6h','8h','12h','1D','1w','1M','3M','6M','1Y']:\n",
    "    for pair in usdtpairs:  \n",
    "        print(pair,interval,datetime.now())\n",
    "        pull_historical_data(pair,interval)\n",
    "\n",
    "# pull_historical_data('BTCTUSD','1w')"
   ]
  },
  {
   "cell_type": "code",
   "execution_count": null,
   "metadata": {},
   "outputs": [],
   "source": []
  }
 ],
 "metadata": {
  "kernelspec": {
   "display_name": "base",
   "language": "python",
   "name": "python3"
  },
  "language_info": {
   "codemirror_mode": {
    "name": "ipython",
    "version": 3
   },
   "file_extension": ".py",
   "mimetype": "text/x-python",
   "name": "python",
   "nbconvert_exporter": "python",
   "pygments_lexer": "ipython3",
   "version": "3.11.5"
  }
 },
 "nbformat": 4,
 "nbformat_minor": 2
}
