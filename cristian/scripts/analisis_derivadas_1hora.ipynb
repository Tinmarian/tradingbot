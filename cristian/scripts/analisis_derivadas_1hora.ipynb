{
 "cells": [
  {
   "cell_type": "code",
   "execution_count": null,
   "metadata": {},
   "outputs": [],
   "source": [
    "import pandas as pd\n",
    "import os\n",
    "import numpy as np\n",
    "from datetime import datetime\n",
    "import sympy as sp\n",
    "import scipy as sc\n",
    "import matplotlib.pyplot as plt\n",
    "import matplotlib.dates as mdates"
   ]
  },
  {
   "cell_type": "code",
   "execution_count": null,
   "metadata": {},
   "outputs": [],
   "source": [
    "pd.read_csv(\"D:/proyeto cripto/tradingbot/cristian/scrips/by1h/BTCUSDT\")\n",
    "pd.read_csv(f'C:/Users/tinma/OneDrive/Escritorio/tradingbot/csvs/historical/by1h/BTCUSDT')"
   ]
  }
 ],
 "metadata": {
  "language_info": {
   "name": "python"
  }
 },
 "nbformat": 4,
 "nbformat_minor": 2
}
