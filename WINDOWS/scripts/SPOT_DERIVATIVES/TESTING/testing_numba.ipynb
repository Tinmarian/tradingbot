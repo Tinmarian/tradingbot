{
 "cells": [
  {
   "cell_type": "code",
   "execution_count": 2,
   "metadata": {},
   "outputs": [],
   "source": [
    "import pandas as pd\n",
    "import numpy as np\n",
    "from datetime import datetime\n",
    "import scipy as sc\n",
    "import matplotlib.pyplot as plt\n",
    "import matplotlib.dates as mdates\n",
    "import matplotlib.ticker as ticker\n",
    "from binance import Client\n",
    "from numba import jit\n",
    "import time\n",
    "import cupy as cp\n",
    "\n",
    "client = Client()\n",
    "\n",
    "recent_data = pd.read_csv('../../../../csvs/historical/by1m/BTCUSDT')\n",
    "recent_data = recent_data.iloc[:,:6]\n",
    "recent_data.columns = ['Tiempo','Open','High','Low','Close','Volume']\n",
    "recent_data['Tiempo'] = recent_data['Tiempo'].astype('datetime64[ns]')# pd.to_datetime(recent_data.Tiempo,unit='ms')\n",
    "recent_data = recent_data.set_index('Tiempo')\n",
    "recent_data = recent_data.astype(float)\n",
    "recent_data = recent_data.reset_index()\n",
    "\n",
    "##################################################\n",
    "# Lista de parámetros.\n",
    "##################################################\n",
    "# Parámetros de interpolación.\n",
    "###################################\n",
    "smooth_interval = 25\n",
    "smooth_exp = 3\n",
    "###################################\n",
    "# Parámetros de estrategia.\n",
    "###################################\n",
    "rango = 0\n",
    "std_mult = 25\n",
    "z_aprox = 0.15"
   ]
  },
  {
   "cell_type": "code",
   "execution_count": 4,
   "metadata": {},
   "outputs": [
    {
     "name": "stdout",
     "output_type": "stream",
     "text": [
      "CPU ON DERIVATIVES = 0.361248254776001\n"
     ]
    }
   ],
   "source": [
    "#####################\n",
    "# CPU\n",
    "#####################\n",
    "def savgol_filter(y, window_size, poly_order):\n",
    "    half_window = window_size // 2\n",
    "    order_range = np.arange(poly_order+1)\n",
    "    weight = np.zeros((window_size, poly_order+1))\n",
    "    \n",
    "    for i in range(-half_window, half_window+1):\n",
    "        weight[i+half_window, :] = [i**j for j in order_range]\n",
    "    \n",
    "    weights = np.linalg.pinv(weight).T.sum(axis=0)\n",
    "    \n",
    "    smoothed = np.convolve(weights, y, mode='valid')\n",
    "    \n",
    "    return smoothed #smoothed_padded\n",
    "\n",
    "def calculate_derivatives(interpolacion, times, derivative):\n",
    "    d_interpolacion = np.diff(interpolacion) / times[2+derivative:]\n",
    "    return d_interpolacion\n",
    "\n",
    "\n",
    "open_prices = recent_data['Open'].values\n",
    "times = (np.diff(recent_data.Tiempo)/np.timedelta64(1, 's')).astype(float)\n",
    "\n",
    "start = time.time()\n",
    "interpolacion = savgol_filter(open_prices, smooth_interval, 3)\n",
    "primer_derivada = calculate_derivatives(interpolacion, times, 1)\n",
    "pd_interpolacion = savgol_filter(primer_derivada, smooth_interval, 3)\n",
    "segunda_derivada = calculate_derivatives(pd_interpolacion, times, 5)\n",
    "sd_interpolacion = savgol_filter(segunda_derivada, smooth_interval, 3)\n",
    "tercer_derivada = calculate_derivatives(sd_interpolacion, times, 9)\n",
    "td_interpolacion = savgol_filter(tercer_derivada, smooth_interval, 3)\n",
    "recent_data['Primer_Derivada'] = np.concatenate([np.zeros(3),interpolacion])\n",
    "recent_data['Primer_Derivada'] = np.concatenate([np.zeros(4),primer_derivada])\n",
    "recent_data['PD_Interpolacion'] = np.concatenate([np.zeros(7),pd_interpolacion])\n",
    "recent_data['Segunda_Derivada'] = np.concatenate([np.zeros(8),segunda_derivada])\n",
    "recent_data['SD_Interpolacion'] = np.concatenate([np.zeros(11),sd_interpolacion])\n",
    "recent_data['Tercer_Derivada'] = np.concatenate([np.zeros(12),tercer_derivada])\n",
    "recent_data['TD_Interpolacion'] = np.concatenate([np.zeros(15),td_interpolacion])\n",
    "end = time.time()\n",
    "print(\"CPU ON DERIVATIVES = %s\" % (end - start))"
   ]
  },
  {
   "cell_type": "code",
   "execution_count": 5,
   "metadata": {},
   "outputs": [
    {
     "ename": "AttributeError",
     "evalue": "'numpy.ndarray' object has no attribute 'index'",
     "output_type": "error",
     "traceback": [
      "\u001b[0;31m---------------------------------------------------------------------------\u001b[0m",
      "\u001b[0;31mAttributeError\u001b[0m                            Traceback (most recent call last)",
      "Cell \u001b[0;32mIn[5], line 1\u001b[0m\n\u001b[0;32m----> 1\u001b[0m \u001b[43mtd_interpolacion\u001b[49m\u001b[38;5;241;43m.\u001b[39;49m\u001b[43mindex\u001b[49m()\n",
      "\u001b[0;31mAttributeError\u001b[0m: 'numpy.ndarray' object has no attribute 'index'"
     ]
    }
   ],
   "source": [
    "td_interpolacion"
   ]
  },
  {
   "cell_type": "code",
   "execution_count": 3,
   "metadata": {},
   "outputs": [
    {
     "name": "stdout",
     "output_type": "stream",
     "text": [
      "DERIVATIVES = 0.6396634578704834\n"
     ]
    }
   ],
   "source": [
    "start = time.time()\n",
    "recent_data['Interpolacion'] = sc.signal.savgol_filter(recent_data.Open,smooth_interval,smooth_exp)\n",
    "recent_data['Primer_Derivada'] = recent_data.Interpolacion.diff()/(recent_data.Tiempo.diff()/np.timedelta64(1, 's'))\n",
    "recent_data['PD_Interpolacion'] = sc.signal.savgol_filter(recent_data.Primer_Derivada,smooth_interval,smooth_exp)\n",
    "recent_data['Segunda_Derivada'] = recent_data.PD_Interpolacion.diff()/(recent_data.Tiempo.diff()/np.timedelta64(1, 's'))\n",
    "recent_data['SD_Interpolacion'] = sc.signal.savgol_filter(recent_data.Segunda_Derivada,smooth_interval,smooth_exp)\n",
    "recent_data['Tercer_Derivada'] = recent_data.SD_Interpolacion.diff()/(recent_data.Tiempo.diff()/np.timedelta64(1, 's'))\n",
    "recent_data['TD_Interpolacion'] = sc.signal.savgol_filter(recent_data.Tercer_Derivada,smooth_interval,smooth_exp)\n",
    "end = time.time()\n",
    "print(\"DERIVATIVES = %s\" % (end - start))"
   ]
  },
  {
   "cell_type": "code",
   "execution_count": 15,
   "metadata": {},
   "outputs": [
    {
     "data": {
      "text/plain": [
       "0          0.000000\n",
       "1          0.000000\n",
       "2          0.000000\n",
       "3          0.000000\n",
       "4          0.000000\n",
       "             ...   \n",
       "3473177    0.003414\n",
       "3473178   -0.001167\n",
       "3473179    0.007578\n",
       "3473180    0.009814\n",
       "3473181   -0.008669\n",
       "Name: SD_Interpolacion, Length: 3473182, dtype: float64"
      ]
     },
     "execution_count": 15,
     "metadata": {},
     "output_type": "execute_result"
    }
   ],
   "source": [
    "recent_data['SD_Interpolacion']"
   ]
  },
  {
   "cell_type": "code",
   "execution_count": 5,
   "metadata": {},
   "outputs": [
    {
     "ename": "TypingError",
     "evalue": "Failed in nopython mode pipeline (step: nopython frontend)\n\u001b[1mUntyped global name 'recent_data':\u001b[0m \u001b[1m\u001b[1mCannot determine Numba type of <class 'pandas.core.frame.DataFrame'>\u001b[0m\n\u001b[1m\nFile \"..\\..\\..\\..\\..\\..\\AppData\\Local\\Temp\\ipykernel_10568\\2094299100.py\", line 3:\u001b[0m\n\u001b[1m<source missing, REPL/exec in use?>\u001b[0m\n\u001b[0m \n\nThis error may have been caused by the following argument(s):\n- argument 0: \u001b[1mCannot determine Numba type of <class 'pandas.core.frame.DataFrame'>\u001b[0m\n",
     "output_type": "error",
     "traceback": [
      "\u001b[1;31m---------------------------------------------------------------------------\u001b[0m",
      "\u001b[1;31mTypingError\u001b[0m                               Traceback (most recent call last)",
      "Cell \u001b[1;32mIn[5], line 35\u001b[0m\n\u001b[0;32m     31\u001b[0m     \u001b[38;5;28;01mreturn\u001b[39;00m max_points_idx, min_points_idx\n\u001b[0;32m     34\u001b[0m start \u001b[38;5;241m=\u001b[39m time\u001b[38;5;241m.\u001b[39mtime()\n\u001b[1;32m---> 35\u001b[0m max_points_idx, min_points_idx \u001b[38;5;241m=\u001b[39m \u001b[43mfind_extrema\u001b[49m\u001b[43m(\u001b[49m\u001b[43mrecent_data\u001b[49m\u001b[43m,\u001b[49m\u001b[43m \u001b[49m\u001b[43mz_aprox\u001b[49m\u001b[43m,\u001b[49m\u001b[43m \u001b[49m\u001b[43mstd_mult\u001b[49m\u001b[43m,\u001b[49m\u001b[43m \u001b[49m\u001b[43mrango\u001b[49m\u001b[43m)\u001b[49m\n\u001b[0;32m     36\u001b[0m end \u001b[38;5;241m=\u001b[39m time\u001b[38;5;241m.\u001b[39mtime()\n\u001b[0;32m     37\u001b[0m \u001b[38;5;28mprint\u001b[39m(\u001b[38;5;124m\"\u001b[39m\u001b[38;5;124mOPTIMIZED CPU ON STRATEGY = \u001b[39m\u001b[38;5;132;01m%s\u001b[39;00m\u001b[38;5;124m\"\u001b[39m \u001b[38;5;241m%\u001b[39m (end \u001b[38;5;241m-\u001b[39m start))\n",
      "File \u001b[1;32mc:\\Users\\tinma\\OneDrive\\Escritorio\\tradingbot\\gpu_tradingbot\\lib\\site-packages\\numba\\core\\dispatcher.py:468\u001b[0m, in \u001b[0;36m_DispatcherBase._compile_for_args\u001b[1;34m(self, *args, **kws)\u001b[0m\n\u001b[0;32m    464\u001b[0m         msg \u001b[38;5;241m=\u001b[39m (\u001b[38;5;124mf\u001b[39m\u001b[38;5;124m\"\u001b[39m\u001b[38;5;132;01m{\u001b[39;00m\u001b[38;5;28mstr\u001b[39m(e)\u001b[38;5;241m.\u001b[39mrstrip()\u001b[38;5;132;01m}\u001b[39;00m\u001b[38;5;124m \u001b[39m\u001b[38;5;130;01m\\n\u001b[39;00m\u001b[38;5;130;01m\\n\u001b[39;00m\u001b[38;5;124mThis error may have been caused \u001b[39m\u001b[38;5;124m\"\u001b[39m\n\u001b[0;32m    465\u001b[0m                \u001b[38;5;124mf\u001b[39m\u001b[38;5;124m\"\u001b[39m\u001b[38;5;124mby the following argument(s):\u001b[39m\u001b[38;5;130;01m\\n\u001b[39;00m\u001b[38;5;132;01m{\u001b[39;00margs_str\u001b[38;5;132;01m}\u001b[39;00m\u001b[38;5;130;01m\\n\u001b[39;00m\u001b[38;5;124m\"\u001b[39m)\n\u001b[0;32m    466\u001b[0m         e\u001b[38;5;241m.\u001b[39mpatch_message(msg)\n\u001b[1;32m--> 468\u001b[0m     \u001b[43merror_rewrite\u001b[49m\u001b[43m(\u001b[49m\u001b[43me\u001b[49m\u001b[43m,\u001b[49m\u001b[43m \u001b[49m\u001b[38;5;124;43m'\u001b[39;49m\u001b[38;5;124;43mtyping\u001b[39;49m\u001b[38;5;124;43m'\u001b[39;49m\u001b[43m)\u001b[49m\n\u001b[0;32m    469\u001b[0m \u001b[38;5;28;01mexcept\u001b[39;00m errors\u001b[38;5;241m.\u001b[39mUnsupportedError \u001b[38;5;28;01mas\u001b[39;00m e:\n\u001b[0;32m    470\u001b[0m     \u001b[38;5;66;03m# Something unsupported is present in the user code, add help info\u001b[39;00m\n\u001b[0;32m    471\u001b[0m     error_rewrite(e, \u001b[38;5;124m'\u001b[39m\u001b[38;5;124munsupported_error\u001b[39m\u001b[38;5;124m'\u001b[39m)\n",
      "File \u001b[1;32mc:\\Users\\tinma\\OneDrive\\Escritorio\\tradingbot\\gpu_tradingbot\\lib\\site-packages\\numba\\core\\dispatcher.py:409\u001b[0m, in \u001b[0;36m_DispatcherBase._compile_for_args.<locals>.error_rewrite\u001b[1;34m(e, issue_type)\u001b[0m\n\u001b[0;32m    407\u001b[0m     \u001b[38;5;28;01mraise\u001b[39;00m e\n\u001b[0;32m    408\u001b[0m \u001b[38;5;28;01melse\u001b[39;00m:\n\u001b[1;32m--> 409\u001b[0m     \u001b[38;5;28;01mraise\u001b[39;00m e\u001b[38;5;241m.\u001b[39mwith_traceback(\u001b[38;5;28;01mNone\u001b[39;00m)\n",
      "\u001b[1;31mTypingError\u001b[0m: Failed in nopython mode pipeline (step: nopython frontend)\n\u001b[1mUntyped global name 'recent_data':\u001b[0m \u001b[1m\u001b[1mCannot determine Numba type of <class 'pandas.core.frame.DataFrame'>\u001b[0m\n\u001b[1m\nFile \"..\\..\\..\\..\\..\\..\\AppData\\Local\\Temp\\ipykernel_10568\\2094299100.py\", line 3:\u001b[0m\n\u001b[1m<source missing, REPL/exec in use?>\u001b[0m\n\u001b[0m \n\nThis error may have been caused by the following argument(s):\n- argument 0: \u001b[1mCannot determine Numba type of <class 'pandas.core.frame.DataFrame'>\u001b[0m\n"
     ]
    }
   ],
   "source": [
    "sdi = data['SD_Interpolacion']\n",
    "\n",
    "@jit(nopython=True)\n",
    "def find_extrema(data, z_aprox, std_mult, rango):\n",
    "    min_max_sd = np.diff(data.Open) / (np.diff(recent_data.Tiempo)/np.timedelta64(1, 's')).astype(float)\n",
    "    lista_min_max = recent_data[1:].iloc[(min_max_sd >= -z_aprox) & (min_max_sd <= z_aprox)]\n",
    "    indices_min_max = lista_min_max.index.tolist()\n",
    "\n",
    "    max_points_idx = []\n",
    "    min_points_idx = []\n",
    "    pmin_idx = 0\n",
    "    pmax_idx = 0\n",
    "\n",
    "    for i in range(len(indices_min_max)):\n",
    "        PMSD = indices_min_max[i]\n",
    "        if sdi[PMSD] > 0:\n",
    "            pmax = sdi[PMSD]\n",
    "            for i in range(rango+1):\n",
    "                if (data['SD_Interpolacion'][PMSD-i] > pmax) & (abs(data['SD_Interpolacion'][PMSD-i]*100) > abs(np.std(data['SD_Interpolacion'])*std_mult)):\n",
    "                    pmax_idx = PMSD-i\n",
    "                elif (data['SD_Interpolacion'][PMSD+i] > pmax) & (abs(data['SD_Interpolacion'][PMSD+i]*100) > abs(np.std(data['SD_Interpolacion'])*std_mult)):\n",
    "                    pmax_idx = PMSD+i\n",
    "            max_points_idx.append(pmax_idx)\n",
    "        elif data['SD_Interpolacion'][PMSD] < 0:\n",
    "            pmin = data['SD_Interpolacion'][PMSD]\n",
    "            for i in range(1,rango+1):\n",
    "                if (data['SD_Interpolacion'][PMSD-i] < pmin) & (abs(data['SD_Interpolacion'][PMSD-i]*80) > abs(np.std(data['SD_Interpolacion'])*std_mult)):\n",
    "                    pmin_idx = PMSD-i\n",
    "                elif (data['SD_Interpolacion'][PMSD+i] < pmin) & (abs(data['SD_Interpolacion'][PMSD+i]*80) > abs(np.std(data['SD_Interpolacion'])*std_mult)):\n",
    "                    pmin_idx = PMSD+i\n",
    "            min_points_idx.append(pmin_idx)\n",
    "\n",
    "    return max_points_idx, min_points_idx\n",
    "\n",
    "\n",
    "start = time.time()\n",
    "max_points_idx, min_points_idx = find_extrema(recent_data, z_aprox, std_mult, rango)\n",
    "end = time.time()\n",
    "print(\"OPTIMIZED CPU ON STRATEGY = %s\" % (end - start))"
   ]
  }
 ],
 "metadata": {
  "kernelspec": {
   "display_name": "gpu_tradingbot",
   "language": "python",
   "name": "python3"
  },
  "language_info": {
   "codemirror_mode": {
    "name": "ipython",
    "version": 3
   },
   "file_extension": ".py",
   "mimetype": "text/x-python",
   "name": "python",
   "nbconvert_exporter": "python",
   "pygments_lexer": "ipython3",
   "version": "3.10.12"
  }
 },
 "nbformat": 4,
 "nbformat_minor": 2
}
