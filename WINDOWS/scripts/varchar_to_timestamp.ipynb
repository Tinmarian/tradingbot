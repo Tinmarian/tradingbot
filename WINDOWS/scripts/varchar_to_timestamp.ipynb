{
 "cells": [
  {
   "cell_type": "code",
   "execution_count": 1,
   "metadata": {},
   "outputs": [],
   "source": [
    "import os\n",
    "from google.cloud.sql.connector import Connector\n",
    "from sqlalchemy import create_engine, text\n",
    "import pg8000.native\n",
    "import pandas as pd\n",
    "\n",
    "os.environ['GOOGLE_APPLICATION_CREDENTIALS'] = 'C:/Users/tinma/OneDrive/Escritorio/application_default_credentials.json'\n",
    "\n",
    "connector = Connector()\n",
    "\n",
    "def getconn() -> pg8000.native.Connection:\n",
    "    conn: pg8000.native.Connection = connector.connect(\n",
    "        \"semiotic-pact-388619:us-central1:tradingbot\",\n",
    "        \"pg8000\",\n",
    "        user=\"postgres\",\n",
    "        password=\"GuruSat.3\",\n",
    "        db=\"criptos\"\n",
    "    )\n",
    "    return conn\n",
    "\n",
    "connection = create_engine('postgresql+pg8000://',creator=getconn)"
   ]
  },
  {
   "cell_type": "code",
   "execution_count": 32,
   "metadata": {},
   "outputs": [
    {
     "name": "stdout",
     "output_type": "stream",
     "text": [
      "      Precio   Simbolo                  Tiempo\n",
      "0      362.4  BIFIUSDT 2023-06-10 04:45:39.640\n",
      "1      355.7  BIFIUSDT 2023-06-10 04:45:44.332\n",
      "2      356.6  BIFIUSDT 2023-06-10 04:45:45.619\n",
      "3      356.9  BIFIUSDT 2023-06-10 04:45:46.196\n",
      "4      357.1  BIFIUSDT 2023-06-10 04:45:46.846\n",
      "...      ...       ...                     ...\n",
      "8202   390.5  BIFIUSDT 2023-06-23 17:17:58.189\n",
      "8203   390.5  BIFIUSDT 2023-06-23 17:24:14.052\n",
      "8204   390.3  BIFIUSDT 2023-06-23 17:24:43.993\n",
      "8205   390.1  BIFIUSDT 2023-06-23 17:25:46.354\n",
      "8206   389.8  BIFIUSDT 2023-06-23 17:34:01.347\n",
      "\n",
      "[8207 rows x 3 columns]\n"
     ]
    }
   ],
   "source": [
    "with connection.connect() as conns:\n",
    "    df = conns.execute(text('SELECT * FROM \"BIFIUSDT\"')).mappings().all()\n",
    "df = pd.DataFrame(df)\n",
    "print(df)"
   ]
  },
  {
   "cell_type": "code",
   "execution_count": 2,
   "metadata": {},
   "outputs": [],
   "source": [
    "path = 'C:/Users/tinma/OneDrive/Escritorio/tradingbot/csvs/historical/byday/6years/'\n",
    "pairs = os.listdir(path)\n",
    "pairs = pd.DataFrame(pairs,columns=['pairs'])\n",
    "\n",
    "downs = pairs[pairs['pairs'].str.contains('DOWN')]\n",
    "ups = pairs[pairs['pairs'].str.contains('UP')]\n",
    "ups_downs = pd.concat([ups, downs], ignore_index=True)\n",
    "ups_downs = ups_downs[ups_downs['pairs'].str.contains('SUPERUSDT')==False]\n",
    "\n",
    "for x in ups_downs['pairs']:\n",
    "    pairs = pairs[pairs['pairs'].str.contains(x)==False]"
   ]
  },
  {
   "cell_type": "code",
   "execution_count": 3,
   "metadata": {},
   "outputs": [
    {
     "name": "stderr",
     "output_type": "stream",
     "text": [
      "C:\\Users\\tinma\\AppData\\Local\\Temp\\ipykernel_21380\\2270612637.py:3: RemovedIn20Warning: Deprecated API features detected! These feature(s) are not compatible with SQLAlchemy 2.0. To prevent incompatible upgrades prior to updating applications, ensure requirements files are pinned to \"sqlalchemy<2.0\". Set environment variable SQLALCHEMY_WARN_20=1 to show all deprecation warnings.  Set environment variable SQLALCHEMY_SILENCE_UBER_WARNING=1 to silence this message. (Background on SQLAlchemy 2.0 at: https://sqlalche.me/e/b8d9)\n",
      "  conns.execute(text(\"\"\"ALTER TABLE \"{pair}\" ALTER COLUMN \"Tiempo\" TYPE TIMESTAMP USING(\"Tiempo\"::timestamp)\"\"\".format(pair=pair)))\n"
     ]
    }
   ],
   "source": [
    "for pair in pairs['pairs']:\n",
    "    with connection.connect() as conns:\n",
    "        conns.execute(text(\"\"\"ALTER TABLE \"{pair}\" ALTER COLUMN \"Tiempo\" TYPE TIMESTAMP USING(\"Tiempo\"::timestamp)\"\"\".format(pair=pair)))"
   ]
  },
  {
   "cell_type": "code",
   "execution_count": 15,
   "metadata": {},
   "outputs": [
    {
     "data": {
      "text/html": [
       "<div>\n",
       "<style scoped>\n",
       "    .dataframe tbody tr th:only-of-type {\n",
       "        vertical-align: middle;\n",
       "    }\n",
       "\n",
       "    .dataframe tbody tr th {\n",
       "        vertical-align: top;\n",
       "    }\n",
       "\n",
       "    .dataframe thead th {\n",
       "        text-align: right;\n",
       "    }\n",
       "</style>\n",
       "<table border=\"1\" class=\"dataframe\">\n",
       "  <thead>\n",
       "    <tr style=\"text-align: right;\">\n",
       "      <th></th>\n",
       "      <th>column_name</th>\n",
       "      <th>data_type</th>\n",
       "      <th>table_name</th>\n",
       "    </tr>\n",
       "  </thead>\n",
       "  <tbody>\n",
       "    <tr>\n",
       "      <th>517</th>\n",
       "      <td>Tiempo</td>\n",
       "      <td>timestamp without time zone</td>\n",
       "      <td>DODOUSDT</td>\n",
       "    </tr>\n",
       "    <tr>\n",
       "      <th>518</th>\n",
       "      <td>Tiempo</td>\n",
       "      <td>timestamp without time zone</td>\n",
       "      <td>KSMUSDT</td>\n",
       "    </tr>\n",
       "    <tr>\n",
       "      <th>519</th>\n",
       "      <td>Tiempo</td>\n",
       "      <td>timestamp without time zone</td>\n",
       "      <td>RNDRUSDT</td>\n",
       "    </tr>\n",
       "    <tr>\n",
       "      <th>521</th>\n",
       "      <td>Tiempo</td>\n",
       "      <td>timestamp without time zone</td>\n",
       "      <td>BTTCUSDT</td>\n",
       "    </tr>\n",
       "    <tr>\n",
       "      <th>522</th>\n",
       "      <td>Tiempo</td>\n",
       "      <td>timestamp without time zone</td>\n",
       "      <td>THETAUSDT</td>\n",
       "    </tr>\n",
       "    <tr>\n",
       "      <th>...</th>\n",
       "      <td>...</td>\n",
       "      <td>...</td>\n",
       "      <td>...</td>\n",
       "    </tr>\n",
       "    <tr>\n",
       "      <th>1202</th>\n",
       "      <td>Tiempo</td>\n",
       "      <td>timestamp without time zone</td>\n",
       "      <td>CTSIUSDT</td>\n",
       "    </tr>\n",
       "    <tr>\n",
       "      <th>1203</th>\n",
       "      <td>Tiempo</td>\n",
       "      <td>timestamp without time zone</td>\n",
       "      <td>CVXUSDT</td>\n",
       "    </tr>\n",
       "    <tr>\n",
       "      <th>1204</th>\n",
       "      <td>Tiempo</td>\n",
       "      <td>timestamp without time zone</td>\n",
       "      <td>DARUSDT</td>\n",
       "    </tr>\n",
       "    <tr>\n",
       "      <th>1205</th>\n",
       "      <td>Tiempo</td>\n",
       "      <td>timestamp without time zone</td>\n",
       "      <td>LUNAUSDT</td>\n",
       "    </tr>\n",
       "    <tr>\n",
       "      <th>1788</th>\n",
       "      <td>Tiempo</td>\n",
       "      <td>text</td>\n",
       "      <td>ADAUPUSDT</td>\n",
       "    </tr>\n",
       "  </tbody>\n",
       "</table>\n",
       "<p>348 rows × 3 columns</p>\n",
       "</div>"
      ],
      "text/plain": [
       "     column_name                    data_type table_name\n",
       "517       Tiempo  timestamp without time zone   DODOUSDT\n",
       "518       Tiempo  timestamp without time zone    KSMUSDT\n",
       "519       Tiempo  timestamp without time zone   RNDRUSDT\n",
       "521       Tiempo  timestamp without time zone   BTTCUSDT\n",
       "522       Tiempo  timestamp without time zone  THETAUSDT\n",
       "...          ...                          ...        ...\n",
       "1202      Tiempo  timestamp without time zone   CTSIUSDT\n",
       "1203      Tiempo  timestamp without time zone    CVXUSDT\n",
       "1204      Tiempo  timestamp without time zone    DARUSDT\n",
       "1205      Tiempo  timestamp without time zone   LUNAUSDT\n",
       "1788      Tiempo                         text  ADAUPUSDT\n",
       "\n",
       "[348 rows x 3 columns]"
      ]
     },
     "execution_count": 15,
     "metadata": {},
     "output_type": "execute_result"
    }
   ],
   "source": [
    "\n",
    "with connection.connect() as conns:\n",
    "    df2 = conns.execute(text('SELECT table_name, column_name, data_type FROM information_schema.columns')).mappings().all()\n",
    "df2 = pd.DataFrame(df2)\n",
    "df2[df2['column_name']=='Tiempo']"
   ]
  },
  {
   "cell_type": "code",
   "execution_count": 5,
   "metadata": {},
   "outputs": [
    {
     "data": {
      "text/plain": [
       "pandas._libs.tslibs.timestamps.Timestamp"
      ]
     },
     "execution_count": 5,
     "metadata": {},
     "output_type": "execute_result"
    }
   ],
   "source": [
    "with connection.connect() as conns:\n",
    "    df1 = conns.execute(text('SELECT * FROM \"BTCUSDT\"')).mappings().all()\n",
    "df1 = pd.DataFrame(df1)\n",
    "type(df1['Tiempo'][0])"
   ]
  }
 ],
 "metadata": {
  "kernelspec": {
   "display_name": "base",
   "language": "python",
   "name": "python3"
  },
  "language_info": {
   "codemirror_mode": {
    "name": "ipython",
    "version": 3
   },
   "file_extension": ".py",
   "mimetype": "text/x-python",
   "name": "python",
   "nbconvert_exporter": "python",
   "pygments_lexer": "ipython3",
   "version": "3.10.8"
  },
  "orig_nbformat": 4
 },
 "nbformat": 4,
 "nbformat_minor": 2
}
