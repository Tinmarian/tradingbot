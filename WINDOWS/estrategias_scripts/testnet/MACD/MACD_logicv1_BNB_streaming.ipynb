{
 "cells": [
  {
   "cell_type": "code",
   "execution_count": 207,
   "metadata": {},
   "outputs": [],
   "source": [
    "# !pip install python-binance"
   ]
  },
  {
   "cell_type": "code",
   "execution_count": 1,
   "metadata": {},
   "outputs": [],
   "source": [
    "from binance import Client\n",
    "from datetime import datetime, timedelta\n",
    "client = Client(api_key=\"jM9zEeTTzT7R7QGlNrh5tUpOc8l71hOxu7CewCL4M0NvbBp3ilgmEwMOOjJfCRVB\",api_secret=\"iZxFmlz5bvROsHQPZTP5hlJtsxYjOu8wocOlLWzIDdhMzEQu7KyyHB2DseOYQ66s\",testnet=True)\n",
    "\n",
    "import os\n",
    "from google.cloud.sql.connector import Connector\n",
    "from sqlalchemy import create_engine, text\n",
    "import pg8000.native\n",
    "import pandas as pd\n",
    "\n",
    "os.environ['GOOGLE_APPLICATION_CREDENTIALS'] = 'C:/Users/tinma/OneDrive/Escritorio/application_default_credentials.json'\n",
    "\n",
    "connector = Connector()\n",
    "\n",
    "def getconn() -> pg8000.native.Connection:\n",
    "    conn: pg8000.native.Connection = connector.connect(\n",
    "        \"semiotic-pact-388619:us-central1:tradingbot\",\n",
    "        \"pg8000\",\n",
    "        user=\"postgres\",\n",
    "        password=\"GuruSat.3\",\n",
    "        db=\"criptos\"\n",
    "    )\n",
    "    return conn\n",
    "\n",
    "connection = create_engine('postgresql+pg8000://',creator=getconn)"
   ]
  },
  {
   "cell_type": "code",
   "execution_count": 2,
   "metadata": {},
   "outputs": [],
   "source": [
    "def MACD(df):\n",
    "    df['EMA12'] = df.Precio.ewm(span=12).mean()\n",
    "    df['EMA26'] = df.Precio.ewm(span=26).mean()\n",
    "    df['MACD'] = df.EMA12 - df.EMA26\n",
    "    df['Signal'] = df.MACD.ewm(span=9).mean()\n",
    "    # print('Indicadores agregados')\n",
    "\n",
    "def señal_MACD(df):\n",
    "    buy, sell = [],[]\n",
    "    for i in range(7,len(df)):\n",
    "        if df.MACD.iloc[i] > df.Signal.iloc[i] and df.MACD.iloc[i-1] < df.Signal.iloc[i-1]:\n",
    "            buy.append(i)\n",
    "        elif df.MACD.iloc[i] < df.Signal.iloc[i] and df.MACD.iloc[i-1] > df.Signal.iloc[i-1]:\n",
    "            sell.append(i)\n",
    "    return buy, sell\n",
    "\n",
    "def slopee(x1,y1,x2,y2):\n",
    "    x = (y2 - y1) / (x2 - x1).total_seconds()\n",
    "    return x"
   ]
  },
  {
   "cell_type": "code",
   "execution_count": 29,
   "metadata": {},
   "outputs": [
    {
     "name": "stderr",
     "output_type": "stream",
     "text": [
      "C:\\Users\\tinma\\AppData\\Local\\Temp\\ipykernel_17296\\3809730279.py:18: RuntimeWarning: invalid value encountered in double_scalars\n",
      "  x = (y2 - y1) / (x2 - x1).total_seconds()\n",
      "C:\\Users\\tinma\\AppData\\Local\\Temp\\ipykernel_17296\\3809730279.py:18: RuntimeWarning: invalid value encountered in double_scalars\n",
      "  x = (y2 - y1) / (x2 - x1).total_seconds()\n",
      "C:\\Users\\tinma\\AppData\\Local\\Temp\\ipykernel_17296\\3809730279.py:18: RuntimeWarning: invalid value encountered in double_scalars\n",
      "  x = (y2 - y1) / (x2 - x1).total_seconds()\n"
     ]
    },
    {
     "name": "stdout",
     "output_type": "stream",
     "text": [
      "Se realizó una compra al precio: 237.2, en el momento: 2023-06-30 03:38:47.709550.\n",
      "Se realizó una venta al precio: 238.21, en el momento: 2023-06-30 04:40:40.438117. Método 4 en ganancia.\n",
      "La ganancia fue de: 0.10100000000000194 dólares\n"
     ]
    },
    {
     "name": "stderr",
     "output_type": "stream",
     "text": [
      "C:\\Users\\tinma\\AppData\\Local\\Temp\\ipykernel_17296\\3809730279.py:18: RuntimeWarning: invalid value encountered in double_scalars\n",
      "  x = (y2 - y1) / (x2 - x1).total_seconds()\n"
     ]
    },
    {
     "name": "stdout",
     "output_type": "stream",
     "text": [
      "Se realizó una compra al precio: 238.4, en el momento: 2023-06-30 04:40:44.431343.\n",
      "Se realizó una venta al precio: 239.5, en el momento: 2023-06-30 04:43:00.149077.  Método 2 en ganancia.\n",
      "La ganancia fue de: 0.10999999999999943 dólares\n"
     ]
    },
    {
     "name": "stderr",
     "output_type": "stream",
     "text": [
      "C:\\Users\\tinma\\AppData\\Local\\Temp\\ipykernel_17296\\3809730279.py:18: RuntimeWarning: invalid value encountered in double_scalars\n",
      "  x = (y2 - y1) / (x2 - x1).total_seconds()\n"
     ]
    },
    {
     "name": "stdout",
     "output_type": "stream",
     "text": [
      "Se realizó una compra al precio: 239.76, en el momento: 2023-06-30 04:43:03.758131.\n",
      "Se realizó una venta al precio: 237.7, en el momento: 2023-06-30 05:05:06.857400.  Método 1 en pérdidas.\n",
      "La pérdida fue de: -0.20600000000000024 dólares\n"
     ]
    },
    {
     "name": "stderr",
     "output_type": "stream",
     "text": [
      "C:\\Users\\tinma\\AppData\\Local\\Temp\\ipykernel_17296\\3809730279.py:18: RuntimeWarning: invalid value encountered in double_scalars\n",
      "  x = (y2 - y1) / (x2 - x1).total_seconds()\n",
      "C:\\Users\\tinma\\AppData\\Local\\Temp\\ipykernel_17296\\3809730279.py:18: RuntimeWarning: invalid value encountered in double_scalars\n",
      "  x = (y2 - y1) / (x2 - x1).total_seconds()\n"
     ]
    },
    {
     "name": "stdout",
     "output_type": "stream",
     "text": [
      "Se realizó una compra al precio: 237.7, en el momento: 2023-06-30 05:05:16.003988.\n",
      "Se realizó una venta al precio: 238.7, en el momento: 2023-06-30 05:20:29.740018. Método 4 en ganancia.\n",
      "La ganancia fue de: 0.1 dólares\n"
     ]
    },
    {
     "name": "stderr",
     "output_type": "stream",
     "text": [
      "C:\\Users\\tinma\\AppData\\Local\\Temp\\ipykernel_17296\\3809730279.py:18: RuntimeWarning: invalid value encountered in double_scalars\n",
      "  x = (y2 - y1) / (x2 - x1).total_seconds()\n",
      "C:\\Users\\tinma\\AppData\\Local\\Temp\\ipykernel_17296\\3809730279.py:18: RuntimeWarning: invalid value encountered in double_scalars\n",
      "  x = (y2 - y1) / (x2 - x1).total_seconds()\n",
      "C:\\Users\\tinma\\AppData\\Local\\Temp\\ipykernel_17296\\3809730279.py:18: RuntimeWarning: invalid value encountered in double_scalars\n",
      "  x = (y2 - y1) / (x2 - x1).total_seconds()\n",
      "C:\\Users\\tinma\\AppData\\Local\\Temp\\ipykernel_17296\\3809730279.py:18: RuntimeWarning: invalid value encountered in double_scalars\n",
      "  x = (y2 - y1) / (x2 - x1).total_seconds()\n",
      "C:\\Users\\tinma\\AppData\\Local\\Temp\\ipykernel_17296\\3809730279.py:18: RuntimeWarning: invalid value encountered in double_scalars\n",
      "  x = (y2 - y1) / (x2 - x1).total_seconds()\n"
     ]
    },
    {
     "name": "stdout",
     "output_type": "stream",
     "text": [
      "Se realizó una compra al precio: 238.8, en el momento: 2023-06-30 05:20:52.695839.\n",
      "Se realizó una venta al precio: 236.6, en el momento: 2023-06-30 05:52:41.299711.  Método 1 en pérdidas.\n",
      "La pérdida fue de: -0.22000000000000172 dólares\n"
     ]
    },
    {
     "name": "stderr",
     "output_type": "stream",
     "text": [
      "C:\\Users\\tinma\\AppData\\Local\\Temp\\ipykernel_17296\\3809730279.py:18: RuntimeWarning: invalid value encountered in double_scalars\n",
      "  x = (y2 - y1) / (x2 - x1).total_seconds()\n",
      "C:\\Users\\tinma\\AppData\\Local\\Temp\\ipykernel_17296\\3809730279.py:18: RuntimeWarning: invalid value encountered in double_scalars\n",
      "  x = (y2 - y1) / (x2 - x1).total_seconds()\n"
     ]
    },
    {
     "name": "stdout",
     "output_type": "stream",
     "text": [
      "Se realizó una compra al precio: 236.6, en el momento: 2023-06-30 05:52:49.334086.\n",
      "Se realizó una venta al precio: 237.6, en el momento: 2023-06-30 07:03:34.735923. Método 4 en ganancia.\n",
      "La ganancia fue de: 0.1 dólares\n"
     ]
    },
    {
     "name": "stderr",
     "output_type": "stream",
     "text": [
      "C:\\Users\\tinma\\AppData\\Local\\Temp\\ipykernel_17296\\3809730279.py:18: RuntimeWarning: invalid value encountered in double_scalars\n",
      "  x = (y2 - y1) / (x2 - x1).total_seconds()\n"
     ]
    },
    {
     "name": "stdout",
     "output_type": "stream",
     "text": [
      "Se realizó una compra al precio: 237.63, en el momento: 2023-06-30 07:03:39.603441.\n",
      "Se realizó una venta al precio: 238.41, en el momento: 2023-06-30 07:51:50.841764. Método 4 en ganancia.\n",
      "La ganancia fue de: 0.07800000000000012 dólares\n"
     ]
    },
    {
     "name": "stderr",
     "output_type": "stream",
     "text": [
      "C:\\Users\\tinma\\AppData\\Local\\Temp\\ipykernel_17296\\3809730279.py:18: RuntimeWarning: invalid value encountered in double_scalars\n",
      "  x = (y2 - y1) / (x2 - x1).total_seconds()\n",
      "C:\\Users\\tinma\\AppData\\Local\\Temp\\ipykernel_17296\\3809730279.py:18: RuntimeWarning: invalid value encountered in double_scalars\n",
      "  x = (y2 - y1) / (x2 - x1).total_seconds()\n",
      "C:\\Users\\tinma\\AppData\\Local\\Temp\\ipykernel_17296\\3809730279.py:18: RuntimeWarning: invalid value encountered in double_scalars\n",
      "  x = (y2 - y1) / (x2 - x1).total_seconds()\n",
      "C:\\Users\\tinma\\AppData\\Local\\Temp\\ipykernel_17296\\3809730279.py:18: RuntimeWarning: invalid value encountered in double_scalars\n",
      "  x = (y2 - y1) / (x2 - x1).total_seconds()\n",
      "C:\\Users\\tinma\\AppData\\Local\\Temp\\ipykernel_17296\\3809730279.py:18: RuntimeWarning: invalid value encountered in double_scalars\n",
      "  x = (y2 - y1) / (x2 - x1).total_seconds()\n",
      "C:\\Users\\tinma\\AppData\\Local\\Temp\\ipykernel_17296\\3809730279.py:18: RuntimeWarning: invalid value encountered in double_scalars\n",
      "  x = (y2 - y1) / (x2 - x1).total_seconds()\n",
      "C:\\Users\\tinma\\AppData\\Local\\Temp\\ipykernel_17296\\3809730279.py:18: RuntimeWarning: invalid value encountered in double_scalars\n",
      "  x = (y2 - y1) / (x2 - x1).total_seconds()\n",
      "C:\\Users\\tinma\\AppData\\Local\\Temp\\ipykernel_17296\\3809730279.py:18: RuntimeWarning: invalid value encountered in double_scalars\n",
      "  x = (y2 - y1) / (x2 - x1).total_seconds()\n"
     ]
    },
    {
     "name": "stdout",
     "output_type": "stream",
     "text": [
      "Se realizó una compra al precio: 238.96, en el momento: 2023-06-30 07:52:21.000569.\n",
      "Se realizó una venta al precio: 240.0, en el momento: 2023-06-30 10:16:23.266216.  Método 2 en ganancia.\n",
      "La ganancia fue de: 0.1039999999999992 dólares\n"
     ]
    },
    {
     "name": "stderr",
     "output_type": "stream",
     "text": [
      "C:\\Users\\tinma\\AppData\\Local\\Temp\\ipykernel_17296\\3809730279.py:18: RuntimeWarning: invalid value encountered in double_scalars\n",
      "  x = (y2 - y1) / (x2 - x1).total_seconds()\n",
      "C:\\Users\\tinma\\AppData\\Local\\Temp\\ipykernel_17296\\3809730279.py:18: RuntimeWarning: invalid value encountered in double_scalars\n",
      "  x = (y2 - y1) / (x2 - x1).total_seconds()\n",
      "C:\\Users\\tinma\\AppData\\Local\\Temp\\ipykernel_17296\\3809730279.py:18: RuntimeWarning: invalid value encountered in double_scalars\n",
      "  x = (y2 - y1) / (x2 - x1).total_seconds()\n",
      "C:\\Users\\tinma\\AppData\\Local\\Temp\\ipykernel_17296\\3809730279.py:18: RuntimeWarning: invalid value encountered in double_scalars\n",
      "  x = (y2 - y1) / (x2 - x1).total_seconds()\n",
      "C:\\Users\\tinma\\AppData\\Local\\Temp\\ipykernel_17296\\3809730279.py:18: RuntimeWarning: invalid value encountered in double_scalars\n",
      "  x = (y2 - y1) / (x2 - x1).total_seconds()\n",
      "C:\\Users\\tinma\\AppData\\Local\\Temp\\ipykernel_17296\\3809730279.py:18: RuntimeWarning: invalid value encountered in double_scalars\n",
      "  x = (y2 - y1) / (x2 - x1).total_seconds()\n",
      "C:\\Users\\tinma\\AppData\\Local\\Temp\\ipykernel_17296\\3809730279.py:18: RuntimeWarning: invalid value encountered in double_scalars\n",
      "  x = (y2 - y1) / (x2 - x1).total_seconds()\n",
      "C:\\Users\\tinma\\AppData\\Local\\Temp\\ipykernel_17296\\3809730279.py:18: RuntimeWarning: invalid value encountered in double_scalars\n",
      "  x = (y2 - y1) / (x2 - x1).total_seconds()\n"
     ]
    },
    {
     "name": "stdout",
     "output_type": "stream",
     "text": [
      "Se realizó una compra al precio: 240.1, en el momento: 2023-06-30 10:16:52.856478.\n",
      "Se realizó una venta al precio: 241.6, en el momento: 2023-06-30 12:07:01.514623. Método 4 en ganancia.\n",
      "La ganancia fue de: 0.15000000000000002 dólares\n"
     ]
    },
    {
     "name": "stderr",
     "output_type": "stream",
     "text": [
      "C:\\Users\\tinma\\AppData\\Local\\Temp\\ipykernel_17296\\3809730279.py:18: RuntimeWarning: invalid value encountered in double_scalars\n",
      "  x = (y2 - y1) / (x2 - x1).total_seconds()\n"
     ]
    },
    {
     "name": "stdout",
     "output_type": "stream",
     "text": [
      "Se realizó una compra al precio: 241.8, en el momento: 2023-06-30 12:07:05.496427.\n",
      "Se realizó una venta al precio: 239.0, en el momento: 2023-06-30 13:36:26.550436.  Método 1 en pérdidas.\n",
      "La pérdida fue de: -0.28000000000000114 dólares\n",
      "Se realizó una compra al precio: 239.43, en el momento: 2023-06-30 13:36:34.147226.\n",
      "Se realizó una venta al precio: 236.8, en el momento: 2023-06-30 13:38:42.024772.  Método 1 en pérdidas.\n",
      "La pérdida fue de: -0.26299999999999957 dólares\n",
      "Se realizó una compra al precio: 236.6, en el momento: 2023-06-30 13:39:21.987112.\n",
      "Se realizó una venta al precio: 233.8, en el momento: 2023-06-30 13:41:59.648438.  Método 1 en pérdidas.\n",
      "La pérdida fue de: -0.2799999999999983 dólares\n",
      "Se realizó una compra al precio: 234.2, en el momento: 2023-06-30 13:42:07.429274.\n",
      "Se realizó una venta al precio: 235.4, en el momento: 2023-06-30 13:43:14.431978.  Método 2 en ganancia.\n",
      "La ganancia fue de: 0.12000000000000172 dólares\n",
      "Se realizó una compra al precio: 235.2, en el momento: 2023-06-30 13:43:18.194522.\n",
      "Se realizó una venta al precio: 232.62, en el momento: 2023-06-30 13:47:38.871785.  Método 1 en pérdidas.\n",
      "La pérdida fue de: -0.2579999999999984 dólares\n",
      "Se realizó una compra al precio: 232.16, en el momento: 2023-06-30 13:48:17.765567.\n",
      "Se realizó una venta al precio: 233.3, en el momento: 2023-06-30 13:51:56.114185.  Método 2 en ganancia.\n",
      "La ganancia fue de: 0.11400000000000149 dólares\n",
      "Se realizó una compra al precio: 233.7, en el momento: 2023-06-30 13:52:00.115748.\n",
      "Se realizó una venta al precio: 234.4, en el momento: 2023-06-30 13:59:43.740869.  Método 2 en ganancia.\n",
      "La ganancia fue de: 0.07000000000000171 dólares\n",
      "Se realizó una compra al precio: 235.39, en el momento: 2023-06-30 14:00:29.157668.\n"
     ]
    },
    {
     "ename": "KeyboardInterrupt",
     "evalue": "",
     "output_type": "error",
     "traceback": [
      "\u001b[1;31m---------------------------------------------------------------------------\u001b[0m",
      "\u001b[1;31mKeyboardInterrupt\u001b[0m                         Traceback (most recent call last)",
      "\u001b[1;32mc:\\Users\\tinma\\OneDrive\\Escritorio\\tradingbot\\estrategias_scripts\\testnet\\MACD_BNB.ipynb Celda 4\u001b[0m in \u001b[0;36m1\n\u001b[0;32m     <a href='vscode-notebook-cell:/c%3A/Users/tinma/OneDrive/Escritorio/tradingbot/estrategias_scripts/testnet/MACD_BNB.ipynb#W4sZmlsZQ%3D%3D?line=13'>14</a>\u001b[0m day \u001b[39m=\u001b[39m datetime\u001b[39m.\u001b[39mutcnow() \u001b[39m-\u001b[39m timedelta(\u001b[39m1\u001b[39m)\n\u001b[0;32m     <a href='vscode-notebook-cell:/c%3A/Users/tinma/OneDrive/Escritorio/tradingbot/estrategias_scripts/testnet/MACD_BNB.ipynb#W4sZmlsZQ%3D%3D?line=15'>16</a>\u001b[0m \u001b[39mwith\u001b[39;00m connection\u001b[39m.\u001b[39mconnect() \u001b[39mas\u001b[39;00m conn:\n\u001b[1;32m---> <a href='vscode-notebook-cell:/c%3A/Users/tinma/OneDrive/Escritorio/tradingbot/estrategias_scripts/testnet/MACD_BNB.ipynb#W4sZmlsZQ%3D%3D?line=16'>17</a>\u001b[0m     df \u001b[39m=\u001b[39mconn\u001b[39m.\u001b[39;49mexecute(text(\u001b[39m\"\"\"\u001b[39;49m\u001b[39m SELECT * FROM \u001b[39;49m\u001b[39m\"\u001b[39;49m\u001b[39mBNBUSDT\u001b[39;49m\u001b[39m\"\u001b[39;49m\u001b[39m WHERE \u001b[39;49m\u001b[39m\"\u001b[39;49m\u001b[39mTiempo\u001b[39;49m\u001b[39m\"\u001b[39;49m\u001b[39m > \u001b[39;49m\u001b[39m'\u001b[39;49m\u001b[39m{day}\u001b[39;49;00m\u001b[39m'\u001b[39;49m\u001b[39m \u001b[39;49m\u001b[39m\"\"\"\u001b[39;49m\u001b[39m.\u001b[39;49mformat(day\u001b[39m=\u001b[39;49mday)))\u001b[39m.\u001b[39mmappings()\u001b[39m.\u001b[39mall()\n\u001b[0;32m     <a href='vscode-notebook-cell:/c%3A/Users/tinma/OneDrive/Escritorio/tradingbot/estrategias_scripts/testnet/MACD_BNB.ipynb#W4sZmlsZQ%3D%3D?line=17'>18</a>\u001b[0m df \u001b[39m=\u001b[39m pd\u001b[39m.\u001b[39mDataFrame(df)[[\u001b[39m'\u001b[39m\u001b[39mTiempo\u001b[39m\u001b[39m'\u001b[39m, \u001b[39m'\u001b[39m\u001b[39mPrecio\u001b[39m\u001b[39m'\u001b[39m]]\u001b[39m.\u001b[39mset_index(\u001b[39m'\u001b[39m\u001b[39mTiempo\u001b[39m\u001b[39m'\u001b[39m)\n\u001b[0;32m     <a href='vscode-notebook-cell:/c%3A/Users/tinma/OneDrive/Escritorio/tradingbot/estrategias_scripts/testnet/MACD_BNB.ipynb#W4sZmlsZQ%3D%3D?line=18'>19</a>\u001b[0m df \u001b[39m=\u001b[39m df\u001b[39m.\u001b[39msort_values(by\u001b[39m=\u001b[39m\u001b[39m'\u001b[39m\u001b[39mTiempo\u001b[39m\u001b[39m'\u001b[39m)\n",
      "File \u001b[1;32mc:\\Users\\tinma\\AppData\\Local\\Programs\\Python\\Python310\\lib\\site-packages\\sqlalchemy\\engine\\base.py:1380\u001b[0m, in \u001b[0;36mConnection.execute\u001b[1;34m(self, statement, *multiparams, **params)\u001b[0m\n\u001b[0;32m   1376\u001b[0m     util\u001b[39m.\u001b[39mraise_(\n\u001b[0;32m   1377\u001b[0m         exc\u001b[39m.\u001b[39mObjectNotExecutableError(statement), replace_context\u001b[39m=\u001b[39merr\n\u001b[0;32m   1378\u001b[0m     )\n\u001b[0;32m   1379\u001b[0m \u001b[39melse\u001b[39;00m:\n\u001b[1;32m-> 1380\u001b[0m     \u001b[39mreturn\u001b[39;00m meth(\u001b[39mself\u001b[39;49m, multiparams, params, _EMPTY_EXECUTION_OPTS)\n",
      "File \u001b[1;32mc:\\Users\\tinma\\AppData\\Local\\Programs\\Python\\Python310\\lib\\site-packages\\sqlalchemy\\sql\\elements.py:334\u001b[0m, in \u001b[0;36mClauseElement._execute_on_connection\u001b[1;34m(self, connection, multiparams, params, execution_options, _force)\u001b[0m\n\u001b[0;32m    330\u001b[0m \u001b[39mdef\u001b[39;00m \u001b[39m_execute_on_connection\u001b[39m(\n\u001b[0;32m    331\u001b[0m     \u001b[39mself\u001b[39m, connection, multiparams, params, execution_options, _force\u001b[39m=\u001b[39m\u001b[39mFalse\u001b[39;00m\n\u001b[0;32m    332\u001b[0m ):\n\u001b[0;32m    333\u001b[0m     \u001b[39mif\u001b[39;00m _force \u001b[39mor\u001b[39;00m \u001b[39mself\u001b[39m\u001b[39m.\u001b[39msupports_execution:\n\u001b[1;32m--> 334\u001b[0m         \u001b[39mreturn\u001b[39;00m connection\u001b[39m.\u001b[39;49m_execute_clauseelement(\n\u001b[0;32m    335\u001b[0m             \u001b[39mself\u001b[39;49m, multiparams, params, execution_options\n\u001b[0;32m    336\u001b[0m         )\n\u001b[0;32m    337\u001b[0m     \u001b[39melse\u001b[39;00m:\n\u001b[0;32m    338\u001b[0m         \u001b[39mraise\u001b[39;00m exc\u001b[39m.\u001b[39mObjectNotExecutableError(\u001b[39mself\u001b[39m)\n",
      "File \u001b[1;32mc:\\Users\\tinma\\AppData\\Local\\Programs\\Python\\Python310\\lib\\site-packages\\sqlalchemy\\engine\\base.py:1572\u001b[0m, in \u001b[0;36mConnection._execute_clauseelement\u001b[1;34m(self, elem, multiparams, params, execution_options)\u001b[0m\n\u001b[0;32m   1560\u001b[0m compiled_cache \u001b[39m=\u001b[39m execution_options\u001b[39m.\u001b[39mget(\n\u001b[0;32m   1561\u001b[0m     \u001b[39m\"\u001b[39m\u001b[39mcompiled_cache\u001b[39m\u001b[39m\"\u001b[39m, \u001b[39mself\u001b[39m\u001b[39m.\u001b[39mengine\u001b[39m.\u001b[39m_compiled_cache\n\u001b[0;32m   1562\u001b[0m )\n\u001b[0;32m   1564\u001b[0m compiled_sql, extracted_params, cache_hit \u001b[39m=\u001b[39m elem\u001b[39m.\u001b[39m_compile_w_cache(\n\u001b[0;32m   1565\u001b[0m     dialect\u001b[39m=\u001b[39mdialect,\n\u001b[0;32m   1566\u001b[0m     compiled_cache\u001b[39m=\u001b[39mcompiled_cache,\n\u001b[1;32m   (...)\u001b[0m\n\u001b[0;32m   1570\u001b[0m     linting\u001b[39m=\u001b[39m\u001b[39mself\u001b[39m\u001b[39m.\u001b[39mdialect\u001b[39m.\u001b[39mcompiler_linting \u001b[39m|\u001b[39m compiler\u001b[39m.\u001b[39mWARN_LINTING,\n\u001b[0;32m   1571\u001b[0m )\n\u001b[1;32m-> 1572\u001b[0m ret \u001b[39m=\u001b[39m \u001b[39mself\u001b[39;49m\u001b[39m.\u001b[39;49m_execute_context(\n\u001b[0;32m   1573\u001b[0m     dialect,\n\u001b[0;32m   1574\u001b[0m     dialect\u001b[39m.\u001b[39;49mexecution_ctx_cls\u001b[39m.\u001b[39;49m_init_compiled,\n\u001b[0;32m   1575\u001b[0m     compiled_sql,\n\u001b[0;32m   1576\u001b[0m     distilled_params,\n\u001b[0;32m   1577\u001b[0m     execution_options,\n\u001b[0;32m   1578\u001b[0m     compiled_sql,\n\u001b[0;32m   1579\u001b[0m     distilled_params,\n\u001b[0;32m   1580\u001b[0m     elem,\n\u001b[0;32m   1581\u001b[0m     extracted_params,\n\u001b[0;32m   1582\u001b[0m     cache_hit\u001b[39m=\u001b[39;49mcache_hit,\n\u001b[0;32m   1583\u001b[0m )\n\u001b[0;32m   1584\u001b[0m \u001b[39mif\u001b[39;00m has_events:\n\u001b[0;32m   1585\u001b[0m     \u001b[39mself\u001b[39m\u001b[39m.\u001b[39mdispatch\u001b[39m.\u001b[39mafter_execute(\n\u001b[0;32m   1586\u001b[0m         \u001b[39mself\u001b[39m,\n\u001b[0;32m   1587\u001b[0m         elem,\n\u001b[1;32m   (...)\u001b[0m\n\u001b[0;32m   1591\u001b[0m         ret,\n\u001b[0;32m   1592\u001b[0m     )\n",
      "File \u001b[1;32mc:\\Users\\tinma\\AppData\\Local\\Programs\\Python\\Python310\\lib\\site-packages\\sqlalchemy\\engine\\base.py:1943\u001b[0m, in \u001b[0;36mConnection._execute_context\u001b[1;34m(self, dialect, constructor, statement, parameters, execution_options, *args, **kw)\u001b[0m\n\u001b[0;32m   1940\u001b[0m             branched\u001b[39m.\u001b[39mclose()\n\u001b[0;32m   1942\u001b[0m \u001b[39mexcept\u001b[39;00m \u001b[39mBaseException\u001b[39;00m \u001b[39mas\u001b[39;00m e:\n\u001b[1;32m-> 1943\u001b[0m     \u001b[39mself\u001b[39;49m\u001b[39m.\u001b[39;49m_handle_dbapi_exception(\n\u001b[0;32m   1944\u001b[0m         e, statement, parameters, cursor, context\n\u001b[0;32m   1945\u001b[0m     )\n\u001b[0;32m   1947\u001b[0m \u001b[39mreturn\u001b[39;00m result\n",
      "File \u001b[1;32mc:\\Users\\tinma\\AppData\\Local\\Programs\\Python\\Python310\\lib\\site-packages\\sqlalchemy\\engine\\base.py:2128\u001b[0m, in \u001b[0;36mConnection._handle_dbapi_exception\u001b[1;34m(self, e, statement, parameters, cursor, context)\u001b[0m\n\u001b[0;32m   2124\u001b[0m         util\u001b[39m.\u001b[39mraise_(\n\u001b[0;32m   2125\u001b[0m             sqlalchemy_exception, with_traceback\u001b[39m=\u001b[39mexc_info[\u001b[39m2\u001b[39m], from_\u001b[39m=\u001b[39me\n\u001b[0;32m   2126\u001b[0m         )\n\u001b[0;32m   2127\u001b[0m     \u001b[39melse\u001b[39;00m:\n\u001b[1;32m-> 2128\u001b[0m         util\u001b[39m.\u001b[39;49mraise_(exc_info[\u001b[39m1\u001b[39;49m], with_traceback\u001b[39m=\u001b[39;49mexc_info[\u001b[39m2\u001b[39;49m])\n\u001b[0;32m   2130\u001b[0m \u001b[39mfinally\u001b[39;00m:\n\u001b[0;32m   2131\u001b[0m     \u001b[39mdel\u001b[39;00m \u001b[39mself\u001b[39m\u001b[39m.\u001b[39m_reentrant_error\n",
      "File \u001b[1;32mc:\\Users\\tinma\\AppData\\Local\\Programs\\Python\\Python310\\lib\\site-packages\\sqlalchemy\\util\\compat.py:211\u001b[0m, in \u001b[0;36mraise_\u001b[1;34m(***failed resolving arguments***)\u001b[0m\n\u001b[0;32m    208\u001b[0m     exception\u001b[39m.\u001b[39m__cause__ \u001b[39m=\u001b[39m replace_context\n\u001b[0;32m    210\u001b[0m \u001b[39mtry\u001b[39;00m:\n\u001b[1;32m--> 211\u001b[0m     \u001b[39mraise\u001b[39;00m exception\n\u001b[0;32m    212\u001b[0m \u001b[39mfinally\u001b[39;00m:\n\u001b[0;32m    213\u001b[0m     \u001b[39m# credit to\u001b[39;00m\n\u001b[0;32m    214\u001b[0m     \u001b[39m# https://cosmicpercolator.com/2016/01/13/exception-leaks-in-python-2-and-3/\u001b[39;00m\n\u001b[0;32m    215\u001b[0m     \u001b[39m# as the __traceback__ object creates a cycle\u001b[39;00m\n\u001b[0;32m    216\u001b[0m     \u001b[39mdel\u001b[39;00m exception, replace_context, from_, with_traceback\n",
      "File \u001b[1;32mc:\\Users\\tinma\\AppData\\Local\\Programs\\Python\\Python310\\lib\\site-packages\\sqlalchemy\\engine\\base.py:1900\u001b[0m, in \u001b[0;36mConnection._execute_context\u001b[1;34m(self, dialect, constructor, statement, parameters, execution_options, *args, **kw)\u001b[0m\n\u001b[0;32m   1898\u001b[0m                 \u001b[39mbreak\u001b[39;00m\n\u001b[0;32m   1899\u001b[0m     \u001b[39mif\u001b[39;00m \u001b[39mnot\u001b[39;00m evt_handled:\n\u001b[1;32m-> 1900\u001b[0m         \u001b[39mself\u001b[39;49m\u001b[39m.\u001b[39;49mdialect\u001b[39m.\u001b[39;49mdo_execute(\n\u001b[0;32m   1901\u001b[0m             cursor, statement, parameters, context\n\u001b[0;32m   1902\u001b[0m         )\n\u001b[0;32m   1904\u001b[0m \u001b[39mif\u001b[39;00m \u001b[39mself\u001b[39m\u001b[39m.\u001b[39m_has_events \u001b[39mor\u001b[39;00m \u001b[39mself\u001b[39m\u001b[39m.\u001b[39mengine\u001b[39m.\u001b[39m_has_events:\n\u001b[0;32m   1905\u001b[0m     \u001b[39mself\u001b[39m\u001b[39m.\u001b[39mdispatch\u001b[39m.\u001b[39mafter_cursor_execute(\n\u001b[0;32m   1906\u001b[0m         \u001b[39mself\u001b[39m,\n\u001b[0;32m   1907\u001b[0m         cursor,\n\u001b[1;32m   (...)\u001b[0m\n\u001b[0;32m   1911\u001b[0m         context\u001b[39m.\u001b[39mexecutemany,\n\u001b[0;32m   1912\u001b[0m     )\n",
      "File \u001b[1;32mc:\\Users\\tinma\\AppData\\Local\\Programs\\Python\\Python310\\lib\\site-packages\\sqlalchemy\\engine\\default.py:736\u001b[0m, in \u001b[0;36mDefaultDialect.do_execute\u001b[1;34m(self, cursor, statement, parameters, context)\u001b[0m\n\u001b[0;32m    735\u001b[0m \u001b[39mdef\u001b[39;00m \u001b[39mdo_execute\u001b[39m(\u001b[39mself\u001b[39m, cursor, statement, parameters, context\u001b[39m=\u001b[39m\u001b[39mNone\u001b[39;00m):\n\u001b[1;32m--> 736\u001b[0m     cursor\u001b[39m.\u001b[39;49mexecute(statement, parameters)\n",
      "File \u001b[1;32mc:\\Users\\tinma\\AppData\\Local\\Programs\\Python\\Python310\\lib\\site-packages\\pg8000\\dbapi.py:459\u001b[0m, in \u001b[0;36mCursor.execute\u001b[1;34m(self, operation, args, stream)\u001b[0m\n\u001b[0;32m    456\u001b[0m     \u001b[39mself\u001b[39m\u001b[39m.\u001b[39m_c\u001b[39m.\u001b[39mexecute_simple(\u001b[39m\"\u001b[39m\u001b[39mbegin transaction\u001b[39m\u001b[39m\"\u001b[39m)\n\u001b[0;32m    458\u001b[0m \u001b[39mif\u001b[39;00m \u001b[39mlen\u001b[39m(args) \u001b[39m==\u001b[39m \u001b[39m0\u001b[39m \u001b[39mand\u001b[39;00m stream \u001b[39mis\u001b[39;00m \u001b[39mNone\u001b[39;00m:\n\u001b[1;32m--> 459\u001b[0m     \u001b[39mself\u001b[39m\u001b[39m.\u001b[39m_context \u001b[39m=\u001b[39m \u001b[39mself\u001b[39;49m\u001b[39m.\u001b[39;49m_c\u001b[39m.\u001b[39;49mexecute_simple(operation)\n\u001b[0;32m    460\u001b[0m \u001b[39melse\u001b[39;00m:\n\u001b[0;32m    461\u001b[0m     statement, vals \u001b[39m=\u001b[39m convert_paramstyle(paramstyle, operation, args)\n",
      "File \u001b[1;32mc:\\Users\\tinma\\AppData\\Local\\Programs\\Python\\Python310\\lib\\site-packages\\pg8000\\core.py:658\u001b[0m, in \u001b[0;36mCoreConnection.execute_simple\u001b[1;34m(self, statement)\u001b[0m\n\u001b[0;32m    656\u001b[0m \u001b[39mself\u001b[39m\u001b[39m.\u001b[39msend_QUERY(statement)\n\u001b[0;32m    657\u001b[0m _flush(\u001b[39mself\u001b[39m\u001b[39m.\u001b[39m_sock)\n\u001b[1;32m--> 658\u001b[0m \u001b[39mself\u001b[39;49m\u001b[39m.\u001b[39;49mhandle_messages(context)\n\u001b[0;32m    660\u001b[0m \u001b[39mreturn\u001b[39;00m context\n",
      "File \u001b[1;32mc:\\Users\\tinma\\AppData\\Local\\Programs\\Python\\Python310\\lib\\site-packages\\pg8000\\core.py:804\u001b[0m, in \u001b[0;36mCoreConnection.handle_messages\u001b[1;34m(self, context)\u001b[0m\n\u001b[0;32m    801\u001b[0m \u001b[39mwhile\u001b[39;00m code \u001b[39m!=\u001b[39m READY_FOR_QUERY:\n\u001b[0;32m    802\u001b[0m     code, data_len \u001b[39m=\u001b[39m ci_unpack(_read(\u001b[39mself\u001b[39m\u001b[39m.\u001b[39m_sock, \u001b[39m5\u001b[39m))\n\u001b[1;32m--> 804\u001b[0m     \u001b[39mself\u001b[39m\u001b[39m.\u001b[39mmessage_types[code](_read(\u001b[39mself\u001b[39;49m\u001b[39m.\u001b[39;49m_sock, data_len \u001b[39m-\u001b[39;49m \u001b[39m4\u001b[39;49m), context)\n\u001b[0;32m    806\u001b[0m \u001b[39mif\u001b[39;00m context\u001b[39m.\u001b[39merror \u001b[39mis\u001b[39;00m \u001b[39mnot\u001b[39;00m \u001b[39mNone\u001b[39;00m:\n\u001b[0;32m    807\u001b[0m     \u001b[39mraise\u001b[39;00m context\u001b[39m.\u001b[39merror\n",
      "File \u001b[1;32mc:\\Users\\tinma\\AppData\\Local\\Programs\\Python\\Python310\\lib\\site-packages\\pg8000\\core.py:157\u001b[0m, in \u001b[0;36m_read\u001b[1;34m(sock, size)\u001b[0m\n\u001b[0;32m    155\u001b[0m \u001b[39mtry\u001b[39;00m:\n\u001b[0;32m    156\u001b[0m     \u001b[39mwhile\u001b[39;00m got \u001b[39m<\u001b[39m size:\n\u001b[1;32m--> 157\u001b[0m         block \u001b[39m=\u001b[39m sock\u001b[39m.\u001b[39;49mread(size \u001b[39m-\u001b[39;49m got)\n\u001b[0;32m    158\u001b[0m         \u001b[39mif\u001b[39;00m block \u001b[39m==\u001b[39m \u001b[39mb\u001b[39m\u001b[39m\"\u001b[39m\u001b[39m\"\u001b[39m:\n\u001b[0;32m    159\u001b[0m             \u001b[39mraise\u001b[39;00m InterfaceError(\u001b[39m\"\u001b[39m\u001b[39mnetwork error\u001b[39m\u001b[39m\"\u001b[39m)\n",
      "File \u001b[1;32mc:\\Users\\tinma\\AppData\\Local\\Programs\\Python\\Python310\\lib\\socket.py:705\u001b[0m, in \u001b[0;36mSocketIO.readinto\u001b[1;34m(self, b)\u001b[0m\n\u001b[0;32m    703\u001b[0m \u001b[39mwhile\u001b[39;00m \u001b[39mTrue\u001b[39;00m:\n\u001b[0;32m    704\u001b[0m     \u001b[39mtry\u001b[39;00m:\n\u001b[1;32m--> 705\u001b[0m         \u001b[39mreturn\u001b[39;00m \u001b[39mself\u001b[39;49m\u001b[39m.\u001b[39;49m_sock\u001b[39m.\u001b[39;49mrecv_into(b)\n\u001b[0;32m    706\u001b[0m     \u001b[39mexcept\u001b[39;00m timeout:\n\u001b[0;32m    707\u001b[0m         \u001b[39mself\u001b[39m\u001b[39m.\u001b[39m_timeout_occurred \u001b[39m=\u001b[39m \u001b[39mTrue\u001b[39;00m\n",
      "File \u001b[1;32mc:\\Users\\tinma\\AppData\\Local\\Programs\\Python\\Python310\\lib\\ssl.py:1274\u001b[0m, in \u001b[0;36mSSLSocket.recv_into\u001b[1;34m(self, buffer, nbytes, flags)\u001b[0m\n\u001b[0;32m   1270\u001b[0m     \u001b[39mif\u001b[39;00m flags \u001b[39m!=\u001b[39m \u001b[39m0\u001b[39m:\n\u001b[0;32m   1271\u001b[0m         \u001b[39mraise\u001b[39;00m \u001b[39mValueError\u001b[39;00m(\n\u001b[0;32m   1272\u001b[0m           \u001b[39m\"\u001b[39m\u001b[39mnon-zero flags not allowed in calls to recv_into() on \u001b[39m\u001b[39m%s\u001b[39;00m\u001b[39m\"\u001b[39m \u001b[39m%\u001b[39m\n\u001b[0;32m   1273\u001b[0m           \u001b[39mself\u001b[39m\u001b[39m.\u001b[39m\u001b[39m__class__\u001b[39m)\n\u001b[1;32m-> 1274\u001b[0m     \u001b[39mreturn\u001b[39;00m \u001b[39mself\u001b[39;49m\u001b[39m.\u001b[39;49mread(nbytes, buffer)\n\u001b[0;32m   1275\u001b[0m \u001b[39melse\u001b[39;00m:\n\u001b[0;32m   1276\u001b[0m     \u001b[39mreturn\u001b[39;00m \u001b[39msuper\u001b[39m()\u001b[39m.\u001b[39mrecv_into(buffer, nbytes, flags)\n",
      "File \u001b[1;32mc:\\Users\\tinma\\AppData\\Local\\Programs\\Python\\Python310\\lib\\ssl.py:1130\u001b[0m, in \u001b[0;36mSSLSocket.read\u001b[1;34m(self, len, buffer)\u001b[0m\n\u001b[0;32m   1128\u001b[0m \u001b[39mtry\u001b[39;00m:\n\u001b[0;32m   1129\u001b[0m     \u001b[39mif\u001b[39;00m buffer \u001b[39mis\u001b[39;00m \u001b[39mnot\u001b[39;00m \u001b[39mNone\u001b[39;00m:\n\u001b[1;32m-> 1130\u001b[0m         \u001b[39mreturn\u001b[39;00m \u001b[39mself\u001b[39;49m\u001b[39m.\u001b[39;49m_sslobj\u001b[39m.\u001b[39;49mread(\u001b[39mlen\u001b[39;49m, buffer)\n\u001b[0;32m   1131\u001b[0m     \u001b[39melse\u001b[39;00m:\n\u001b[0;32m   1132\u001b[0m         \u001b[39mreturn\u001b[39;00m \u001b[39mself\u001b[39m\u001b[39m.\u001b[39m_sslobj\u001b[39m.\u001b[39mread(\u001b[39mlen\u001b[39m)\n",
      "\u001b[1;31mKeyboardInterrupt\u001b[0m: "
     ]
    }
   ],
   "source": [
    "tiempos_salida = []\n",
    "precios_salida = []\n",
    "tiempos_entrada = []\n",
    "precios_entrada = []\n",
    "buy_ids = []\n",
    "sell_ids = []\n",
    "balances = []\n",
    "ganancia_maxima = 0\n",
    "balance_inicial = float(client.get_account()['balances'][6]['free'])\n",
    "\n",
    "#### PARÁMETROS DE LAS CONDICIONES DE SALIDA Y ENTRADA.\n",
    "PAIR = 'BNBUSDT'\n",
    "pair = 'bnb'\n",
    "LOCALIDAD_SEÑAL_ENTRADA = 60 # EN SEGUNDOS. param_1\n",
    "# El primero de ellos es el promedio de la pendiente (precio/tiempo) de las últimas 10 filas del dataframe. Se utiliza para \n",
    "# saber si se debe entrar en una posición corta al alza (puesto que a la baja no estamos tradeando) junto con otra condición\n",
    "PENDIENTE_ENTRADA = 0 # param_2\n",
    "# LOS UMBRALES SON PORCENTAJES.\n",
    "UMBRAL_PERDIDA_1P = -0.0087 # param_3\n",
    "UMBRAL_GANANCIA_1G = 0.025 # param_4\n",
    "UMBRAL_GANANCIA_3G = 0.05 # param_5\n",
    "UMBRAL_GANANCIA_4G = 0.005 # param_6\n",
    "UMBRAL_MAXIMO_2G = 0.025 # param_7\n",
    "UMBRAL_MINIMO_2G = 0.005 # param_8\n",
    "LOCALIDAD_SEÑAL_SALIDA_2G = 20 # EN SEGUNDOS param_9\n",
    "LIMITE_TIEMPO_POSITIVO_4G = 10 # EN MINUTOS param_10\n",
    "\n",
    "path = 'C:/Users/tinma/OneDrive/Escritorio/tradingbot/trade_logs/testnet/MACD_logicv1/'\n",
    "\n",
    "while True:\n",
    "    day = datetime.utcnow() - timedelta(1)\n",
    "\n",
    "    with connection.connect() as conn:\n",
    "        df =conn.execute(text(\"\"\" SELECT * FROM \"{PAIR}\" WHERE \"Tiempo\" > '{day}' \"\"\".format(day=day,PAIR=PAIR))).mappings().all()\n",
    "    df = pd.DataFrame(df)[['Tiempo', 'Precio']].set_index('Tiempo')\n",
    "    df = df.sort_values(by='Tiempo')\n",
    "    MACD(df)\n",
    "    # print(datetime.utcnow() - df.index[-1])\n",
    "    buy, sell = señal_MACD(df)\n",
    "\n",
    "    buyprices = df.Precio.iloc[buy]\n",
    "    sellprices = df.Precio.iloc[sell]\n",
    "\n",
    "##############  VERIFICAMOS SI NO HAY OPERACIONES ABIERTAS: Como solo vamos a trabajar con señales de entrada, toda posición\n",
    "##############  está cerrada si la siguiente condición se cumple.\n",
    "\n",
    "    if client.get_all_orders(symbol=PAIR, requests_params={'timeout': 30})[-1]['side'] == 'SELL':\n",
    "\n",
    "##############  EN CASO DE NO HABER, SE PROCEDE A VERIFICAR LA \"LOCALIDAD\" DE LA SEÑAL: En caso de ser una señal local se crea \n",
    "##############  una orden de compra y se inicia el proceso.\n",
    "\n",
    "        pendientes = [0]\n",
    "\n",
    "        for i in range(len(df)-1):\n",
    "            x = slopee(df.index[i],df.Precio[i],df.index[i+1],df.Precio[i+1])\n",
    "            pendientes.append(x)\n",
    "\n",
    "        df['pendiente'] = pendientes\n",
    "\n",
    "        DIFF_SEÑAL_ENTRADA = (datetime.utcnow() - buyprices.index[-1]).total_seconds()\n",
    "\n",
    "        if DIFF_SEÑAL_ENTRADA < LOCALIDAD_SEÑAL_ENTRADA and df.pendiente[-10:-1].mean() > PENDIENTE_ENTRADA:\n",
    "            buy_order = client.create_order(\n",
    "                        symbol=PAIR,\n",
    "                        side=Client.SIDE_BUY,\n",
    "                        type=Client.ORDER_TYPE_MARKET,\n",
    "                        quantity=0.1\n",
    "                    )\n",
    "            tiempo_entrada = datetime.utcnow()\n",
    "            precio_entrada = float(buy_order['fills'][0]['price'])\n",
    "            buy_id = buy_order['orderId']\n",
    "\n",
    "            tiempos_entrada.append(tiempo_entrada)\n",
    "            precios_entrada.append(precio_entrada)\n",
    "            buy_ids.append(buy_id)\n",
    "            print(f'Se realizó una compra al precio: {precio_entrada}, en el momento: {tiempo_entrada}.')\n",
    "\n",
    "##############  SI EXISTE UNA OPERACIÓN ABIERTA, LA SIGUIENTE CONDICIÓN SE CUMPLE: En ese caso, se debe estar atento a cuándo\n",
    "##############  cerrar nuestra posición. Ya sea que estemos ganando o perdiendo; se establecen límites de pérdida y de ganancia,\n",
    "##############  así como también casos en los que las señales de venta se toman en cuenta, tanto en pérdidas como en ganancias.\n",
    "\n",
    "    if client.get_all_orders(symbol=PAIR, requests_params={'timeout': 30})[-1]['side'] == 'BUY':\n",
    "\n",
    "        if (df['Precio'][-1] - float(buy_order['fills'][0]['price']))/float(buy_order['fills'][0]['price']) == 0:\n",
    "            continue \n",
    "\n",
    "##############  SEÑALES DE VENTA EN CASO DE TENER PÉRDIDAS.\n",
    "\n",
    "#############  La primera señal se enfoca en no superar el umbral de pérdidas.       \n",
    "\n",
    "        elif (df['Precio'][-1] - float(buy_order['fills'][0]['price']))/float(buy_order['fills'][0]['price']) < 0:\n",
    "\n",
    "            if (df['Precio'][-1] - float(buy_order['fills'][0]['price']))/float(buy_order['fills'][0]['price']) < UMBRAL_PERDIDA_1P:\n",
    "                sell_order = client.create_order(\n",
    "                            symbol=PAIR,\n",
    "                            side=Client.SIDE_SELL,\n",
    "                            type=Client.ORDER_TYPE_MARKET,\n",
    "                            quantity=0.1\n",
    "                        )\n",
    "                tiempo_salida = datetime.utcnow()\n",
    "                precio_salida = float(sell_order['fills'][0]['price'])\n",
    "                sell_id = sell_order['orderId']\n",
    "                balance = (precio_salida - precio_entrada)\n",
    "\n",
    "                tiempos_salida.append(tiempos_salida)\n",
    "                precios_salida.append(precio_salida)\n",
    "                sell_ids.append(sell_id)\n",
    "                balances.append(balance*0.1)\n",
    "                print(f'Se realizó una venta al precio: {precio_salida}, en el momento: {tiempo_salida}.  Método 1 en pérdidas.')\n",
    "                if balance>0:\n",
    "                    print('La ganancia fue de:', (balance)*0.1, 'dólares')\n",
    "                    trade_log = pd.DataFrame([[precio_entrada, tiempo_entrada, precio_salida, tiempo_salida, (balance)*0.1,'1P',LOCALIDAD_SEÑAL_ENTRADA,PENDIENTE_ENTRADA,UMBRAL_PERDIDA_1P,UMBRAL_GANANCIA_1G,UMBRAL_GANANCIA_3G,UMBRAL_GANANCIA_4G,UMBRAL_MAXIMO_2G,UMBRAL_MINIMO_2G,LOCALIDAD_SEÑAL_SALIDA_2G,LIMITE_TIEMPO_POSITIVO_4G,DIFF_SEÑAL_ENTRADA]],\n",
    "                                        columns=['Precio_Entrada','Tiempo_Entrada','Precio_Salida','Tiempo_Salida','Ganancia','Método','param_1','param_2','param_3','param_4','param_5','param_6','param_7','param_8','param_9','param_10','param_11'])\n",
    "                    if os.path.exists(path+f'trades_ganados_{pair}.csv'):\n",
    "                        trade_log.to_csv(path+f'trades_ganados_{pair}.csv',\n",
    "                                        mode='a',\n",
    "                                        index=False,\n",
    "                                        header=False\n",
    "                                        )\n",
    "                    else:\n",
    "                        trade_log.to_csv(path+f'trades_ganados_{pair}.csv',\n",
    "                                        index=False,\n",
    "                                        header=True,\n",
    "                                        )\n",
    "                elif balance==0:\n",
    "                    print('No hubo pérdidas ni ganancias del trade')\n",
    "                elif balance<0:\n",
    "                    print('La pérdida fue de:', (balance)*0.1, 'dólares')\n",
    "                    trade_log = pd.DataFrame([[precio_entrada, tiempo_entrada, precio_salida, tiempo_salida, (balance)*0.1,'1P',LOCALIDAD_SEÑAL_ENTRADA,PENDIENTE_ENTRADA,UMBRAL_PERDIDA_1P,UMBRAL_GANANCIA_1G,UMBRAL_GANANCIA_3G,UMBRAL_GANANCIA_4G,UMBRAL_MAXIMO_2G,UMBRAL_MINIMO_2G,LOCALIDAD_SEÑAL_SALIDA_2G,LIMITE_TIEMPO_POSITIVO_4G,DIFF_SEÑAL_ENTRADA]],\n",
    "                                        columns=['Precio_Entrada','Tiempo_Entrada','Precio_Salida','Tiempo_Salida','Perdida','Método','param_1','param_2','param_3','param_4','param_5','param_6','param_7','param_8','param_9','param_10','param_11'])\n",
    "                    if os.path.exists(path+f'trades_perdidos_{pair}.csv'):\n",
    "                        trade_log.to_csv(path+f'trades_perdidos_{pair}.csv',\n",
    "                                        mode='a',\n",
    "                                        index=False,\n",
    "                                        header=False\n",
    "                                        )\n",
    "                    else:\n",
    "                        trade_log.to_csv(path+f'trades_perdidos_{pair}.csv',\n",
    "                                        index=False,\n",
    "                                        header=True,\n",
    "                                        )\n",
    "                        \n",
    "                continue\n",
    "\n",
    "##############  SEÑALES DE VENTA EN CASO DE TENER GANANCIAS.\n",
    "\n",
    "        else:\n",
    "\n",
    "#############  La primera señal se enfoca en no perder todas las ganancias, en caso de existir ganancias. Se permite una pérdida\n",
    "#############  del 50% de la ganancia máxima.\n",
    "\n",
    "            if (df['Precio'][-1] - float(buy_order['fills'][0]['price']))/float(buy_order['fills'][0]['price']) > UMBRAL_GANANCIA_1G:\n",
    "\n",
    "                ganancia_actual = (df['Precio'][-1] - float(buy_order['fills'][0]['price']))\n",
    "\n",
    "                if ganancia_actual >= ganancia_maxima:\n",
    "                    ganancia_maxima = ganancia_actual\n",
    "                else:\n",
    "                    if (ganancia_actual/ganancia_maxima - 1) < - 0.24: \n",
    "                        sell_order = client.create_order(\n",
    "                                symbol=PAIR,\n",
    "                                side=Client.SIDE_SELL,\n",
    "                                type=Client.ORDER_TYPE_MARKET,\n",
    "                                quantity=0.1\n",
    "                            )\n",
    "                        tiempo_salida = datetime.utcnow()\n",
    "                        precio_salida = float(sell_order['fills'][0]['price'])\n",
    "                        sell_id = sell_order['orderId']\n",
    "                        balance = (precio_salida - precio_entrada)\n",
    "\n",
    "                        tiempos_salida.append(tiempos_salida)\n",
    "                        precios_salida.append(precio_salida)\n",
    "                        sell_ids.append(sell_id)\n",
    "                        balances.append(balance*0.1)\n",
    "                        print(f'Se realizó una venta al precio: {precio_salida}, en el momento: {tiempo_salida}. Método 1 en ganancia.')\n",
    "                        if balance>0:\n",
    "                            print('La ganancia fue de:', (balance)*0.1, 'dólares')\n",
    "                            trade_log = pd.DataFrame([[precio_entrada, tiempo_entrada, precio_salida, tiempo_salida, (balance)*0.1,'1G',LOCALIDAD_SEÑAL_ENTRADA,PENDIENTE_ENTRADA,UMBRAL_PERDIDA_1P,UMBRAL_GANANCIA_1G,UMBRAL_GANANCIA_3G,UMBRAL_GANANCIA_4G,UMBRAL_MAXIMO_2G,UMBRAL_MINIMO_2G,LOCALIDAD_SEÑAL_SALIDA_2G,LIMITE_TIEMPO_POSITIVO_4G,DIFF_SEÑAL_ENTRADA]],\n",
    "                                        columns=['Precio_Entrada','Tiempo_Entrada','Precio_Salida','Tiempo_Salida','Ganancia','Método','param_1','param_2','param_3','param_4','param_5','param_6','param_7','param_8','param_9','param_10','param_11'])\n",
    "                            if os.path.exists(path+f'trades_ganados_{pair}.csv'):\n",
    "                                trade_log.to_csv(path+f'trades_ganados_{pair}.csv',\n",
    "                                                mode='a',\n",
    "                                                index=False,\n",
    "                                                header=False\n",
    "                                                )\n",
    "                            else:\n",
    "                                trade_log.to_csv(path+f'trades_ganados_{pair}.csv',\n",
    "                                                index=False,\n",
    "                                                header=True,\n",
    "                                                )\n",
    "                        elif balance==0:\n",
    "                            print('No hubo pérdidas ni ganancias del trade')\n",
    "                        elif balance<0:\n",
    "                            print('La pérdida fue de:', (balance)*0.1, 'dólares')\n",
    "                            trade_log = pd.DataFrame([[precio_entrada, tiempo_entrada, precio_salida, tiempo_salida, (balance)*0.1,'1G',LOCALIDAD_SEÑAL_ENTRADA,PENDIENTE_ENTRADA,UMBRAL_PERDIDA_1P,UMBRAL_GANANCIA_1G,UMBRAL_GANANCIA_3G,UMBRAL_GANANCIA_4G,UMBRAL_MAXIMO_2G,UMBRAL_MINIMO_2G,LOCALIDAD_SEÑAL_SALIDA_2G,LIMITE_TIEMPO_POSITIVO_4G,DIFF_SEÑAL_ENTRADA]],\n",
    "                                        columns=['Precio_Entrada','Tiempo_Entrada','Precio_Salida','Tiempo_Salida','Perdida','Método','param_1','param_2','param_3','param_4','param_5','param_6','param_7','param_8','param_9','param_10','param_11'])\n",
    "                            if os.path.exists(path+f'trades_perdidos_{pair}.csv'):\n",
    "                                trade_log.to_csv(path+f'trades_perdidos_{pair}.csv',\n",
    "                                                mode='a',\n",
    "                                                index=False,\n",
    "                                                header=False\n",
    "                                                )\n",
    "                            else:\n",
    "                                trade_log.to_csv(path+f'trades_perdidos_{pair}.csv',\n",
    "                                                index=False,\n",
    "                                                header=True,\n",
    "                                                )\n",
    "                continue\n",
    "\n",
    "#############  La segunda señal se enfoca en vender en caso de alcanzar ganancias mínimas del 0.07% y a la vez se da una señal\n",
    "#############  de venta.        \n",
    "\n",
    "            if (df['Precio'][-1] - float(buy_order['fills'][0]['price']))/float(buy_order['fills'][0]['price']) <= UMBRAL_MAXIMO_2G and (df['Precio'][-1] - float(buy_order['fills'][0]['price']))/float(buy_order['fills'][0]['price']) > UMBRAL_MINIMO_2G and (datetime.utcnow() - sellprices.index[-1]).total_seconds() < LOCALIDAD_SEÑAL_SALIDA_2G:\n",
    "                sell_order = client.create_order(\n",
    "                            symbol=PAIR,\n",
    "                            side=Client.SIDE_SELL,\n",
    "                            type=Client.ORDER_TYPE_MARKET,\n",
    "                            quantity=0.1\n",
    "                        )\n",
    "                tiempo_salida = datetime.utcnow()\n",
    "                precio_salida = float(sell_order['fills'][0]['price'])\n",
    "                sell_id = sell_order['orderId']\n",
    "                balance = (precio_salida - precio_entrada)\n",
    "                \n",
    "                tiempos_salida.append(tiempos_salida)\n",
    "                precios_salida.append(precio_salida)\n",
    "                sell_ids.append(sell_id)\n",
    "                balances.append(balance*0.1)\n",
    "                print(f'Se realizó una venta al precio: {precio_salida}, en el momento: {tiempo_salida}.  Método 2 en ganancia.')\n",
    "                if balance>0:\n",
    "                    print('La ganancia fue de:', (balance)*0.1, 'dólares')\n",
    "                    trade_log = pd.DataFrame([[precio_entrada, tiempo_entrada, precio_salida, tiempo_salida, (balance)*0.1,'2G',LOCALIDAD_SEÑAL_ENTRADA,PENDIENTE_ENTRADA,UMBRAL_PERDIDA_1P,UMBRAL_GANANCIA_1G,UMBRAL_GANANCIA_3G,UMBRAL_GANANCIA_4G,UMBRAL_MAXIMO_2G,UMBRAL_MINIMO_2G,LOCALIDAD_SEÑAL_SALIDA_2G,LIMITE_TIEMPO_POSITIVO_4G,DIFF_SEÑAL_ENTRADA]],\n",
    "                                        columns=['Precio_Entrada','Tiempo_Entrada','Precio_Salida','Tiempo_Salida','Ganancia','Método','param_1','param_2','param_3','param_4','param_5','param_6','param_7','param_8','param_9','param_10','param_11'])\n",
    "                    if os.path.exists(path+f'trades_ganados_{pair}.csv'):\n",
    "                        trade_log.to_csv(path+f'trades_ganados_{pair}.csv',\n",
    "                                        mode='a',\n",
    "                                        index=False,\n",
    "                                        header=False\n",
    "                                        )\n",
    "                    else:\n",
    "                        trade_log.to_csv(path+f'trades_ganados_{pair}.csv',\n",
    "                                        index=False,\n",
    "                                        header=True,\n",
    "                                        )\n",
    "                elif balance==0:\n",
    "                    print('No hubo pérdidas ni ganancias del trade')\n",
    "                elif balance<0:\n",
    "                    print('La pérdida fue de:', (balance)*0.1, 'dólares')\n",
    "                    trade_log = pd.DataFrame([[precio_entrada, tiempo_entrada, precio_salida, tiempo_salida, (balance)*0.1,'2G',LOCALIDAD_SEÑAL_ENTRADA,PENDIENTE_ENTRADA,UMBRAL_PERDIDA_1P,UMBRAL_GANANCIA_1G,UMBRAL_GANANCIA_3G,UMBRAL_GANANCIA_4G,UMBRAL_MAXIMO_2G,UMBRAL_MINIMO_2G,LOCALIDAD_SEÑAL_SALIDA_2G,LIMITE_TIEMPO_POSITIVO_4G,DIFF_SEÑAL_ENTRADA]],\n",
    "                                        columns=['Precio_Entrada','Tiempo_Entrada','Precio_Salida','Tiempo_Salida','Perdida','Método','param_1','param_2','param_3','param_4','param_5','param_6','param_7','param_8','param_9','param_10','param_11'])\n",
    "                    if os.path.exists(path+f'trades_perdidos_{pair}.csv'):\n",
    "                        trade_log.to_csv(path+f'trades_perdidos_{pair}.csv',\n",
    "                                        mode='a',\n",
    "                                        index=False,\n",
    "                                        header=False\n",
    "                                        )\n",
    "                    else:\n",
    "                        trade_log.to_csv(path+f'trades_perdidos_{pair}.csv',\n",
    "                                        index=False,\n",
    "                                        header=True,\n",
    "                                    )\n",
    "                continue\n",
    "                \n",
    "#############  La tercer señal se enfoca en vender en caso de alcanzar ganancias máximas del 1.4%\n",
    "\n",
    "            if (df['Precio'][-1] - float(buy_order['fills'][0]['price']))/float(buy_order['fills'][0]['price']) > UMBRAL_GANANCIA_3G:\n",
    "                sell_order = client.create_order(\n",
    "                            symbol=PAIR,\n",
    "                            side=Client.SIDE_SELL,\n",
    "                            type=Client.ORDER_TYPE_MARKET,\n",
    "                            quantity=0.1\n",
    "                        )\n",
    "                tiempo_salida = datetime.utcnow()\n",
    "                precio_salida = float(sell_order['fills'][0]['price'])\n",
    "                sell_id = sell_order['orderId']\n",
    "                balance = (precio_salida - precio_entrada)\n",
    "\n",
    "                tiempos_salida.append(tiempos_salida)\n",
    "                precios_salida.append(precio_salida)\n",
    "                sell_ids.append(sell_id)\n",
    "                balances.append(balance*0.1)\n",
    "                print(f'Se realizó una venta al precio: {precio_salida}, en el momento: {tiempo_salida}. Método 3 en ganancia.')\n",
    "                if balance>0:\n",
    "                    print('La ganancia fue de:', (balance)*0.1, 'dólares')\n",
    "                    trade_log = pd.DataFrame([[precio_entrada, tiempo_entrada, precio_salida, tiempo_salida, (balance)*0.1,'3G',LOCALIDAD_SEÑAL_ENTRADA,PENDIENTE_ENTRADA,UMBRAL_PERDIDA_1P,UMBRAL_GANANCIA_1G,UMBRAL_GANANCIA_3G,UMBRAL_GANANCIA_4G,UMBRAL_MAXIMO_2G,UMBRAL_MINIMO_2G,LOCALIDAD_SEÑAL_SALIDA_2G,LIMITE_TIEMPO_POSITIVO_4G,DIFF_SEÑAL_ENTRADA]],\n",
    "                                        columns=['Precio_Entrada','Tiempo_Entrada','Precio_Salida','Tiempo_Salida','Ganancia','Método','param_1','param_2','param_3','param_4','param_5','param_6','param_7','param_8','param_9','param_10','param_11'])\n",
    "                    if os.path.exists(path+f'trades_ganados_{pair}.csv'):\n",
    "                        trade_log.to_csv(path+f'trades_ganados_{pair}.csv',\n",
    "                                        mode='a',\n",
    "                                        index=False,\n",
    "                                        header=False\n",
    "                                        )\n",
    "                    else:\n",
    "                        trade_log.to_csv(path+f'trades_ganados_{pair}.csv',\n",
    "                                        index=False,\n",
    "                                        header=True,\n",
    "                                        )\n",
    "                elif balance==0:\n",
    "                    print('No hubo pérdidas ni ganancias del trade')\n",
    "                elif balance<0:\n",
    "                    print('La pérdida fue de:', (balance)*0.1, 'dólares')\n",
    "                    trade_log = pd.DataFrame([[precio_entrada, tiempo_entrada, precio_salida, tiempo_salida, (balance)*0.1,'3G',LOCALIDAD_SEÑAL_ENTRADA,PENDIENTE_ENTRADA,UMBRAL_PERDIDA_1P,UMBRAL_GANANCIA_1G,UMBRAL_GANANCIA_3G,UMBRAL_GANANCIA_4G,UMBRAL_MAXIMO_2G,UMBRAL_MINIMO_2G,LOCALIDAD_SEÑAL_SALIDA_2G,LIMITE_TIEMPO_POSITIVO_4G,DIFF_SEÑAL_ENTRADA]],\n",
    "                                        columns=['Precio_Entrada','Tiempo_Entrada','Precio_Salida','Tiempo_Salida','Perdida','Método','param_1','param_2','param_3','param_4','param_5','param_6','param_7','param_8','param_9','param_10','param_11'])\n",
    "                    if os.path.exists(path+f'trades_perdidos_{pair}.csv'):\n",
    "                        trade_log.to_csv(path+f'trades_perdidos_{pair}.csv',\n",
    "                                        mode='a',\n",
    "                                        index=False,\n",
    "                                        header=False\n",
    "                                        )\n",
    "                    else:\n",
    "                        trade_log.to_csv(path+f'trades_perdidos_{pair}.csv',\n",
    "                                        index=False,\n",
    "                                        header=True,\n",
    "                                    )\n",
    "                continue\n",
    "\n",
    "############# POR ÚLTIMO, VAMOS A GENERAR UNA VENTA SI EL TRADE ESTÁ EN GANANCIAS PERO NO SE HA VENDIDO DESPUÉS DE 10 MINUTOS.\n",
    "\n",
    "            if ((datetime.utcnow() - tiempo_entrada).total_seconds()/60) > LIMITE_TIEMPO_POSITIVO_4G and (df['Precio'][-1] - float(buy_order['fills'][0]['price']))/float(buy_order['fills'][0]['price']) > UMBRAL_GANANCIA_4G:\n",
    "                sell_order = client.create_order(\n",
    "                            symbol=PAIR,\n",
    "                            side=Client.SIDE_SELL,\n",
    "                            type=Client.ORDER_TYPE_MARKET,\n",
    "                            quantity=0.1\n",
    "                        )\n",
    "                tiempo_salida = datetime.utcnow()\n",
    "                precio_salida = float(sell_order['fills'][0]['price'])\n",
    "                sell_id = sell_order['orderId']\n",
    "                balance = (precio_salida - precio_entrada)\n",
    "\n",
    "                tiempos_salida.append(tiempos_salida)\n",
    "                precios_salida.append(precio_salida)\n",
    "                sell_ids.append(sell_id)\n",
    "                balances.append(balance*0.1)\n",
    "                print(f'Se realizó una venta al precio: {precio_salida}, en el momento: {tiempo_salida}. Método 4 en ganancia.')\n",
    "                if balance>0:\n",
    "                    print('La ganancia fue de:', (balance)*0.1, 'dólares')\n",
    "                    trade_log = pd.DataFrame([[precio_entrada, tiempo_entrada, precio_salida, tiempo_salida, (balance)*0.1,'4G',LOCALIDAD_SEÑAL_ENTRADA,PENDIENTE_ENTRADA,UMBRAL_PERDIDA_1P,UMBRAL_GANANCIA_1G,UMBRAL_GANANCIA_3G,UMBRAL_GANANCIA_4G,UMBRAL_MAXIMO_2G,UMBRAL_MINIMO_2G,LOCALIDAD_SEÑAL_SALIDA_2G,LIMITE_TIEMPO_POSITIVO_4G,DIFF_SEÑAL_ENTRADA]],\n",
    "                                        columns=['Precio_Entrada','Tiempo_Entrada','Precio_Salida','Tiempo_Salida','Ganancia','Método','param_1','param_2','param_3','param_4','param_5','param_6','param_7','param_8','param_9','param_10','param_11'])\n",
    "                    if os.path.exists(path+f'trades_ganados_{pair}.csv'):\n",
    "                        trade_log.to_csv(path+f'trades_ganados_{pair}.csv',\n",
    "                                        mode='a',\n",
    "                                        index=False,\n",
    "                                        header=False\n",
    "                                        )\n",
    "                    else:\n",
    "                        trade_log.to_csv(path+f'trades_ganados_{pair}.csv',\n",
    "                                        index=False,\n",
    "                                        header=True,\n",
    "                                        )\n",
    "                elif balance==0:\n",
    "                    print('No hubo pérdidas ni ganancias del trade')\n",
    "                elif balance<0:\n",
    "                    print('La pérdida fue de:', (balance)*0.1, 'dólares')\n",
    "                    trade_log = pd.DataFrame([[precio_entrada, tiempo_entrada, precio_salida, tiempo_salida, (balance)*0.1,'4G',LOCALIDAD_SEÑAL_ENTRADA,PENDIENTE_ENTRADA,UMBRAL_PERDIDA_1P,UMBRAL_GANANCIA_1G,UMBRAL_GANANCIA_3G,UMBRAL_GANANCIA_4G,UMBRAL_MAXIMO_2G,UMBRAL_MINIMO_2G,LOCALIDAD_SEÑAL_SALIDA_2G,LIMITE_TIEMPO_POSITIVO_4G,DIFF_SEÑAL_ENTRADA]],\n",
    "                                        columns=['Precio_Entrada','Tiempo_Entrada','Precio_Salida','Tiempo_Salida','Perdida','Método','param_1','param_2','param_3','param_4','param_5','param_6','param_7','param_8','param_9','param_10','param_11'])\n",
    "                    if os.path.exists(path+f'trades_perdidos_{pair}.csv'):\n",
    "                        trade_log.to_csv(path+f'trades_perdidos_{pair}.csv',\n",
    "                                        mode='a',\n",
    "                                        index=False,\n",
    "                                        header=False\n",
    "                                        )\n",
    "                    else:\n",
    "                        trade_log.to_csv(path+f'trades_perdidos_{pair}.csv',\n",
    "                                        index=False,\n",
    "                                        header=True,\n",
    "                                        )"
   ]
  },
  {
   "cell_type": "code",
   "execution_count": 34,
   "metadata": {},
   "outputs": [
    {
     "data": {
      "text/plain": [
       "-0.45999999999999364"
      ]
     },
     "execution_count": 34,
     "metadata": {},
     "output_type": "execute_result"
    }
   ],
   "source": [
    "sum(balances)"
   ]
  },
  {
   "cell_type": "code",
   "execution_count": 1,
   "metadata": {},
   "outputs": [
    {
     "ename": "NameError",
     "evalue": "name 'client' is not defined",
     "output_type": "error",
     "traceback": [
      "\u001b[1;31m---------------------------------------------------------------------------\u001b[0m",
      "\u001b[1;31mNameError\u001b[0m                                 Traceback (most recent call last)",
      "\u001b[1;32mc:\\Users\\tinma\\OneDrive\\Escritorio\\tradingbot\\estrategias_scripts\\testnet\\MACD_logicv1_BNB.ipynb Celda 6\u001b[0m in \u001b[0;36m1\n\u001b[1;32m----> <a href='vscode-notebook-cell:/c%3A/Users/tinma/OneDrive/Escritorio/tradingbot/estrategias_scripts/testnet/MACD_logicv1_BNB.ipynb#W5sZmlsZQ%3D%3D?line=0'>1</a>\u001b[0m client\u001b[39m.\u001b[39mget_account()\n",
      "\u001b[1;31mNameError\u001b[0m: name 'client' is not defined"
     ]
    }
   ],
   "source": [
    "client.get_account()"
   ]
  },
  {
   "cell_type": "code",
   "execution_count": 32,
   "metadata": {},
   "outputs": [
    {
     "data": {
      "text/plain": [
       "'SELL'"
      ]
     },
     "execution_count": 32,
     "metadata": {},
     "output_type": "execute_result"
    }
   ],
   "source": [
    "orders = client.get_all_orders(symbol='BNBUSDT')\n",
    "orders[-1]['side']"
   ]
  },
  {
   "cell_type": "code",
   "execution_count": 25,
   "metadata": {},
   "outputs": [],
   "source": [
    "order = client.create_order(\n",
    "    symbol='BNBUSDT',\n",
    "    side=Client.SIDE_BUY,\n",
    "    type=Client.ORDER_TYPE_MARKET,\n",
    "    quantity=0.1)"
   ]
  },
  {
   "cell_type": "code",
   "execution_count": 30,
   "metadata": {},
   "outputs": [],
   "source": [
    "order1 = client.create_order(\n",
    "    symbol='BNBUSDT',\n",
    "    side=Client.SIDE_SELL,\n",
    "    type=Client.ORDER_TYPE_MARKET,\n",
    "    quantity=0.1)"
   ]
  },
  {
   "cell_type": "code",
   "execution_count": 24,
   "metadata": {},
   "outputs": [
    {
     "data": {
      "text/plain": [
       "'231.08000000'"
      ]
     },
     "execution_count": 24,
     "metadata": {},
     "output_type": "execute_result"
    }
   ],
   "source": [
    "order['fills'][0]['price']"
   ]
  },
  {
   "cell_type": "code",
   "execution_count": 14,
   "metadata": {},
   "outputs": [
    {
     "data": {
      "text/plain": [
       "'234.40000000'"
      ]
     },
     "execution_count": 14,
     "metadata": {},
     "output_type": "execute_result"
    }
   ],
   "source": [
    "order1['fills'][0]['price']"
   ]
  }
 ],
 "metadata": {
  "kernelspec": {
   "display_name": "Python 3",
   "language": "python",
   "name": "python3"
  },
  "language_info": {
   "codemirror_mode": {
    "name": "ipython",
    "version": 3
   },
   "file_extension": ".py",
   "mimetype": "text/x-python",
   "name": "python",
   "nbconvert_exporter": "python",
   "pygments_lexer": "ipython3",
   "version": "3.10.8"
  },
  "orig_nbformat": 4
 },
 "nbformat": 4,
 "nbformat_minor": 2
}
