{
 "cells": [
  {
   "cell_type": "code",
   "execution_count": 1,
   "metadata": {},
   "outputs": [],
   "source": [
    "from binance import Client\n",
    "client = Client(api_key=\"VQaW84v81fvM6b0z2cG97q0FBGK0VDVNYZGxPlMYkL1caao8u7lSrSWxeE5c6NKq\",api_secret=\"9XgnO5nds9V8UVw5O8D0J6NHNPqL4ojj5t3FxZs7xqc8sd8MwEt44QshkT3W9auM\",tld='com')\n",
    "\n",
    "import os\n",
    "from google.cloud.sql.connector import Connector\n",
    "from sqlalchemy import create_engine, text\n",
    "import pg8000.native\n",
    "import pandas as pd\n",
    "from time import sleep\n",
    "\n",
    "os.environ['GOOGLE_APPLICATION_CREDENTIALS'] = 'C:/Users/tinma/OneDrive/Escritorio/application_default_credentials.json'\n",
    "\n",
    "connector = Connector()\n",
    "\n",
    "def getconn() -> pg8000.native.Connection:\n",
    "    conn: pg8000.native.Connection = connector.connect(\n",
    "        \"semiotic-pact-388619:us-central1:tradingbot\",\n",
    "        \"pg8000\",\n",
    "        user=\"postgres\",\n",
    "        password=\"GuruSat.3\",\n",
    "        db=\"criptos\"\n",
    "    )\n",
    "    return conn\n",
    "\n",
    "connection = create_engine('postgresql+pg8000://',creator=getconn)\n",
    "\n",
    "def MACD(df):\n",
    "    df['EMA12'] = df.Precio.ewm(span=12).mean()\n",
    "    df['EMA26'] = df.Precio.ewm(span=26).mean()\n",
    "    df['MACD'] = df.EMA12 - df.EMA26\n",
    "    df['Signal'] = df.MACD.ewm(span=9).mean()\n",
    "    df['Histogram'] = df.MACD - df.Signal\n",
    "    # print('Indicadores agregados')\n",
    "\n",
    "def señal_MACD(df):\n",
    "    buy, sell = [],[]\n",
    "    for i in range(7,len(df)):\n",
    "        if df.Histogram.iloc[i] > 0 and df.Histogram.iloc[i-1] < 0:\n",
    "            buy.append(i)\n",
    "        elif df.Histogram.iloc[i] < 0 and df.Histogram.iloc[i-1] > 0:\n",
    "            sell.append(i)\n",
    "    return buy, sell"
   ]
  },
  {
   "cell_type": "code",
   "execution_count": 2,
   "metadata": {},
   "outputs": [
    {
     "name": "stdout",
     "output_type": "stream",
     "text": [
      "entrada 18.292702\n",
      "salida 62.661702\n",
      "salida 5.956832\n",
      "entrada 7.28125\n",
      "salida 3.29425\n",
      "entrada 4.556352\n",
      "salida 3.851562\n",
      "entrada 4.948492\n",
      "salida 9.028322\n",
      "entrada 6.2745429999999995\n",
      "salida 4.829607\n",
      "entrada 8.749692\n",
      "entrada 33.235599\n",
      "salida 67.404599\n",
      "entrada 10.622012\n",
      "salida 13.415012\n",
      "entrada 3.623996\n",
      "salida 6.451996\n",
      "entrada 7.191167\n",
      "salida 3.918167\n",
      "entrada 6.827418\n",
      "entrada 4.715549\n",
      "salida 3.601549\n",
      "entrada 7.930704\n",
      "salida 7.801636\n",
      "entrada 4.597713\n",
      "entrada 6.225301\n",
      "salida 19.229301\n",
      "entrada 24.520565\n",
      "salida 3.123565\n",
      "entrada 22.692136\n",
      "salida 20.912136\n",
      "entrada 14.365193\n",
      "salida 33.478193\n",
      "entrada 26.471822\n",
      "salida 9.613822\n",
      "entrada 30.174725\n",
      "salida 8.267725\n",
      "entrada 5.599736\n",
      "salida 5.633301\n",
      "entrada 4.451172\n",
      "entrada 3.530155\n",
      "salida 2.708155\n",
      "entrada 8.103428\n",
      "salida 3.976428\n",
      "entrada 7.060095\n",
      "salida 6.555748\n",
      "entrada 7.923058\n",
      "salida 5.900058\n",
      "entrada 8.013418\n",
      "salida 7.324208\n",
      "entrada 6.964337\n",
      "salida 3.455748\n",
      "entrada 7.508432\n",
      "salida 6.817432\n",
      "entrada 4.503929\n",
      "salida 7.286774\n",
      "entrada 5.938744\n",
      "salida 4.816744\n",
      "entrada 8.611487\n",
      "salida 6.022487\n",
      "entrada 6.870546\n",
      "salida 7.656073\n",
      "entrada 5.651754\n",
      "salida 7.36997\n",
      "entrada 8.847468\n",
      "salida 6.979855\n",
      "entrada 7.617987\n",
      "salida 5.870721\n",
      "entrada 7.174405\n",
      "salida 3.263519\n",
      "salida 6.686755\n"
     ]
    }
   ],
   "source": [
    "from datetime import datetime,timedelta\n",
    "\n",
    "day = datetime.utcnow() - timedelta(1)\n",
    "PAIR = 'BTCTUSD'\n",
    "LOCALIDAD_SEÑAL_ENTRADA = 10\n",
    "x = 0\n",
    "y = 0\n",
    "\n",
    "while True:\n",
    "    with connection.connect() as conn:\n",
    "        df =conn.execute(text(\"\"\" SELECT * FROM \"{PAIR}\" WHERE \"Tiempo\" > '{day}' \"\"\".format(day=day,PAIR=PAIR))).mappings().all()\n",
    "    df = pd.DataFrame(df)[['Tiempo', 'Precio']].set_index('Tiempo')\n",
    "    df = df.sort_values(by='Tiempo')\n",
    "    MACD(df)\n",
    "    buy, sell = señal_MACD(df)\n",
    "\n",
    "    buy = df.Precio.iloc[buy]\n",
    "    sell = df.Precio.iloc[sell]\n",
    "    DIFF_SEÑAL_ENTRADA = (datetime.utcnow() - buy.index[-1]).total_seconds()\n",
    "    DIFF_SEÑAL_SALIDA = (datetime.utcnow() - sell.index[-1]).total_seconds()\n",
    "    if x != buy.index[-1]:\n",
    "        print('entrada', DIFF_SEÑAL_ENTRADA)\n",
    "        x=buy.index[-1]\n",
    "    if y != sell.index[-1]:\n",
    "        print('salida', DIFF_SEÑAL_SALIDA)\n",
    "        y=sell.index[-1]"
   ]
  },
  {
   "cell_type": "code",
   "execution_count": 123,
   "metadata": {},
   "outputs": [
    {
     "data": {
      "text/plain": [
       "Timestamp('2023-07-05 00:31:53.811000')"
      ]
     },
     "execution_count": 123,
     "metadata": {},
     "output_type": "execute_result"
    }
   ],
   "source": [
    "buy.index[-1]"
   ]
  },
  {
   "cell_type": "code",
   "execution_count": 3,
   "metadata": {},
   "outputs": [
    {
     "name": "stdout",
     "output_type": "stream",
     "text": [
      "192.168.0.215\n"
     ]
    }
   ],
   "source": [
    "import socket\n",
    "print(socket.gethostbyname(socket.gethostname()))"
   ]
  },
  {
   "cell_type": "code",
   "execution_count": 10,
   "metadata": {},
   "outputs": [
    {
     "data": {
      "text/plain": [
       "'43.9163194'"
      ]
     },
     "execution_count": 10,
     "metadata": {},
     "output_type": "execute_result"
    }
   ],
   "source": [
    "client.get_isolated_margin_account(symbols='BTCTUSD')['assets'][0]['quoteAsset']['free']"
   ]
  },
  {
   "cell_type": "code",
   "execution_count": 6,
   "metadata": {},
   "outputs": [
    {
     "data": {
      "text/plain": [
       "{'ipRestrict': True,\n",
       " 'createTime': 1688443776000,\n",
       " 'enableReading': True,\n",
       " 'enableSpotAndMarginTrading': True,\n",
       " 'enableWithdrawals': False,\n",
       " 'enableInternalTransfer': False,\n",
       " 'enableMargin': True,\n",
       " 'enableFutures': True,\n",
       " 'permitsUniversalTransfer': True,\n",
       " 'enableVanillaOptions': False}"
      ]
     },
     "execution_count": 6,
     "metadata": {},
     "output_type": "execute_result"
    }
   ],
   "source": [
    "client.get_account_api_permissions()"
   ]
  },
  {
   "cell_type": "code",
   "execution_count": 358,
   "metadata": {},
   "outputs": [
    {
     "name": "stdout",
     "output_type": "stream",
     "text": [
      "{'asset': 'USDT', 'borrowEnabled': True, 'borrowed': '0.00187876', 'free': '44.81296529', 'interest': '0', 'locked': '0', 'netAsset': '44.81108653', 'netAssetOfBtc': '0.00144874', 'repayEnabled': True, 'totalAsset': '44.81296529'}\n",
      "6.89e-06\n"
     ]
    }
   ],
   "source": [
    "info = client.get_isolated_margin_account()\n",
    "for i in range(len(info['assets'])):\n",
    "    if client.get_isolated_margin_account()['assets'][i]['baseAsset']['asset'] == 'BTC' and client.get_isolated_margin_account()['assets'][i]['quoteAsset']['asset'] == 'USDT':\n",
    "        print(client.get_isolated_margin_account()['assets'][1]['quoteAsset'])\n",
    "        x = float(client.get_isolated_margin_account()['assets'][1]['baseAsset']['free'])\n",
    "        print(x)"
   ]
  },
  {
   "cell_type": "code",
   "execution_count": 374,
   "metadata": {},
   "outputs": [
    {
     "data": {
      "text/plain": [
       "-0.016302000000003147"
      ]
     },
     "execution_count": 374,
     "metadata": {},
     "output_type": "execute_result"
    }
   ],
   "source": [
    "43.983698 - 44"
   ]
  },
  {
   "cell_type": "code",
   "execution_count": 14,
   "metadata": {},
   "outputs": [
    {
     "data": {
      "text/plain": [
       "43.983698"
      ]
     },
     "execution_count": 14,
     "metadata": {},
     "output_type": "execute_result"
    }
   ],
   "source": [
    "free = float(client.get_isolated_margin_account(symbols='BTCTUSD')['assets'][0]['quoteAsset']['free'])\n",
    "free\n",
    "# 44.81296529 "
   ]
  },
  {
   "cell_type": "code",
   "execution_count": 314,
   "metadata": {},
   "outputs": [
    {
     "data": {
      "text/html": [
       "<div>\n",
       "<style scoped>\n",
       "    .dataframe tbody tr th:only-of-type {\n",
       "        vertical-align: middle;\n",
       "    }\n",
       "\n",
       "    .dataframe tbody tr th {\n",
       "        vertical-align: top;\n",
       "    }\n",
       "\n",
       "    .dataframe thead th {\n",
       "        text-align: right;\n",
       "    }\n",
       "</style>\n",
       "<table border=\"1\" class=\"dataframe\">\n",
       "  <thead>\n",
       "    <tr style=\"text-align: right;\">\n",
       "      <th></th>\n",
       "      <th>asset</th>\n",
       "      <th>borrowEnabled</th>\n",
       "      <th>borrowed</th>\n",
       "      <th>free</th>\n",
       "      <th>interest</th>\n",
       "      <th>locked</th>\n",
       "      <th>netAsset</th>\n",
       "      <th>netAssetOfBtc</th>\n",
       "      <th>repayEnabled</th>\n",
       "      <th>totalAsset</th>\n",
       "    </tr>\n",
       "  </thead>\n",
       "  <tbody>\n",
       "    <tr>\n",
       "      <th>0</th>\n",
       "      <td>BNB</td>\n",
       "      <td>True</td>\n",
       "      <td>0</td>\n",
       "      <td>0.00082516</td>\n",
       "      <td>0</td>\n",
       "      <td>0</td>\n",
       "      <td>0.00082516</td>\n",
       "      <td>0.00000654</td>\n",
       "      <td>True</td>\n",
       "      <td>0.00082516</td>\n",
       "    </tr>\n",
       "  </tbody>\n",
       "</table>\n",
       "</div>"
      ],
      "text/plain": [
       "  asset  borrowEnabled borrowed        free interest locked    netAsset  \\\n",
       "0   BNB           True        0  0.00082516        0      0  0.00082516   \n",
       "\n",
       "  netAssetOfBtc  repayEnabled  totalAsset  \n",
       "0    0.00000654          True  0.00082516  "
      ]
     },
     "execution_count": 314,
     "metadata": {},
     "output_type": "execute_result"
    }
   ],
   "source": [
    "pd.DataFrame([info])"
   ]
  },
  {
   "cell_type": "code",
   "execution_count": 398,
   "metadata": {},
   "outputs": [
    {
     "data": {
      "text/plain": [
       "{'tranId': 139840937372, 'clientTag': ''}"
      ]
     },
     "execution_count": 398,
     "metadata": {},
     "output_type": "execute_result"
    }
   ],
   "source": [
    "client.create_margin_loan(symbol='BTCTUSD',asset='TUSD', amount=f'{155 - 43.97577754}',isIsolated='TRUE')"
   ]
  },
  {
   "cell_type": "code",
   "execution_count": 400,
   "metadata": {},
   "outputs": [
    {
     "data": {
      "text/plain": [
       "{'tranId': 139840970090, 'clientTag': ''}"
      ]
     },
     "execution_count": 400,
     "metadata": {},
     "output_type": "execute_result"
    }
   ],
   "source": [
    "client.repay_margin_loan(symbol='BTCTUSD',asset='TUSD', amount=f'{155 - 43.97577754}',isIsolated='TRUE')"
   ]
  },
  {
   "cell_type": "code",
   "execution_count": 262,
   "metadata": {},
   "outputs": [
    {
     "data": {
      "text/plain": [
       "{'ipRestrict': True,\n",
       " 'createTime': 1688443776000,\n",
       " 'enableSpotAndMarginTrading': True,\n",
       " 'enableWithdrawals': False,\n",
       " 'enableInternalTransfer': False,\n",
       " 'enableMargin': True,\n",
       " 'enableFutures': True,\n",
       " 'permitsUniversalTransfer': True,\n",
       " 'enableVanillaOptions': False,\n",
       " 'enableReading': True}"
      ]
     },
     "execution_count": 262,
     "metadata": {},
     "output_type": "execute_result"
    }
   ],
   "source": [
    "client.get_account_api_permissions()"
   ]
  },
  {
   "cell_type": "code",
   "execution_count": 20,
   "metadata": {},
   "outputs": [],
   "source": [
    "# client.create_margin_loan(symbol='BTCUSDT',asset='USDT', amount='310',isIsolated='TRUE')\n",
    "buy_order = client.create_margin_order(\n",
    "    symbol='BTCTUSD',\n",
    "    side=Client.SIDE_BUY,\n",
    "    type=Client.ORDER_TYPE_MARKET,\n",
    "    isIsolated='TRUE',\n",
    "    quantity=0.0009)"
   ]
  },
  {
   "cell_type": "code",
   "execution_count": 29,
   "metadata": {},
   "outputs": [
    {
     "data": {
      "text/plain": [
       "{'symbol': 'BTCTUSD',\n",
       " 'orderId': 1704166497,\n",
       " 'clientOrderId': 'U1p2phyamxFV7zaoaEk4j4',\n",
       " 'transactTime': 1688513648632,\n",
       " 'price': '0',\n",
       " 'origQty': '0.0009',\n",
       " 'executedQty': '0.0009',\n",
       " 'cummulativeQuoteQty': '27.728721',\n",
       " 'status': 'FILLED',\n",
       " 'timeInForce': 'GTC',\n",
       " 'type': 'MARKET',\n",
       " 'side': 'BUY',\n",
       " 'fills': [{'price': '30809.69',\n",
       "   'qty': '0.0009',\n",
       "   'commission': '0',\n",
       "   'commissionAsset': 'BNB',\n",
       "   'tradeId': 231541668}],\n",
       " 'isIsolated': True,\n",
       " 'selfTradePreventionMode': 'NONE'}"
      ]
     },
     "execution_count": 29,
     "metadata": {},
     "output_type": "execute_result"
    }
   ],
   "source": [
    "buy_order"
   ]
  },
  {
   "cell_type": "code",
   "execution_count": 21,
   "metadata": {},
   "outputs": [],
   "source": [
    "sell_order = client.create_margin_order(\n",
    "    symbol='BTCTUSD',\n",
    "    side=Client.SIDE_SELL,\n",
    "    type=Client.ORDER_TYPE_MARKET,\n",
    "    isIsolated='TRUE',\n",
    "    quantity=0.0009)\n",
    "client.repay_margin_loan(symbol='BTCUSDT',asset='USDT', amount='310',isIsolated='TRUE')"
   ]
  },
  {
   "cell_type": "code",
   "execution_count": 30,
   "metadata": {},
   "outputs": [
    {
     "data": {
      "text/plain": [
       "{'symbol': 'BTCTUSD',\n",
       " 'orderId': 1704166599,\n",
       " 'clientOrderId': '91GTqQ05S9QRgD37gNHIZp',\n",
       " 'transactTime': 1688513650136,\n",
       " 'price': '0',\n",
       " 'origQty': '0.0009',\n",
       " 'executedQty': '0.0009',\n",
       " 'cummulativeQuoteQty': '27.728019',\n",
       " 'status': 'FILLED',\n",
       " 'timeInForce': 'GTC',\n",
       " 'type': 'MARKET',\n",
       " 'side': 'SELL',\n",
       " 'fills': [{'price': '30808.91',\n",
       "   'qty': '0.0009',\n",
       "   'commission': '0',\n",
       "   'commissionAsset': 'BNB',\n",
       "   'tradeId': 231541672}],\n",
       " 'isIsolated': True,\n",
       " 'selfTradePreventionMode': 'NONE'}"
      ]
     },
     "execution_count": 30,
     "metadata": {},
     "output_type": "execute_result"
    }
   ],
   "source": [
    "sell_order"
   ]
  }
 ],
 "metadata": {
  "kernelspec": {
   "display_name": "Python 3",
   "language": "python",
   "name": "python3"
  },
  "language_info": {
   "codemirror_mode": {
    "name": "ipython",
    "version": 3
   },
   "file_extension": ".py",
   "mimetype": "text/x-python",
   "name": "python",
   "nbconvert_exporter": "python",
   "pygments_lexer": "ipython3",
   "version": "3.10.8"
  },
  "orig_nbformat": 4
 },
 "nbformat": 4,
 "nbformat_minor": 2
}
